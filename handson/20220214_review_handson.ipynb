{
 "cells": [
  {
   "cell_type": "code",
   "execution_count": 1,
   "metadata": {},
   "outputs": [],
   "source": [
    "import pandas as pd\n",
    "import numpy as np\n",
    "import matplotlib\n",
    "%matplotlib inline\n",
    "import matplotlib.pylab as plt\n",
    "import os\n",
    "import sys\n",
    "import glob\n",
    "import tqdm\n",
    "import random\n",
    "from itertools import cycle\n",
    "import warnings\n",
    "warnings.filterwarnings(action='ignore')\n",
    "\n",
    "import wfdb\n",
    "\n",
    "from sklearn.metrics import roc_auc_score, roc_curve, classification_report, auc\n",
    "from sklearn.preprocessing import label_binarize"
   ]
  },
  {
   "cell_type": "code",
   "execution_count": 2,
   "metadata": {},
   "outputs": [
    {
     "name": "stdout",
     "output_type": "stream",
     "text": [
      "['100.atr', '100.dat', '100.hea', '100.xws', '101.atr', '101.dat', '101.hea', '101.xws', '102-0.atr', '102.atr', '102.dat', '102.hea', '102.xws', '103.atr', '103.dat', '103.hea', '103.xws', '104.atr', '104.dat', '104.hea', '104.xws', '105.atr', '105.dat', '105.hea', '105.xws', '106.atr', '106.dat', '106.hea', '106.xws', '107.atr', '107.dat', '107.hea', '107.xws', '108.atr', '108.at_', '108.dat', '108.hea', '108.xws', '109.atr', '109.dat', '109.hea', '109.xws', '111.atr', '111.dat', '111.hea', '111.xws', '112.atr', '112.dat', '112.hea', '112.xws', '113.atr', '113.dat', '113.hea', '113.xws', '114.atr', '114.dat', '114.hea', '114.xws', '115.atr', '115.dat', '115.hea', '115.xws', '116.atr', '116.dat', '116.hea', '116.xws', '117.atr', '117.at_', '117.dat', '117.hea', '117.xws', '118.atr', '118.dat', '118.hea', '118.xws', '119.atr', '119.at_', '119.dat', '119.hea', '119.xws', '121.atr', '121.dat', '121.hea', '121.xws', '122.atr', '122.dat', '122.hea', '122.xws', '123.atr', '123.dat', '123.hea', '123.xws', '124.atr', '124.dat', '124.hea', '124.xws', '200.atr', '200.dat', '200.hea', '200.xws', '201.atr', '201.dat', '201.hea', '201.xws', '202.atr', '202.dat', '202.hea', '202.xws', '203.at-', '203.atr', '203.at_', '203.dat', '203.hea', '203.xws', '205.atr', '205.dat', '205.hea', '205.xws', '207.atr', '207.dat', '207.hea', '207.xws', '208.atr', '208.dat', '208.hea', '208.xws', '209.atr', '209.at_', '209.dat', '209.hea', '209.xws', '210.atr', '210.dat', '210.hea', '210.xws', '212.atr', '212.dat', '212.hea', '212.xws', '213.atr', '213.dat', '213.hea', '213.xws', '214.atr', '214.at_', '214.dat', '214.hea', '214.xws', '215.atr', '215.at_', '215.dat', '215.hea', '215.xws', '217.atr', '217.dat', '217.hea', '217.xws', '219.atr', '219.dat', '219.hea', '219.xws', '220.atr', '220.dat', '220.hea', '220.xws', '221.atr', '221.dat', '221.hea', '221.xws', '222.atr', '222.at_', '222.dat', '222.hea', '222.xws', '223.atr', '223.dat', '223.hea', '223.xws', '228.atr', '228.dat', '228.hea', '228.xws', '230.atr', '230.dat', '230.hea', '230.xws', '231.atr', '231.dat', '231.hea', '231.xws', '232.atr', '232.dat', '232.hea', '232.xws', '233.atr', '233.dat', '233.hea', '233.xws', '234.atr', '234.dat', '234.hea', '234.xws', 'ANNOTATORS', 'mitdbdir', 'RECORDS', 'SHA256SUMS.txt', 'x_mitdb']\n"
     ]
    }
   ],
   "source": [
    "# datapath\n",
    "datapath = r'C:\\Users\\MI2RL-KHJ\\2022_Project\\Signal\\mit-bih-arrhythmia-database-1.0.0'\n",
    "# mimic dataset 파일 구성: hea, atr, dat, xws\n",
    "print(os.listdir(datapath))"
   ]
  },
  {
   "cell_type": "code",
   "execution_count": 3,
   "metadata": {},
   "outputs": [],
   "source": [
    "header_files = [os.path.basename(x) for x in glob.glob(os.path.join(datapath, '*.hea'))]\n",
    "pids = sorted([x.split('.')[0] for x in header_files])"
   ]
  },
  {
   "cell_type": "code",
   "execution_count": 4,
   "metadata": {},
   "outputs": [],
   "source": [
    "# annotation 파일 불러와서 label의 분포 확인\n",
    "df = pd.DataFrame()\n",
    "\n",
    "for pid in pids:\n",
    "    file = os.path.join(datapath, pid)\n",
    "    annotation = wfdb.rdann(os.path.join(file), 'atr')\n",
    "    symbols = annotation.symbol\n",
    "    \n",
    "    values, cnts = np.unique(symbols, return_counts=True)\n",
    "    df_sub = pd.DataFrame({'symbol': values, 'value': cnts, 'pid':[pid] * len(cnts)})\n",
    "    df = pd.concat([df, df_sub], axis=0)"
   ]
  },
  {
   "cell_type": "code",
   "execution_count": 5,
   "metadata": {},
   "outputs": [
    {
     "data": {
      "text/plain": [
       "symbol\n",
       "N    75052\n",
       "L     8075\n",
       "R     7259\n",
       "V     7130\n",
       "/     7028\n",
       "A     2546\n",
       "+     1291\n",
       "f      982\n",
       "F      803\n",
       "~      616\n",
       "!      472\n",
       "\"      437\n",
       "j      229\n",
       "x      193\n",
       "a      150\n",
       "|      132\n",
       "E      106\n",
       "J       83\n",
       "Q       33\n",
       "e       16\n",
       "[        6\n",
       "]        6\n",
       "S        2\n",
       "Name: value, dtype: int64"
      ]
     },
     "execution_count": 5,
     "metadata": {},
     "output_type": "execute_result"
    }
   ],
   "source": [
    "# Annotation 파일의 분포\n",
    "df.groupby('symbol').value.sum().sort_values(ascending = False)"
   ]
  },
  {
   "cell_type": "code",
   "execution_count": 7,
   "metadata": {},
   "outputs": [],
   "source": [
    "# list of nonbeat and abnormal\n",
    "nonbeat = ['[','!',']','x','(',')','p','t','u','`',\n",
    "           '\\'','^','|','~','+','s','T','*','D','=','\"','@','Q','?']\n",
    "abnormal = ['L','R','V','/','A','f','F','j','a','E','J','e','S']"
   ]
  },
  {
   "cell_type": "code",
   "execution_count": 8,
   "metadata": {},
   "outputs": [],
   "source": [
    "# normal, abnormal, nonbeat의 비율 구성 확인\n",
    "df['type'] = -1 # nonbeat\n",
    "df.loc[df.symbol == 'N', 'type'] = 0 # normal\n",
    "df.loc[df.symbol.isin(abnormal), 'type'] = 1 # abnormal"
   ]
  },
  {
   "cell_type": "code",
   "execution_count": 9,
   "metadata": {},
   "outputs": [],
   "source": [
    "df['type2'] = 'Non-beat' # nonbeat\n",
    "df.loc[df.symbol == 'N', 'type2'] = 'Normal' # normal\n",
    "df.loc[df.symbol.isin(abnormal), 'type2'] = 'Abnormal' # abnormal"
   ]
  },
  {
   "cell_type": "code",
   "execution_count": 10,
   "metadata": {},
   "outputs": [
    {
     "data": {
      "text/plain": [
       "type2\n",
       "Abnormal    34409\n",
       "Non-beat     3186\n",
       "Normal      75052\n",
       "Name: value, dtype: int64"
      ]
     },
     "execution_count": 10,
     "metadata": {},
     "output_type": "execute_result"
    }
   ],
   "source": [
    "df.groupby('type2').value.sum()"
   ]
  },
  {
   "cell_type": "code",
   "execution_count": 11,
   "metadata": {},
   "outputs": [
    {
     "data": {
      "text/html": [
       "<div>\n",
       "<style scoped>\n",
       "    .dataframe tbody tr th:only-of-type {\n",
       "        vertical-align: middle;\n",
       "    }\n",
       "\n",
       "    .dataframe tbody tr th {\n",
       "        vertical-align: top;\n",
       "    }\n",
       "\n",
       "    .dataframe thead th {\n",
       "        text-align: right;\n",
       "    }\n",
       "</style>\n",
       "<table border=\"1\" class=\"dataframe\">\n",
       "  <thead>\n",
       "    <tr style=\"text-align: right;\">\n",
       "      <th></th>\n",
       "      <th>symbol</th>\n",
       "      <th>value</th>\n",
       "      <th>pid</th>\n",
       "      <th>type</th>\n",
       "      <th>type2</th>\n",
       "    </tr>\n",
       "  </thead>\n",
       "  <tbody>\n",
       "    <tr>\n",
       "      <th>0</th>\n",
       "      <td>+</td>\n",
       "      <td>1</td>\n",
       "      <td>100</td>\n",
       "      <td>-1</td>\n",
       "      <td>Non-beat</td>\n",
       "    </tr>\n",
       "    <tr>\n",
       "      <th>1</th>\n",
       "      <td>A</td>\n",
       "      <td>33</td>\n",
       "      <td>100</td>\n",
       "      <td>1</td>\n",
       "      <td>Abnormal</td>\n",
       "    </tr>\n",
       "    <tr>\n",
       "      <th>2</th>\n",
       "      <td>N</td>\n",
       "      <td>2239</td>\n",
       "      <td>100</td>\n",
       "      <td>0</td>\n",
       "      <td>Normal</td>\n",
       "    </tr>\n",
       "    <tr>\n",
       "      <th>3</th>\n",
       "      <td>V</td>\n",
       "      <td>1</td>\n",
       "      <td>100</td>\n",
       "      <td>1</td>\n",
       "      <td>Abnormal</td>\n",
       "    </tr>\n",
       "    <tr>\n",
       "      <th>0</th>\n",
       "      <td>+</td>\n",
       "      <td>1</td>\n",
       "      <td>101</td>\n",
       "      <td>-1</td>\n",
       "      <td>Non-beat</td>\n",
       "    </tr>\n",
       "    <tr>\n",
       "      <th>...</th>\n",
       "      <td>...</td>\n",
       "      <td>...</td>\n",
       "      <td>...</td>\n",
       "      <td>...</td>\n",
       "      <td>...</td>\n",
       "    </tr>\n",
       "    <tr>\n",
       "      <th>0</th>\n",
       "      <td>+</td>\n",
       "      <td>3</td>\n",
       "      <td>234</td>\n",
       "      <td>-1</td>\n",
       "      <td>Non-beat</td>\n",
       "    </tr>\n",
       "    <tr>\n",
       "      <th>1</th>\n",
       "      <td>J</td>\n",
       "      <td>50</td>\n",
       "      <td>234</td>\n",
       "      <td>1</td>\n",
       "      <td>Abnormal</td>\n",
       "    </tr>\n",
       "    <tr>\n",
       "      <th>2</th>\n",
       "      <td>N</td>\n",
       "      <td>2700</td>\n",
       "      <td>234</td>\n",
       "      <td>0</td>\n",
       "      <td>Normal</td>\n",
       "    </tr>\n",
       "    <tr>\n",
       "      <th>3</th>\n",
       "      <td>V</td>\n",
       "      <td>3</td>\n",
       "      <td>234</td>\n",
       "      <td>1</td>\n",
       "      <td>Abnormal</td>\n",
       "    </tr>\n",
       "    <tr>\n",
       "      <th>4</th>\n",
       "      <td>~</td>\n",
       "      <td>8</td>\n",
       "      <td>234</td>\n",
       "      <td>-1</td>\n",
       "      <td>Non-beat</td>\n",
       "    </tr>\n",
       "  </tbody>\n",
       "</table>\n",
       "<p>283 rows × 5 columns</p>\n",
       "</div>"
      ],
      "text/plain": [
       "   symbol  value  pid  type     type2\n",
       "0       +      1  100    -1  Non-beat\n",
       "1       A     33  100     1  Abnormal\n",
       "2       N   2239  100     0    Normal\n",
       "3       V      1  100     1  Abnormal\n",
       "0       +      1  101    -1  Non-beat\n",
       "..    ...    ...  ...   ...       ...\n",
       "0       +      3  234    -1  Non-beat\n",
       "1       J     50  234     1  Abnormal\n",
       "2       N   2700  234     0    Normal\n",
       "3       V      3  234     1  Abnormal\n",
       "4       ~      8  234    -1  Non-beat\n",
       "\n",
       "[283 rows x 5 columns]"
      ]
     },
     "execution_count": 11,
     "metadata": {},
     "output_type": "execute_result"
    }
   ],
   "source": [
    "df"
   ]
  },
  {
   "cell_type": "markdown",
   "metadata": {},
   "source": [
    "###"
   ]
  },
  {
   "cell_type": "markdown",
   "metadata": {
    "tags": []
   },
   "source": [
    "#### Define ECG data loading funcdtion"
   ]
  },
  {
   "cell_type": "markdown",
   "metadata": {},
   "source": [
    "- wfdb 패키지를 이용하여 ECG waveform과 annotation을 불러올 수 있는 함수를 정의합니다.\n",
    "- rdrecord 함수를 이용하여 raw signal 데이터를 불러옵니다\n",
    "- rdann 함수를 이용하여 annotation 데이터의 symbol 과 symbol의 index를 불러옵니다."
   ]
  },
  {
   "cell_type": "code",
   "execution_count": 12,
   "metadata": {},
   "outputs": [],
   "source": [
    "# load single patient's ecg signal and annotation\n",
    "def load_ecg(file):\n",
    "    \"\"\"\n",
    "    wfdb.rdrecord 를 이용해서 ecg 파일을 읽어옵니다.\n",
    "    \"\"\"\n",
    "    \n",
    "    # load the ecg\n",
    "    record = wfdb.rdrecord(file)\n",
    "    # load the annotation\n",
    "    annotation = wfdb.rdann(file, 'atr')\n",
    "    \n",
    "    # extract the signal\n",
    "    p_signal = record.p_signal\n",
    "    \n",
    "    # verify frequency is 360\n",
    "    assert record.fs == 360, 'sample freq is not 360'\n",
    "    \n",
    "    # extract symbols and annotation index\n",
    "    atr_sym = annotation.symbol\n",
    "    atr_index = annotation.sample\n",
    "    \n",
    "    return p_signal, atr_sym, atr_index"
   ]
  },
  {
   "cell_type": "markdown",
   "metadata": {},
   "source": [
    "예시로 신호 데이터의 일부를 plotting 해보면 다음과 같습니다.\n",
    "여기서, 각 변수는 다음을 의미합니다.\n",
    "- p_signal = raw ecg signal\n",
    "- atr_sym = annotation symbol\n",
    "- atr_sample = annotation index"
   ]
  },
  {
   "cell_type": "code",
   "execution_count": 11,
   "metadata": {},
   "outputs": [
    {
     "data": {
      "text/plain": [
       "[<matplotlib.lines.Line2D at 0x204e05e3d30>]"
      ]
     },
     "execution_count": 11,
     "metadata": {},
     "output_type": "execute_result"
    },
    {
     "data": {
      "image/png": "[encoded data removed]",
      "text/plain": [
       "<Figure size 432x288 with 1 Axes>"
      ]
     },
     "metadata": {
      "needs_background": "light"
     },
     "output_type": "display_data"
    }
   ],
   "source": [
    "file = os.path.join(datapath, pids[0])\n",
    "p_signal, atr_sym, atr_sample = load_ecg(file)\n",
    "plt.plot(p_signal[1000:2000, 0])"
   ]
  },
  {
   "cell_type": "markdown",
   "metadata": {},
   "source": [
    "이 환자 케이스에서 가지고 있는 annotation을 살펴보면 다음과 같습니다."
   ]
  },
  {
   "cell_type": "code",
   "execution_count": 13,
   "metadata": {},
   "outputs": [],
   "source": [
    "file = os.path.join(datapath, pids[0])\n",
    "p_signal, atr_sym, atr_sample = load_ecg(file)"
   ]
  },
  {
   "cell_type": "markdown",
   "metadata": {},
   "source": [
    "------"
   ]
  },
  {
   "cell_type": "markdown",
   "metadata": {},
   "source": [
    "### 3. Preparing dataset for deep learning"
   ]
  },
  {
   "cell_type": "markdown",
   "metadata": {},
   "source": [
    "#### 3-1. Define functions to build dataset for deep learning"
   ]
  },
  {
   "cell_type": "markdown",
   "metadata": {},
   "source": [
    "- 이제 본격적으로 딥러닝에 사용할 데이터셋을 구축 해보겠습니다.\n",
    "- 데이터셋 구축 방법은 딥러닝 모델의 구조와 추후 모델 활용 방식에 따라 여러가지가 있을 수 있습니다.\n",
    "- 본 강의에서는 n초의 raw signal waveform내에 arrhythmia를 포함하는지 아닌지를 detect 할 수 있는 딥러닝 모델을 만들어 보겠습니다.\n",
    "- annotation 된 index를 기준으로, 전 후 n/2초의 raw signal을 하나의 segment로 자르고 그에 상응하는 annotation symbol을 label로 지정하여 데이터셋을 구축하겠습니다."
   ]
  },
  {
   "cell_type": "markdown",
   "metadata": {},
   "source": [
    "- 우선 non-beat annotation을 제외하고 normal symbol과 abnormal symbol의 index만 추출합니다.\n",
    "- 추출된 annotation index를 기준으로 순회하며 abnormal symbol인 경우는 Y 값에 1을 할당하고, normal beat는 0을 할당합니다.\n",
    "- 또한 대응되는 annotation symbol을 별도로 추출하여 symbol값에 할당합니다."
   ]
  },
  {
   "cell_type": "code",
   "execution_count": 40,
   "metadata": {},
   "outputs": [],
   "source": [
    "def build_dataset(pids, window_size, freq, abnormal):\n",
    "    \"\"\"\n",
    "    딥러닝 모델 학습을 위한 데이터를 구축합니다.\n",
    "    \"\"\"\n",
    "    ncols = window_size * freq\n",
    "    X_merged = np.zeros((1, ncols))\n",
    "    Y_merged = np.zeros((1,1))\n",
    "    symbol_merged = []\n",
    "    \n",
    "    rows_per_pid = []\n",
    "    \n",
    "    for pid in tqdm.tqdm(pids):\n",
    "        \n",
    "        filename = os.path.join(datapath, pid)\n",
    "        # filename = datapath + pid\n",
    "        p_signal, atr_sym, atr_sample = load_ecg(filename)\n",
    "        \n",
    "        p_signal = p_signal[:,0]  # LEAD II에 해당하는 data만 선택 \n",
    "        \n",
    "        # beat index (exclude non-beat)\n",
    "        beat_annotation_index = [x in (abnormal + ['N']) for x in atr_sym]\n",
    "        \n",
    "        X, Y, symbols = build_XY(signal=p_signal, \n",
    "                                 atr_sym = atr_sym, \n",
    "                                 atr_sample = atr_sample,\n",
    "                                 beat_index = beat_annotation_index, \n",
    "                                 nsec = window_size/2, \n",
    "                                 fs = freq,\n",
    "                                 ncols = ncols,\n",
    "                                 abnormal = abnormal)\n",
    "        \n",
    "        X_merged = np.append(X_merged, X, axis=0)\n",
    "        Y_merged = np.append(Y_merged, Y, axis=0)\n",
    "        symbol_merged = symbol_merged + symbols\n",
    "        rows_per_pid.append(Y.shape[0])\n",
    "        \n",
    "    # drop first zero rows\n",
    "    X_merged = X_merged[1:,:]\n",
    "    Y_merged = Y_merged[1:,:]\n",
    "    \n",
    "    # check sizes make sense\n",
    "    assert np.sum(rows_per_pid) == X_merged.shape[0], 'number of X, max_rows rows messed up'\n",
    "    assert Y_merged.shape[0] == X_merged.shape[0], 'number of X, Y rows messed up'\n",
    "    assert Y_merged.shape[0] == len(symbol_merged), 'number of Y, sym rows messed up'\n",
    "    \n",
    "    return X_merged, Y_merged, symbol_merged\n",
    "\n",
    "\n",
    "def build_XY(signal, atr_sym, atr_sample, beat_index, nsec, fs, ncols, abnormal):\n",
    "    \"\"\"\n",
    "    하나의 환자 id에서 signal과 annotation을 추출합니다.\n",
    "    \"\"\"\n",
    "    \n",
    "    num_rows = len(beat_index)\n",
    "\n",
    "    X = np.zeros((num_rows, ncols))\n",
    "    Y = np.zeros((num_rows,1))\n",
    "    symbols = []\n",
    "    \n",
    "    # keep track of rows\n",
    "    max_row = 0\n",
    "    \n",
    "    beat_atr_sym = np.array(atr_sym)[beat_index]\n",
    "    beat_atr_sample = np.array(atr_sample)[beat_index]\n",
    "\n",
    "    for sym, samp in zip(beat_atr_sym, beat_atr_sample):\n",
    "\n",
    "        left = int(max([0,(samp - nsec*fs) ]))\n",
    "        right = int(min([len(signal),(samp + nsec*fs) ]))\n",
    "        \n",
    "        x = signal[left: right]\n",
    "        if len(x) == ncols:\n",
    "            X[max_row,:] = x\n",
    "            Y[max_row,:] = int(sym in abnormal)\n",
    "            symbols.append(sym)\n",
    "            max_row += 1\n",
    "    X = X[:max_row,:]\n",
    "    Y = Y[:max_row,:]\n",
    "    return X, Y, symbols"
   ]
  },
  {
   "cell_type": "code",
   "execution_count": null,
   "metadata": {},
   "outputs": [],
   "source": []
  },
  {
   "cell_type": "markdown",
   "metadata": {},
   "source": [
    "#### 3-2. Build train and validation dataset"
   ]
  },
  {
   "cell_type": "markdown",
   "metadata": {},
   "source": [
    "- train과 validation에 사용할 데이터셋을 각각 구축합니다.\n",
    "- 일반적인 딥러닝 학습시에는 다음과 같이 데이터를 구축합니다."
   ]
  },
  {
   "cell_type": "markdown",
   "metadata": {},
   "source": [
    "1. train dataset\n",
    "2. validation dataset\n",
    "3. test dataset"
   ]
  },
  {
   "cell_type": "markdown",
   "metadata": {},
   "source": [
    "- train dataset은 딥러닝 모델 학습에 사용되고,\n",
    "- validation dataset은 딥러닝 학습 시 overfitting 등을 검증하는데 활용되고,\n",
    "- test dataset은 딥러닝 모델 평가에 활용됩니다.\n"
   ]
  },
  {
   "cell_type": "markdown",
   "metadata": {},
   "source": [
    "본 강의에서는 편의상 train dataset 과 validation dataset 만 구축하여 모델을 학습하고 그 과정을 확인해보겠습니다."
   ]
  },
  {
   "cell_type": "markdown",
   "metadata": {},
   "source": [
    "여기서 주의할점은, case 기준으로 train과 validation을 구분해야 한다는 것입니다.\n",
    "case를 구분하지 않고 전체 sample에서 random하게 train/validation을 구분할 경우 딥러닝 모델의 성능은 우수한 것으로 나올 수 있지만 실제 성능은 (training data이외의 데이터에서 평가시) 성능이 떨어지는 경우가 발생할 수 있습니다"
   ]
  },
  {
   "cell_type": "code",
   "execution_count": 42,
   "metadata": {},
   "outputs": [],
   "source": [
    "# 6초의 segment로 데이터 구축\n",
    "window_size = 4\n",
    "frequency = 360\n",
    "batch_size = 1000"
   ]
  },
  {
   "cell_type": "code",
   "execution_count": null,
   "metadata": {
    "jupyter": {
     "source_hidden": true
    }
   },
   "outputs": [],
   "source": [
    "# dataset split\n",
    "random.seed(77)\n",
    "pids_test = random.sample(pids, int(len(pids) / 4))\n",
    "pids_train = [pid for pid in pids if pid not in pids_test]\n",
    "\n",
    "X_train, Y_train, symbol_train = build_dataset(pids_train, \n",
    "                                               window_size, \n",
    "                                               frequency, \n",
    "                                               abnormal)"
   ]
  },
  {
   "cell_type": "code",
   "execution_count": 20,
   "metadata": {},
   "outputs": [],
   "source": [
    "# dataset split\n",
    "random.seed(77)\n",
    "pids_test = random.sample(pids, int(len(pids) / 4))\n",
    "pids_train = [pid for pid in pids if pid not in pids_test]"
   ]
  },
  {
   "cell_type": "code",
   "execution_count": 21,
   "metadata": {},
   "outputs": [
    {
     "name": "stderr",
     "output_type": "stream",
     "text": [
      "100%|██████████████████████████████████████████████████████████████████████████████████| 36/36 [00:09<00:00,  3.69it/s]\n",
      "100%|██████████████████████████████████████████████████████████████████████████████████| 12/12 [00:01<00:00,  7.07it/s]"
     ]
    },
    {
     "name": "stdout",
     "output_type": "stream",
     "text": [
      "Shape of train dataset: \n",
      " X: (82257, 1440) \n",
      " Y: (82257, 1) \n",
      " symbol: 82257 \n",
      "\n",
      "Shape of test dataset: \n",
      " X: (26960, 1440) \n",
      " Y: (26960, 1) \n",
      " symbol: 26960 \n",
      "\n"
     ]
    },
    {
     "name": "stderr",
     "output_type": "stream",
     "text": [
      "\n"
     ]
    }
   ],
   "source": [
    "# build dataset\n",
    "X_train, Y_train, symbol_train = build_dataset(pids_train, \n",
    "                                               window_size, \n",
    "                                               frequency, \n",
    "                                               abnormal)\n",
    "\n",
    "X_test, Y_test, symbol_test = build_dataset(pids_test,\n",
    "                                              window_size,\n",
    "                                              frequency,\n",
    "                                              abnormal)\n",
    "\n",
    "print(\"Shape of train dataset: \\n X: {} \\n Y: {} \\n symbol: {} \\n\".format(\n",
    "X_train.shape, Y_train.shape, len(symbol_train)))\n",
    "print(\"Shape of test dataset: \\n X: {} \\n Y: {} \\n symbol: {} \\n\".format(\n",
    "X_test.shape, Y_test.shape, len(symbol_test)))"
   ]
  },
  {
   "cell_type": "code",
   "execution_count": 23,
   "metadata": {},
   "outputs": [
    {
     "name": "stdout",
     "output_type": "stream",
     "text": [
      "['/' 'A' 'E' 'F' 'J' 'L' 'N' 'R' 'S' 'V' 'a' 'e' 'f' 'j']\n",
      "['/' 'A' 'F' 'L' 'N' 'R' 'V' 'a' 'j']\n"
     ]
    }
   ],
   "source": [
    "# train / test set symbol 확인\n",
    "print(np.unique(symbol_train))\n",
    "print(np.unique(symbol_test))"
   ]
  },
  {
   "cell_type": "code",
   "execution_count": null,
   "metadata": {},
   "outputs": [],
   "source": [
    "data = dict()\n",
    "data['X_train'] = X_train\n",
    "data['Y_train'] =Y_train\n",
    "data['X_test'] =X_test\n",
    "data['Y_test'] =Y_test\n",
    "\n",
    "np.save('data.npy', data)"
   ]
  },
  {
   "cell_type": "code",
   "execution_count": null,
   "metadata": {},
   "outputs": [],
   "source": [
    "# a = np.load('data.npy', allow_pickle=True)"
   ]
  },
  {
   "cell_type": "code",
   "execution_count": null,
   "metadata": {},
   "outputs": [],
   "source": [
    "# train과 test set의 abnormal 비율 확인\n",
    "print('{:.3f} %'.format((Y_train.sum() / len(Y_train))* 100))\n",
    "print('{:.3f} %'.format((Y_test.sum() / len(Y_test))* 100))"
   ]
  },
  {
   "cell_type": "markdown",
   "metadata": {},
   "source": [
    "---"
   ]
  },
  {
   "cell_type": "markdown",
   "metadata": {},
   "source": [
    "### 4. Deep Learning model training - binary classification"
   ]
  },
  {
   "cell_type": "markdown",
   "metadata": {},
   "source": [
    "- 첫번째 예제로 binary classification (이진분류) 을 수행해 보겠습니다.\n",
    "- 아주 단순한 Artificial Neural Network 모델을 사용할 것입니다.\n",
    "- 딥러닝 모델의 예측 결과가 0인 경우 normal beat 에 해당되고 1인 경우 abnormal에 해당합니다."
   ]
  },
  {
   "cell_type": "code",
   "execution_count": 24,
   "metadata": {},
   "outputs": [],
   "source": [
    "# !pip install monai torch\n",
    "import torch\n",
    "import monai"
   ]
  },
  {
   "cell_type": "code",
   "execution_count": 26,
   "metadata": {},
   "outputs": [
    {
     "data": {
      "text/plain": [
       "(82257, 1440)"
      ]
     },
     "execution_count": 26,
     "metadata": {},
     "output_type": "execute_result"
    }
   ],
   "source": [
    "X_train.shape"
   ]
  },
  {
   "cell_type": "code",
   "execution_count": 46,
   "metadata": {},
   "outputs": [
    {
     "name": "stdout",
     "output_type": "stream",
     "text": [
      "52644 13161 26960\n"
     ]
    }
   ],
   "source": [
    "from torch.utils.data import *\n",
    "from sklearn.model_selection import train_test_split\n",
    "class Datasets():\n",
    "    def __init__(self, X_data, Y_data):\n",
    "        self.X_data =X_data\n",
    "        self.Y_data =Y_data\n",
    "        assert len(X_data) == len(Y_data)\n",
    "        \n",
    "    def __len__(self):\n",
    "        return len(self.X_data)\n",
    "    \n",
    "    def __getitem__(self, idx):\n",
    "        x = self.X_data[idx]\n",
    "        y = self.Y_data[idx]\n",
    "        \n",
    "        # augmentation (Todo)\n",
    "        x = np.expand_dims(x,0)\n",
    "        \n",
    "        x = torch.tensor(x)    # shape should be Channel X Signal\n",
    "        y = torch.tensor(y)    # shape should be value\n",
    "        return x, y\n",
    "\n",
    "X_train,X_valid, Y_train, Y_valid = train_test_split(X_train,Y_train,test_size=0.2,random_state =0, shuffle = True)\n",
    "\n",
    "train_dataset = Datasets(X_train,Y_train)\n",
    "valid_dataset = Datasets(X_valid,Y_valid)\n",
    "test_dataset = Datasets(X_test,Y_test)\n",
    "print(len(train_dataset),len(valid_dataset),len(test_dataset))\n",
    "\n",
    "train_loader = DataLoader(train_dataset,batch_size = 16, shuffle = True)\n",
    "valid_loader = DataLoader(valid_dataset,batch_size = 16, shuffle = False)\n",
    "test_loader = DataLoader(test_dataset,batch_size = 16, shuffle = False)"
   ]
  },
  {
   "cell_type": "code",
   "execution_count": 47,
   "metadata": {},
   "outputs": [],
   "source": [
    "iterator = iter(train_loader)"
   ]
  },
  {
   "cell_type": "code",
   "execution_count": 48,
   "metadata": {},
   "outputs": [
    {
     "name": "stdout",
     "output_type": "stream",
     "text": [
      "\n"
     ]
    },
    {
     "data": {
      "image/png": "[encoded data removed]",
      "text/plain": [
       "<Figure size 432x288 with 1 Axes>"
      ]
     },
     "metadata": {
      "needs_background": "light"
     },
     "output_type": "display_data"
    }
   ],
   "source": [
    "batch = next(iterator)\n",
    "x, y = batch\n",
    "plt.plot(x[0,0])\n",
    "print()"
   ]
  },
  {
   "cell_type": "code",
   "execution_count": 51,
   "metadata": {},
   "outputs": [
    {
     "data": {
      "text/plain": [
       "DenseNet121(\n",
       "  (features): Sequential(\n",
       "    (conv0): Conv1d(1, 64, kernel_size=(7,), stride=(2,), padding=(3,), bias=False)\n",
       "    (norm0): BatchNorm1d(64, eps=1e-05, momentum=0.1, affine=True, track_running_stats=True)\n",
       "    (relu0): ReLU(inplace=True)\n",
       "    (pool0): MaxPool1d(kernel_size=3, stride=2, padding=1, dilation=1, ceil_mode=False)\n",
       "    (denseblock1): _DenseBlock(\n",
       "      (denselayer1): _DenseLayer(\n",
       "        (layers): Sequential(\n",
       "          (norm1): BatchNorm1d(64, eps=1e-05, momentum=0.1, affine=True, track_running_stats=True)\n",
       "          (relu1): ReLU(inplace=True)\n",
       "          (conv1): Conv1d(64, 128, kernel_size=(1,), stride=(1,), bias=False)\n",
       "          (norm2): BatchNorm1d(128, eps=1e-05, momentum=0.1, affine=True, track_running_stats=True)\n",
       "          (relu2): ReLU(inplace=True)\n",
       "          (conv2): Conv1d(128, 32, kernel_size=(3,), stride=(1,), padding=(1,), bias=False)\n",
       "        )\n",
       "      )\n",
       "      (denselayer2): _DenseLayer(\n",
       "        (layers): Sequential(\n",
       "          (norm1): BatchNorm1d(96, eps=1e-05, momentum=0.1, affine=True, track_running_stats=True)\n",
       "          (relu1): ReLU(inplace=True)\n",
       "          (conv1): Conv1d(96, 128, kernel_size=(1,), stride=(1,), bias=False)\n",
       "          (norm2): BatchNorm1d(128, eps=1e-05, momentum=0.1, affine=True, track_running_stats=True)\n",
       "          (relu2): ReLU(inplace=True)\n",
       "          (conv2): Conv1d(128, 32, kernel_size=(3,), stride=(1,), padding=(1,), bias=False)\n",
       "        )\n",
       "      )\n",
       "      (denselayer3): _DenseLayer(\n",
       "        (layers): Sequential(\n",
       "          (norm1): BatchNorm1d(128, eps=1e-05, momentum=0.1, affine=True, track_running_stats=True)\n",
       "          (relu1): ReLU(inplace=True)\n",
       "          (conv1): Conv1d(128, 128, kernel_size=(1,), stride=(1,), bias=False)\n",
       "          (norm2): BatchNorm1d(128, eps=1e-05, momentum=0.1, affine=True, track_running_stats=True)\n",
       "          (relu2): ReLU(inplace=True)\n",
       "          (conv2): Conv1d(128, 32, kernel_size=(3,), stride=(1,), padding=(1,), bias=False)\n",
       "        )\n",
       "      )\n",
       "      (denselayer4): _DenseLayer(\n",
       "        (layers): Sequential(\n",
       "          (norm1): BatchNorm1d(160, eps=1e-05, momentum=0.1, affine=True, track_running_stats=True)\n",
       "          (relu1): ReLU(inplace=True)\n",
       "          (conv1): Conv1d(160, 128, kernel_size=(1,), stride=(1,), bias=False)\n",
       "          (norm2): BatchNorm1d(128, eps=1e-05, momentum=0.1, affine=True, track_running_stats=True)\n",
       "          (relu2): ReLU(inplace=True)\n",
       "          (conv2): Conv1d(128, 32, kernel_size=(3,), stride=(1,), padding=(1,), bias=False)\n",
       "        )\n",
       "      )\n",
       "      (denselayer5): _DenseLayer(\n",
       "        (layers): Sequential(\n",
       "          (norm1): BatchNorm1d(192, eps=1e-05, momentum=0.1, affine=True, track_running_stats=True)\n",
       "          (relu1): ReLU(inplace=True)\n",
       "          (conv1): Conv1d(192, 128, kernel_size=(1,), stride=(1,), bias=False)\n",
       "          (norm2): BatchNorm1d(128, eps=1e-05, momentum=0.1, affine=True, track_running_stats=True)\n",
       "          (relu2): ReLU(inplace=True)\n",
       "          (conv2): Conv1d(128, 32, kernel_size=(3,), stride=(1,), padding=(1,), bias=False)\n",
       "        )\n",
       "      )\n",
       "      (denselayer6): _DenseLayer(\n",
       "        (layers): Sequential(\n",
       "          (norm1): BatchNorm1d(224, eps=1e-05, momentum=0.1, affine=True, track_running_stats=True)\n",
       "          (relu1): ReLU(inplace=True)\n",
       "          (conv1): Conv1d(224, 128, kernel_size=(1,), stride=(1,), bias=False)\n",
       "          (norm2): BatchNorm1d(128, eps=1e-05, momentum=0.1, affine=True, track_running_stats=True)\n",
       "          (relu2): ReLU(inplace=True)\n",
       "          (conv2): Conv1d(128, 32, kernel_size=(3,), stride=(1,), padding=(1,), bias=False)\n",
       "        )\n",
       "      )\n",
       "    )\n",
       "    (transition1): _Transition(\n",
       "      (norm): BatchNorm1d(256, eps=1e-05, momentum=0.1, affine=True, track_running_stats=True)\n",
       "      (relu): ReLU(inplace=True)\n",
       "      (conv): Conv1d(256, 128, kernel_size=(1,), stride=(1,), bias=False)\n",
       "      (pool): AvgPool1d(kernel_size=(2,), stride=(2,), padding=(0,))\n",
       "    )\n",
       "    (denseblock2): _DenseBlock(\n",
       "      (denselayer1): _DenseLayer(\n",
       "        (layers): Sequential(\n",
       "          (norm1): BatchNorm1d(128, eps=1e-05, momentum=0.1, affine=True, track_running_stats=True)\n",
       "          (relu1): ReLU(inplace=True)\n",
       "          (conv1): Conv1d(128, 128, kernel_size=(1,), stride=(1,), bias=False)\n",
       "          (norm2): BatchNorm1d(128, eps=1e-05, momentum=0.1, affine=True, track_running_stats=True)\n",
       "          (relu2): ReLU(inplace=True)\n",
       "          (conv2): Conv1d(128, 32, kernel_size=(3,), stride=(1,), padding=(1,), bias=False)\n",
       "        )\n",
       "      )\n",
       "      (denselayer2): _DenseLayer(\n",
       "        (layers): Sequential(\n",
       "          (norm1): BatchNorm1d(160, eps=1e-05, momentum=0.1, affine=True, track_running_stats=True)\n",
       "          (relu1): ReLU(inplace=True)\n",
       "          (conv1): Conv1d(160, 128, kernel_size=(1,), stride=(1,), bias=False)\n",
       "          (norm2): BatchNorm1d(128, eps=1e-05, momentum=0.1, affine=True, track_running_stats=True)\n",
       "          (relu2): ReLU(inplace=True)\n",
       "          (conv2): Conv1d(128, 32, kernel_size=(3,), stride=(1,), padding=(1,), bias=False)\n",
       "        )\n",
       "      )\n",
       "      (denselayer3): _DenseLayer(\n",
       "        (layers): Sequential(\n",
       "          (norm1): BatchNorm1d(192, eps=1e-05, momentum=0.1, affine=True, track_running_stats=True)\n",
       "          (relu1): ReLU(inplace=True)\n",
       "          (conv1): Conv1d(192, 128, kernel_size=(1,), stride=(1,), bias=False)\n",
       "          (norm2): BatchNorm1d(128, eps=1e-05, momentum=0.1, affine=True, track_running_stats=True)\n",
       "          (relu2): ReLU(inplace=True)\n",
       "          (conv2): Conv1d(128, 32, kernel_size=(3,), stride=(1,), padding=(1,), bias=False)\n",
       "        )\n",
       "      )\n",
       "      (denselayer4): _DenseLayer(\n",
       "        (layers): Sequential(\n",
       "          (norm1): BatchNorm1d(224, eps=1e-05, momentum=0.1, affine=True, track_running_stats=True)\n",
       "          (relu1): ReLU(inplace=True)\n",
       "          (conv1): Conv1d(224, 128, kernel_size=(1,), stride=(1,), bias=False)\n",
       "          (norm2): BatchNorm1d(128, eps=1e-05, momentum=0.1, affine=True, track_running_stats=True)\n",
       "          (relu2): ReLU(inplace=True)\n",
       "          (conv2): Conv1d(128, 32, kernel_size=(3,), stride=(1,), padding=(1,), bias=False)\n",
       "        )\n",
       "      )\n",
       "      (denselayer5): _DenseLayer(\n",
       "        (layers): Sequential(\n",
       "          (norm1): BatchNorm1d(256, eps=1e-05, momentum=0.1, affine=True, track_running_stats=True)\n",
       "          (relu1): ReLU(inplace=True)\n",
       "          (conv1): Conv1d(256, 128, kernel_size=(1,), stride=(1,), bias=False)\n",
       "          (norm2): BatchNorm1d(128, eps=1e-05, momentum=0.1, affine=True, track_running_stats=True)\n",
       "          (relu2): ReLU(inplace=True)\n",
       "          (conv2): Conv1d(128, 32, kernel_size=(3,), stride=(1,), padding=(1,), bias=False)\n",
       "        )\n",
       "      )\n",
       "      (denselayer6): _DenseLayer(\n",
       "        (layers): Sequential(\n",
       "          (norm1): BatchNorm1d(288, eps=1e-05, momentum=0.1, affine=True, track_running_stats=True)\n",
       "          (relu1): ReLU(inplace=True)\n",
       "          (conv1): Conv1d(288, 128, kernel_size=(1,), stride=(1,), bias=False)\n",
       "          (norm2): BatchNorm1d(128, eps=1e-05, momentum=0.1, affine=True, track_running_stats=True)\n",
       "          (relu2): ReLU(inplace=True)\n",
       "          (conv2): Conv1d(128, 32, kernel_size=(3,), stride=(1,), padding=(1,), bias=False)\n",
       "        )\n",
       "      )\n",
       "      (denselayer7): _DenseLayer(\n",
       "        (layers): Sequential(\n",
       "          (norm1): BatchNorm1d(320, eps=1e-05, momentum=0.1, affine=True, track_running_stats=True)\n",
       "          (relu1): ReLU(inplace=True)\n",
       "          (conv1): Conv1d(320, 128, kernel_size=(1,), stride=(1,), bias=False)\n",
       "          (norm2): BatchNorm1d(128, eps=1e-05, momentum=0.1, affine=True, track_running_stats=True)\n",
       "          (relu2): ReLU(inplace=True)\n",
       "          (conv2): Conv1d(128, 32, kernel_size=(3,), stride=(1,), padding=(1,), bias=False)\n",
       "        )\n",
       "      )\n",
       "      (denselayer8): _DenseLayer(\n",
       "        (layers): Sequential(\n",
       "          (norm1): BatchNorm1d(352, eps=1e-05, momentum=0.1, affine=True, track_running_stats=True)\n",
       "          (relu1): ReLU(inplace=True)\n",
       "          (conv1): Conv1d(352, 128, kernel_size=(1,), stride=(1,), bias=False)\n",
       "          (norm2): BatchNorm1d(128, eps=1e-05, momentum=0.1, affine=True, track_running_stats=True)\n",
       "          (relu2): ReLU(inplace=True)\n",
       "          (conv2): Conv1d(128, 32, kernel_size=(3,), stride=(1,), padding=(1,), bias=False)\n",
       "        )\n",
       "      )\n",
       "      (denselayer9): _DenseLayer(\n",
       "        (layers): Sequential(\n",
       "          (norm1): BatchNorm1d(384, eps=1e-05, momentum=0.1, affine=True, track_running_stats=True)\n",
       "          (relu1): ReLU(inplace=True)\n",
       "          (conv1): Conv1d(384, 128, kernel_size=(1,), stride=(1,), bias=False)\n",
       "          (norm2): BatchNorm1d(128, eps=1e-05, momentum=0.1, affine=True, track_running_stats=True)\n",
       "          (relu2): ReLU(inplace=True)\n",
       "          (conv2): Conv1d(128, 32, kernel_size=(3,), stride=(1,), padding=(1,), bias=False)\n",
       "        )\n",
       "      )\n",
       "      (denselayer10): _DenseLayer(\n",
       "        (layers): Sequential(\n",
       "          (norm1): BatchNorm1d(416, eps=1e-05, momentum=0.1, affine=True, track_running_stats=True)\n",
       "          (relu1): ReLU(inplace=True)\n",
       "          (conv1): Conv1d(416, 128, kernel_size=(1,), stride=(1,), bias=False)\n",
       "          (norm2): BatchNorm1d(128, eps=1e-05, momentum=0.1, affine=True, track_running_stats=True)\n",
       "          (relu2): ReLU(inplace=True)\n",
       "          (conv2): Conv1d(128, 32, kernel_size=(3,), stride=(1,), padding=(1,), bias=False)\n",
       "        )\n",
       "      )\n",
       "      (denselayer11): _DenseLayer(\n",
       "        (layers): Sequential(\n",
       "          (norm1): BatchNorm1d(448, eps=1e-05, momentum=0.1, affine=True, track_running_stats=True)\n",
       "          (relu1): ReLU(inplace=True)\n",
       "          (conv1): Conv1d(448, 128, kernel_size=(1,), stride=(1,), bias=False)\n",
       "          (norm2): BatchNorm1d(128, eps=1e-05, momentum=0.1, affine=True, track_running_stats=True)\n",
       "          (relu2): ReLU(inplace=True)\n",
       "          (conv2): Conv1d(128, 32, kernel_size=(3,), stride=(1,), padding=(1,), bias=False)\n",
       "        )\n",
       "      )\n",
       "      (denselayer12): _DenseLayer(\n",
       "        (layers): Sequential(\n",
       "          (norm1): BatchNorm1d(480, eps=1e-05, momentum=0.1, affine=True, track_running_stats=True)\n",
       "          (relu1): ReLU(inplace=True)\n",
       "          (conv1): Conv1d(480, 128, kernel_size=(1,), stride=(1,), bias=False)\n",
       "          (norm2): BatchNorm1d(128, eps=1e-05, momentum=0.1, affine=True, track_running_stats=True)\n",
       "          (relu2): ReLU(inplace=True)\n",
       "          (conv2): Conv1d(128, 32, kernel_size=(3,), stride=(1,), padding=(1,), bias=False)\n",
       "        )\n",
       "      )\n",
       "    )\n",
       "    (transition2): _Transition(\n",
       "      (norm): BatchNorm1d(512, eps=1e-05, momentum=0.1, affine=True, track_running_stats=True)\n",
       "      (relu): ReLU(inplace=True)\n",
       "      (conv): Conv1d(512, 256, kernel_size=(1,), stride=(1,), bias=False)\n",
       "      (pool): AvgPool1d(kernel_size=(2,), stride=(2,), padding=(0,))\n",
       "    )\n",
       "    (denseblock3): _DenseBlock(\n",
       "      (denselayer1): _DenseLayer(\n",
       "        (layers): Sequential(\n",
       "          (norm1): BatchNorm1d(256, eps=1e-05, momentum=0.1, affine=True, track_running_stats=True)\n",
       "          (relu1): ReLU(inplace=True)\n",
       "          (conv1): Conv1d(256, 128, kernel_size=(1,), stride=(1,), bias=False)\n",
       "          (norm2): BatchNorm1d(128, eps=1e-05, momentum=0.1, affine=True, track_running_stats=True)\n",
       "          (relu2): ReLU(inplace=True)\n",
       "          (conv2): Conv1d(128, 32, kernel_size=(3,), stride=(1,), padding=(1,), bias=False)\n",
       "        )\n",
       "      )\n",
       "      (denselayer2): _DenseLayer(\n",
       "        (layers): Sequential(\n",
       "          (norm1): BatchNorm1d(288, eps=1e-05, momentum=0.1, affine=True, track_running_stats=True)\n",
       "          (relu1): ReLU(inplace=True)\n",
       "          (conv1): Conv1d(288, 128, kernel_size=(1,), stride=(1,), bias=False)\n",
       "          (norm2): BatchNorm1d(128, eps=1e-05, momentum=0.1, affine=True, track_running_stats=True)\n",
       "          (relu2): ReLU(inplace=True)\n",
       "          (conv2): Conv1d(128, 32, kernel_size=(3,), stride=(1,), padding=(1,), bias=False)\n",
       "        )\n",
       "      )\n",
       "      (denselayer3): _DenseLayer(\n",
       "        (layers): Sequential(\n",
       "          (norm1): BatchNorm1d(320, eps=1e-05, momentum=0.1, affine=True, track_running_stats=True)\n",
       "          (relu1): ReLU(inplace=True)\n",
       "          (conv1): Conv1d(320, 128, kernel_size=(1,), stride=(1,), bias=False)\n",
       "          (norm2): BatchNorm1d(128, eps=1e-05, momentum=0.1, affine=True, track_running_stats=True)\n",
       "          (relu2): ReLU(inplace=True)\n",
       "          (conv2): Conv1d(128, 32, kernel_size=(3,), stride=(1,), padding=(1,), bias=False)\n",
       "        )\n",
       "      )\n",
       "      (denselayer4): _DenseLayer(\n",
       "        (layers): Sequential(\n",
       "          (norm1): BatchNorm1d(352, eps=1e-05, momentum=0.1, affine=True, track_running_stats=True)\n",
       "          (relu1): ReLU(inplace=True)\n",
       "          (conv1): Conv1d(352, 128, kernel_size=(1,), stride=(1,), bias=False)\n",
       "          (norm2): BatchNorm1d(128, eps=1e-05, momentum=0.1, affine=True, track_running_stats=True)\n",
       "          (relu2): ReLU(inplace=True)\n",
       "          (conv2): Conv1d(128, 32, kernel_size=(3,), stride=(1,), padding=(1,), bias=False)\n",
       "        )\n",
       "      )\n",
       "      (denselayer5): _DenseLayer(\n",
       "        (layers): Sequential(\n",
       "          (norm1): BatchNorm1d(384, eps=1e-05, momentum=0.1, affine=True, track_running_stats=True)\n",
       "          (relu1): ReLU(inplace=True)\n",
       "          (conv1): Conv1d(384, 128, kernel_size=(1,), stride=(1,), bias=False)\n",
       "          (norm2): BatchNorm1d(128, eps=1e-05, momentum=0.1, affine=True, track_running_stats=True)\n",
       "          (relu2): ReLU(inplace=True)\n",
       "          (conv2): Conv1d(128, 32, kernel_size=(3,), stride=(1,), padding=(1,), bias=False)\n",
       "        )\n",
       "      )\n",
       "      (denselayer6): _DenseLayer(\n",
       "        (layers): Sequential(\n",
       "          (norm1): BatchNorm1d(416, eps=1e-05, momentum=0.1, affine=True, track_running_stats=True)\n",
       "          (relu1): ReLU(inplace=True)\n",
       "          (conv1): Conv1d(416, 128, kernel_size=(1,), stride=(1,), bias=False)\n",
       "          (norm2): BatchNorm1d(128, eps=1e-05, momentum=0.1, affine=True, track_running_stats=True)\n",
       "          (relu2): ReLU(inplace=True)\n",
       "          (conv2): Conv1d(128, 32, kernel_size=(3,), stride=(1,), padding=(1,), bias=False)\n",
       "        )\n",
       "      )\n",
       "      (denselayer7): _DenseLayer(\n",
       "        (layers): Sequential(\n",
       "          (norm1): BatchNorm1d(448, eps=1e-05, momentum=0.1, affine=True, track_running_stats=True)\n",
       "          (relu1): ReLU(inplace=True)\n",
       "          (conv1): Conv1d(448, 128, kernel_size=(1,), stride=(1,), bias=False)\n",
       "          (norm2): BatchNorm1d(128, eps=1e-05, momentum=0.1, affine=True, track_running_stats=True)\n",
       "          (relu2): ReLU(inplace=True)\n",
       "          (conv2): Conv1d(128, 32, kernel_size=(3,), stride=(1,), padding=(1,), bias=False)\n",
       "        )\n",
       "      )\n",
       "      (denselayer8): _DenseLayer(\n",
       "        (layers): Sequential(\n",
       "          (norm1): BatchNorm1d(480, eps=1e-05, momentum=0.1, affine=True, track_running_stats=True)\n",
       "          (relu1): ReLU(inplace=True)\n",
       "          (conv1): Conv1d(480, 128, kernel_size=(1,), stride=(1,), bias=False)\n",
       "          (norm2): BatchNorm1d(128, eps=1e-05, momentum=0.1, affine=True, track_running_stats=True)\n",
       "          (relu2): ReLU(inplace=True)\n",
       "          (conv2): Conv1d(128, 32, kernel_size=(3,), stride=(1,), padding=(1,), bias=False)\n",
       "        )\n",
       "      )\n",
       "      (denselayer9): _DenseLayer(\n",
       "        (layers): Sequential(\n",
       "          (norm1): BatchNorm1d(512, eps=1e-05, momentum=0.1, affine=True, track_running_stats=True)\n",
       "          (relu1): ReLU(inplace=True)\n",
       "          (conv1): Conv1d(512, 128, kernel_size=(1,), stride=(1,), bias=False)\n",
       "          (norm2): BatchNorm1d(128, eps=1e-05, momentum=0.1, affine=True, track_running_stats=True)\n",
       "          (relu2): ReLU(inplace=True)\n",
       "          (conv2): Conv1d(128, 32, kernel_size=(3,), stride=(1,), padding=(1,), bias=False)\n",
       "        )\n",
       "      )\n",
       "      (denselayer10): _DenseLayer(\n",
       "        (layers): Sequential(\n",
       "          (norm1): BatchNorm1d(544, eps=1e-05, momentum=0.1, affine=True, track_running_stats=True)\n",
       "          (relu1): ReLU(inplace=True)\n",
       "          (conv1): Conv1d(544, 128, kernel_size=(1,), stride=(1,), bias=False)\n",
       "          (norm2): BatchNorm1d(128, eps=1e-05, momentum=0.1, affine=True, track_running_stats=True)\n",
       "          (relu2): ReLU(inplace=True)\n",
       "          (conv2): Conv1d(128, 32, kernel_size=(3,), stride=(1,), padding=(1,), bias=False)\n",
       "        )\n",
       "      )\n",
       "      (denselayer11): _DenseLayer(\n",
       "        (layers): Sequential(\n",
       "          (norm1): BatchNorm1d(576, eps=1e-05, momentum=0.1, affine=True, track_running_stats=True)\n",
       "          (relu1): ReLU(inplace=True)\n",
       "          (conv1): Conv1d(576, 128, kernel_size=(1,), stride=(1,), bias=False)\n",
       "          (norm2): BatchNorm1d(128, eps=1e-05, momentum=0.1, affine=True, track_running_stats=True)\n",
       "          (relu2): ReLU(inplace=True)\n",
       "          (conv2): Conv1d(128, 32, kernel_size=(3,), stride=(1,), padding=(1,), bias=False)\n",
       "        )\n",
       "      )\n",
       "      (denselayer12): _DenseLayer(\n",
       "        (layers): Sequential(\n",
       "          (norm1): BatchNorm1d(608, eps=1e-05, momentum=0.1, affine=True, track_running_stats=True)\n",
       "          (relu1): ReLU(inplace=True)\n",
       "          (conv1): Conv1d(608, 128, kernel_size=(1,), stride=(1,), bias=False)\n",
       "          (norm2): BatchNorm1d(128, eps=1e-05, momentum=0.1, affine=True, track_running_stats=True)\n",
       "          (relu2): ReLU(inplace=True)\n",
       "          (conv2): Conv1d(128, 32, kernel_size=(3,), stride=(1,), padding=(1,), bias=False)\n",
       "        )\n",
       "      )\n",
       "      (denselayer13): _DenseLayer(\n",
       "        (layers): Sequential(\n",
       "          (norm1): BatchNorm1d(640, eps=1e-05, momentum=0.1, affine=True, track_running_stats=True)\n",
       "          (relu1): ReLU(inplace=True)\n",
       "          (conv1): Conv1d(640, 128, kernel_size=(1,), stride=(1,), bias=False)\n",
       "          (norm2): BatchNorm1d(128, eps=1e-05, momentum=0.1, affine=True, track_running_stats=True)\n",
       "          (relu2): ReLU(inplace=True)\n",
       "          (conv2): Conv1d(128, 32, kernel_size=(3,), stride=(1,), padding=(1,), bias=False)\n",
       "        )\n",
       "      )\n",
       "      (denselayer14): _DenseLayer(\n",
       "        (layers): Sequential(\n",
       "          (norm1): BatchNorm1d(672, eps=1e-05, momentum=0.1, affine=True, track_running_stats=True)\n",
       "          (relu1): ReLU(inplace=True)\n",
       "          (conv1): Conv1d(672, 128, kernel_size=(1,), stride=(1,), bias=False)\n",
       "          (norm2): BatchNorm1d(128, eps=1e-05, momentum=0.1, affine=True, track_running_stats=True)\n",
       "          (relu2): ReLU(inplace=True)\n",
       "          (conv2): Conv1d(128, 32, kernel_size=(3,), stride=(1,), padding=(1,), bias=False)\n",
       "        )\n",
       "      )\n",
       "      (denselayer15): _DenseLayer(\n",
       "        (layers): Sequential(\n",
       "          (norm1): BatchNorm1d(704, eps=1e-05, momentum=0.1, affine=True, track_running_stats=True)\n",
       "          (relu1): ReLU(inplace=True)\n",
       "          (conv1): Conv1d(704, 128, kernel_size=(1,), stride=(1,), bias=False)\n",
       "          (norm2): BatchNorm1d(128, eps=1e-05, momentum=0.1, affine=True, track_running_stats=True)\n",
       "          (relu2): ReLU(inplace=True)\n",
       "          (conv2): Conv1d(128, 32, kernel_size=(3,), stride=(1,), padding=(1,), bias=False)\n",
       "        )\n",
       "      )\n",
       "      (denselayer16): _DenseLayer(\n",
       "        (layers): Sequential(\n",
       "          (norm1): BatchNorm1d(736, eps=1e-05, momentum=0.1, affine=True, track_running_stats=True)\n",
       "          (relu1): ReLU(inplace=True)\n",
       "          (conv1): Conv1d(736, 128, kernel_size=(1,), stride=(1,), bias=False)\n",
       "          (norm2): BatchNorm1d(128, eps=1e-05, momentum=0.1, affine=True, track_running_stats=True)\n",
       "          (relu2): ReLU(inplace=True)\n",
       "          (conv2): Conv1d(128, 32, kernel_size=(3,), stride=(1,), padding=(1,), bias=False)\n",
       "        )\n",
       "      )\n",
       "      (denselayer17): _DenseLayer(\n",
       "        (layers): Sequential(\n",
       "          (norm1): BatchNorm1d(768, eps=1e-05, momentum=0.1, affine=True, track_running_stats=True)\n",
       "          (relu1): ReLU(inplace=True)\n",
       "          (conv1): Conv1d(768, 128, kernel_size=(1,), stride=(1,), bias=False)\n",
       "          (norm2): BatchNorm1d(128, eps=1e-05, momentum=0.1, affine=True, track_running_stats=True)\n",
       "          (relu2): ReLU(inplace=True)\n",
       "          (conv2): Conv1d(128, 32, kernel_size=(3,), stride=(1,), padding=(1,), bias=False)\n",
       "        )\n",
       "      )\n",
       "      (denselayer18): _DenseLayer(\n",
       "        (layers): Sequential(\n",
       "          (norm1): BatchNorm1d(800, eps=1e-05, momentum=0.1, affine=True, track_running_stats=True)\n",
       "          (relu1): ReLU(inplace=True)\n",
       "          (conv1): Conv1d(800, 128, kernel_size=(1,), stride=(1,), bias=False)\n",
       "          (norm2): BatchNorm1d(128, eps=1e-05, momentum=0.1, affine=True, track_running_stats=True)\n",
       "          (relu2): ReLU(inplace=True)\n",
       "          (conv2): Conv1d(128, 32, kernel_size=(3,), stride=(1,), padding=(1,), bias=False)\n",
       "        )\n",
       "      )\n",
       "      (denselayer19): _DenseLayer(\n",
       "        (layers): Sequential(\n",
       "          (norm1): BatchNorm1d(832, eps=1e-05, momentum=0.1, affine=True, track_running_stats=True)\n",
       "          (relu1): ReLU(inplace=True)\n",
       "          (conv1): Conv1d(832, 128, kernel_size=(1,), stride=(1,), bias=False)\n",
       "          (norm2): BatchNorm1d(128, eps=1e-05, momentum=0.1, affine=True, track_running_stats=True)\n",
       "          (relu2): ReLU(inplace=True)\n",
       "          (conv2): Conv1d(128, 32, kernel_size=(3,), stride=(1,), padding=(1,), bias=False)\n",
       "        )\n",
       "      )\n",
       "      (denselayer20): _DenseLayer(\n",
       "        (layers): Sequential(\n",
       "          (norm1): BatchNorm1d(864, eps=1e-05, momentum=0.1, affine=True, track_running_stats=True)\n",
       "          (relu1): ReLU(inplace=True)\n",
       "          (conv1): Conv1d(864, 128, kernel_size=(1,), stride=(1,), bias=False)\n",
       "          (norm2): BatchNorm1d(128, eps=1e-05, momentum=0.1, affine=True, track_running_stats=True)\n",
       "          (relu2): ReLU(inplace=True)\n",
       "          (conv2): Conv1d(128, 32, kernel_size=(3,), stride=(1,), padding=(1,), bias=False)\n",
       "        )\n",
       "      )\n",
       "      (denselayer21): _DenseLayer(\n",
       "        (layers): Sequential(\n",
       "          (norm1): BatchNorm1d(896, eps=1e-05, momentum=0.1, affine=True, track_running_stats=True)\n",
       "          (relu1): ReLU(inplace=True)\n",
       "          (conv1): Conv1d(896, 128, kernel_size=(1,), stride=(1,), bias=False)\n",
       "          (norm2): BatchNorm1d(128, eps=1e-05, momentum=0.1, affine=True, track_running_stats=True)\n",
       "          (relu2): ReLU(inplace=True)\n",
       "          (conv2): Conv1d(128, 32, kernel_size=(3,), stride=(1,), padding=(1,), bias=False)\n",
       "        )\n",
       "      )\n",
       "      (denselayer22): _DenseLayer(\n",
       "        (layers): Sequential(\n",
       "          (norm1): BatchNorm1d(928, eps=1e-05, momentum=0.1, affine=True, track_running_stats=True)\n",
       "          (relu1): ReLU(inplace=True)\n",
       "          (conv1): Conv1d(928, 128, kernel_size=(1,), stride=(1,), bias=False)\n",
       "          (norm2): BatchNorm1d(128, eps=1e-05, momentum=0.1, affine=True, track_running_stats=True)\n",
       "          (relu2): ReLU(inplace=True)\n",
       "          (conv2): Conv1d(128, 32, kernel_size=(3,), stride=(1,), padding=(1,), bias=False)\n",
       "        )\n",
       "      )\n",
       "      (denselayer23): _DenseLayer(\n",
       "        (layers): Sequential(\n",
       "          (norm1): BatchNorm1d(960, eps=1e-05, momentum=0.1, affine=True, track_running_stats=True)\n",
       "          (relu1): ReLU(inplace=True)\n",
       "          (conv1): Conv1d(960, 128, kernel_size=(1,), stride=(1,), bias=False)\n",
       "          (norm2): BatchNorm1d(128, eps=1e-05, momentum=0.1, affine=True, track_running_stats=True)\n",
       "          (relu2): ReLU(inplace=True)\n",
       "          (conv2): Conv1d(128, 32, kernel_size=(3,), stride=(1,), padding=(1,), bias=False)\n",
       "        )\n",
       "      )\n",
       "      (denselayer24): _DenseLayer(\n",
       "        (layers): Sequential(\n",
       "          (norm1): BatchNorm1d(992, eps=1e-05, momentum=0.1, affine=True, track_running_stats=True)\n",
       "          (relu1): ReLU(inplace=True)\n",
       "          (conv1): Conv1d(992, 128, kernel_size=(1,), stride=(1,), bias=False)\n",
       "          (norm2): BatchNorm1d(128, eps=1e-05, momentum=0.1, affine=True, track_running_stats=True)\n",
       "          (relu2): ReLU(inplace=True)\n",
       "          (conv2): Conv1d(128, 32, kernel_size=(3,), stride=(1,), padding=(1,), bias=False)\n",
       "        )\n",
       "      )\n",
       "    )\n",
       "    (transition3): _Transition(\n",
       "      (norm): BatchNorm1d(1024, eps=1e-05, momentum=0.1, affine=True, track_running_stats=True)\n",
       "      (relu): ReLU(inplace=True)\n",
       "      (conv): Conv1d(1024, 512, kernel_size=(1,), stride=(1,), bias=False)\n",
       "      (pool): AvgPool1d(kernel_size=(2,), stride=(2,), padding=(0,))\n",
       "    )\n",
       "    (denseblock4): _DenseBlock(\n",
       "      (denselayer1): _DenseLayer(\n",
       "        (layers): Sequential(\n",
       "          (norm1): BatchNorm1d(512, eps=1e-05, momentum=0.1, affine=True, track_running_stats=True)\n",
       "          (relu1): ReLU(inplace=True)\n",
       "          (conv1): Conv1d(512, 128, kernel_size=(1,), stride=(1,), bias=False)\n",
       "          (norm2): BatchNorm1d(128, eps=1e-05, momentum=0.1, affine=True, track_running_stats=True)\n",
       "          (relu2): ReLU(inplace=True)\n",
       "          (conv2): Conv1d(128, 32, kernel_size=(3,), stride=(1,), padding=(1,), bias=False)\n",
       "        )\n",
       "      )\n",
       "      (denselayer2): _DenseLayer(\n",
       "        (layers): Sequential(\n",
       "          (norm1): BatchNorm1d(544, eps=1e-05, momentum=0.1, affine=True, track_running_stats=True)\n",
       "          (relu1): ReLU(inplace=True)\n",
       "          (conv1): Conv1d(544, 128, kernel_size=(1,), stride=(1,), bias=False)\n",
       "          (norm2): BatchNorm1d(128, eps=1e-05, momentum=0.1, affine=True, track_running_stats=True)\n",
       "          (relu2): ReLU(inplace=True)\n",
       "          (conv2): Conv1d(128, 32, kernel_size=(3,), stride=(1,), padding=(1,), bias=False)\n",
       "        )\n",
       "      )\n",
       "      (denselayer3): _DenseLayer(\n",
       "        (layers): Sequential(\n",
       "          (norm1): BatchNorm1d(576, eps=1e-05, momentum=0.1, affine=True, track_running_stats=True)\n",
       "          (relu1): ReLU(inplace=True)\n",
       "          (conv1): Conv1d(576, 128, kernel_size=(1,), stride=(1,), bias=False)\n",
       "          (norm2): BatchNorm1d(128, eps=1e-05, momentum=0.1, affine=True, track_running_stats=True)\n",
       "          (relu2): ReLU(inplace=True)\n",
       "          (conv2): Conv1d(128, 32, kernel_size=(3,), stride=(1,), padding=(1,), bias=False)\n",
       "        )\n",
       "      )\n",
       "      (denselayer4): _DenseLayer(\n",
       "        (layers): Sequential(\n",
       "          (norm1): BatchNorm1d(608, eps=1e-05, momentum=0.1, affine=True, track_running_stats=True)\n",
       "          (relu1): ReLU(inplace=True)\n",
       "          (conv1): Conv1d(608, 128, kernel_size=(1,), stride=(1,), bias=False)\n",
       "          (norm2): BatchNorm1d(128, eps=1e-05, momentum=0.1, affine=True, track_running_stats=True)\n",
       "          (relu2): ReLU(inplace=True)\n",
       "          (conv2): Conv1d(128, 32, kernel_size=(3,), stride=(1,), padding=(1,), bias=False)\n",
       "        )\n",
       "      )\n",
       "      (denselayer5): _DenseLayer(\n",
       "        (layers): Sequential(\n",
       "          (norm1): BatchNorm1d(640, eps=1e-05, momentum=0.1, affine=True, track_running_stats=True)\n",
       "          (relu1): ReLU(inplace=True)\n",
       "          (conv1): Conv1d(640, 128, kernel_size=(1,), stride=(1,), bias=False)\n",
       "          (norm2): BatchNorm1d(128, eps=1e-05, momentum=0.1, affine=True, track_running_stats=True)\n",
       "          (relu2): ReLU(inplace=True)\n",
       "          (conv2): Conv1d(128, 32, kernel_size=(3,), stride=(1,), padding=(1,), bias=False)\n",
       "        )\n",
       "      )\n",
       "      (denselayer6): _DenseLayer(\n",
       "        (layers): Sequential(\n",
       "          (norm1): BatchNorm1d(672, eps=1e-05, momentum=0.1, affine=True, track_running_stats=True)\n",
       "          (relu1): ReLU(inplace=True)\n",
       "          (conv1): Conv1d(672, 128, kernel_size=(1,), stride=(1,), bias=False)\n",
       "          (norm2): BatchNorm1d(128, eps=1e-05, momentum=0.1, affine=True, track_running_stats=True)\n",
       "          (relu2): ReLU(inplace=True)\n",
       "          (conv2): Conv1d(128, 32, kernel_size=(3,), stride=(1,), padding=(1,), bias=False)\n",
       "        )\n",
       "      )\n",
       "      (denselayer7): _DenseLayer(\n",
       "        (layers): Sequential(\n",
       "          (norm1): BatchNorm1d(704, eps=1e-05, momentum=0.1, affine=True, track_running_stats=True)\n",
       "          (relu1): ReLU(inplace=True)\n",
       "          (conv1): Conv1d(704, 128, kernel_size=(1,), stride=(1,), bias=False)\n",
       "          (norm2): BatchNorm1d(128, eps=1e-05, momentum=0.1, affine=True, track_running_stats=True)\n",
       "          (relu2): ReLU(inplace=True)\n",
       "          (conv2): Conv1d(128, 32, kernel_size=(3,), stride=(1,), padding=(1,), bias=False)\n",
       "        )\n",
       "      )\n",
       "      (denselayer8): _DenseLayer(\n",
       "        (layers): Sequential(\n",
       "          (norm1): BatchNorm1d(736, eps=1e-05, momentum=0.1, affine=True, track_running_stats=True)\n",
       "          (relu1): ReLU(inplace=True)\n",
       "          (conv1): Conv1d(736, 128, kernel_size=(1,), stride=(1,), bias=False)\n",
       "          (norm2): BatchNorm1d(128, eps=1e-05, momentum=0.1, affine=True, track_running_stats=True)\n",
       "          (relu2): ReLU(inplace=True)\n",
       "          (conv2): Conv1d(128, 32, kernel_size=(3,), stride=(1,), padding=(1,), bias=False)\n",
       "        )\n",
       "      )\n",
       "      (denselayer9): _DenseLayer(\n",
       "        (layers): Sequential(\n",
       "          (norm1): BatchNorm1d(768, eps=1e-05, momentum=0.1, affine=True, track_running_stats=True)\n",
       "          (relu1): ReLU(inplace=True)\n",
       "          (conv1): Conv1d(768, 128, kernel_size=(1,), stride=(1,), bias=False)\n",
       "          (norm2): BatchNorm1d(128, eps=1e-05, momentum=0.1, affine=True, track_running_stats=True)\n",
       "          (relu2): ReLU(inplace=True)\n",
       "          (conv2): Conv1d(128, 32, kernel_size=(3,), stride=(1,), padding=(1,), bias=False)\n",
       "        )\n",
       "      )\n",
       "      (denselayer10): _DenseLayer(\n",
       "        (layers): Sequential(\n",
       "          (norm1): BatchNorm1d(800, eps=1e-05, momentum=0.1, affine=True, track_running_stats=True)\n",
       "          (relu1): ReLU(inplace=True)\n",
       "          (conv1): Conv1d(800, 128, kernel_size=(1,), stride=(1,), bias=False)\n",
       "          (norm2): BatchNorm1d(128, eps=1e-05, momentum=0.1, affine=True, track_running_stats=True)\n",
       "          (relu2): ReLU(inplace=True)\n",
       "          (conv2): Conv1d(128, 32, kernel_size=(3,), stride=(1,), padding=(1,), bias=False)\n",
       "        )\n",
       "      )\n",
       "      (denselayer11): _DenseLayer(\n",
       "        (layers): Sequential(\n",
       "          (norm1): BatchNorm1d(832, eps=1e-05, momentum=0.1, affine=True, track_running_stats=True)\n",
       "          (relu1): ReLU(inplace=True)\n",
       "          (conv1): Conv1d(832, 128, kernel_size=(1,), stride=(1,), bias=False)\n",
       "          (norm2): BatchNorm1d(128, eps=1e-05, momentum=0.1, affine=True, track_running_stats=True)\n",
       "          (relu2): ReLU(inplace=True)\n",
       "          (conv2): Conv1d(128, 32, kernel_size=(3,), stride=(1,), padding=(1,), bias=False)\n",
       "        )\n",
       "      )\n",
       "      (denselayer12): _DenseLayer(\n",
       "        (layers): Sequential(\n",
       "          (norm1): BatchNorm1d(864, eps=1e-05, momentum=0.1, affine=True, track_running_stats=True)\n",
       "          (relu1): ReLU(inplace=True)\n",
       "          (conv1): Conv1d(864, 128, kernel_size=(1,), stride=(1,), bias=False)\n",
       "          (norm2): BatchNorm1d(128, eps=1e-05, momentum=0.1, affine=True, track_running_stats=True)\n",
       "          (relu2): ReLU(inplace=True)\n",
       "          (conv2): Conv1d(128, 32, kernel_size=(3,), stride=(1,), padding=(1,), bias=False)\n",
       "        )\n",
       "      )\n",
       "      (denselayer13): _DenseLayer(\n",
       "        (layers): Sequential(\n",
       "          (norm1): BatchNorm1d(896, eps=1e-05, momentum=0.1, affine=True, track_running_stats=True)\n",
       "          (relu1): ReLU(inplace=True)\n",
       "          (conv1): Conv1d(896, 128, kernel_size=(1,), stride=(1,), bias=False)\n",
       "          (norm2): BatchNorm1d(128, eps=1e-05, momentum=0.1, affine=True, track_running_stats=True)\n",
       "          (relu2): ReLU(inplace=True)\n",
       "          (conv2): Conv1d(128, 32, kernel_size=(3,), stride=(1,), padding=(1,), bias=False)\n",
       "        )\n",
       "      )\n",
       "      (denselayer14): _DenseLayer(\n",
       "        (layers): Sequential(\n",
       "          (norm1): BatchNorm1d(928, eps=1e-05, momentum=0.1, affine=True, track_running_stats=True)\n",
       "          (relu1): ReLU(inplace=True)\n",
       "          (conv1): Conv1d(928, 128, kernel_size=(1,), stride=(1,), bias=False)\n",
       "          (norm2): BatchNorm1d(128, eps=1e-05, momentum=0.1, affine=True, track_running_stats=True)\n",
       "          (relu2): ReLU(inplace=True)\n",
       "          (conv2): Conv1d(128, 32, kernel_size=(3,), stride=(1,), padding=(1,), bias=False)\n",
       "        )\n",
       "      )\n",
       "      (denselayer15): _DenseLayer(\n",
       "        (layers): Sequential(\n",
       "          (norm1): BatchNorm1d(960, eps=1e-05, momentum=0.1, affine=True, track_running_stats=True)\n",
       "          (relu1): ReLU(inplace=True)\n",
       "          (conv1): Conv1d(960, 128, kernel_size=(1,), stride=(1,), bias=False)\n",
       "          (norm2): BatchNorm1d(128, eps=1e-05, momentum=0.1, affine=True, track_running_stats=True)\n",
       "          (relu2): ReLU(inplace=True)\n",
       "          (conv2): Conv1d(128, 32, kernel_size=(3,), stride=(1,), padding=(1,), bias=False)\n",
       "        )\n",
       "      )\n",
       "      (denselayer16): _DenseLayer(\n",
       "        (layers): Sequential(\n",
       "          (norm1): BatchNorm1d(992, eps=1e-05, momentum=0.1, affine=True, track_running_stats=True)\n",
       "          (relu1): ReLU(inplace=True)\n",
       "          (conv1): Conv1d(992, 128, kernel_size=(1,), stride=(1,), bias=False)\n",
       "          (norm2): BatchNorm1d(128, eps=1e-05, momentum=0.1, affine=True, track_running_stats=True)\n",
       "          (relu2): ReLU(inplace=True)\n",
       "          (conv2): Conv1d(128, 32, kernel_size=(3,), stride=(1,), padding=(1,), bias=False)\n",
       "        )\n",
       "      )\n",
       "    )\n",
       "    (norm5): BatchNorm1d(1024, eps=1e-05, momentum=0.1, affine=True, track_running_stats=True)\n",
       "  )\n",
       "  (class_layers): Sequential(\n",
       "    (relu): ReLU(inplace=True)\n",
       "    (pool): AdaptiveAvgPool1d(output_size=1)\n",
       "    (flatten): Flatten(start_dim=1, end_dim=-1)\n",
       "    (out): Linear(in_features=1024, out_features=1, bias=True)\n",
       "  )\n",
       ")"
      ]
     },
     "execution_count": 51,
     "metadata": {},
     "output_type": "execute_result"
    }
   ],
   "source": [
    "import monai\n",
    "net = monai.networks.nets.Densenet121(in_channels = 1, out_channels = 1, spatial_dims = 1 =\n",
    "   = "
   ]
  },
  {
   "cell_type": "code",
   "execution_count": null,
   "metadata": {
    "jp-MarkdownHeadingCollapsed": true,
    "tags": []
   },
   "outputs": [],
   "source": [
    "import tensorflow as tf\n",
    "from tensorflow.keras.models import Sequential\n",
    "from tensorflow.keras.layers import Dense, Flatten, Dropout\n",
    "from tensorflow.keras import optimizers"
   ]
  },
  {
   "cell_type": "code",
   "execution_count": null,
   "metadata": {},
   "outputs": [],
   "source": [
    "fcn_model = Sequential()\n",
    "fcn_model.add(Dense(512, activation = 'relu'))\n",
    "fcn_model.add(Dropout(rate=0.25))\n",
    "fcn_model.add(Dense(128, activation = 'relu'))\n",
    "fcn_model.add(Dropout(rate=0.25))\n",
    "fcn_model.add(Dense(1, activation='sigmoid'))\n",
    "\n",
    "adam_optimizer = tf.optimizers.Adam(lr=0.00005)\n",
    "fcn_model.compile(loss='binary_crossentropy', optimizer=adam_optimizer, metrics=['accuracy'])"
   ]
  },
  {
   "cell_type": "code",
   "execution_count": null,
   "metadata": {},
   "outputs": [],
   "source": [
    "fcn_train_history = fcn_model.fit(X_train, Y_train, epochs=10, batch_size = batch_size, verbose=1,\n",
    "                         validation_split = 0.2)"
   ]
  },
  {
   "cell_type": "code",
   "execution_count": null,
   "metadata": {},
   "outputs": [],
   "source": [
    "plt.plot(fcn_train_history.history['loss'])\n",
    "plt.plot(fcn_train_history.history['val_loss'])\n",
    "plt.title('model loss')\n",
    "plt.ylabel('Loss')\n",
    "plt.xlabel('epoch')\n",
    "plt.legend(['train', 'valid'], loc='upper left')"
   ]
  },
  {
   "cell_type": "code",
   "execution_count": null,
   "metadata": {},
   "outputs": [],
   "source": [
    "plt.plot(fcn_train_history.history['accuracy'])\n",
    "plt.plot(fcn_train_history.history['val_accuracy'])\n",
    "plt.title('model accuracy')\n",
    "plt.ylabel('accuracy')\n",
    "plt.xlabel('epoch')\n",
    "plt.legend(['train', 'valid'], loc='upper left')"
   ]
  },
  {
   "cell_type": "markdown",
   "metadata": {},
   "source": [
    "#### 4-4. Result"
   ]
  },
  {
   "cell_type": "code",
   "execution_count": null,
   "metadata": {},
   "outputs": [],
   "source": [
    "fcn_result = fcn_model.predict_classes(X_test)"
   ]
  },
  {
   "cell_type": "code",
   "execution_count": null,
   "metadata": {},
   "outputs": [],
   "source": [
    "print(classification_report(Y_test, fcn_result, target_names=['normal', 'abnormal']))"
   ]
  }
 ],
 "metadata": {
  "kernelspec": {
   "display_name": "Python 3",
   "language": "python",
   "name": "python3"
  },
  "language_info": {
   "codemirror_mode": {
    "name": "ipython",
    "version": 3
   },
   "file_extension": ".py",
   "mimetype": "text/x-python",
   "name": "python",
   "nbconvert_exporter": "python",
   "pygments_lexer": "ipython3",
   "version": "3.6.10"
  }
 },
 "nbformat": 4,
 "nbformat_minor": 5
}
