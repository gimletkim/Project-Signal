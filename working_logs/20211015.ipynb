{
 "cells": [
  {
   "cell_type": "code",
   "execution_count": 2,
   "id": "6349f30a-ce3a-4eda-b662-6076661d36b3",
   "metadata": {},
   "outputs": [],
   "source": [
    "# Load library\n",
    "import os \n",
    "import glob\n",
    "import pandas as pd\n",
    "import numpy as np\n",
    "import matplotlib.pyplot as plt\n",
    "from scipy.spatial import distance\n",
    "from sklearn.preprocessing import MinMaxScaler\n",
    "from sklearn.metrics.pairwise import cosine_similarity,cosine_distances\n",
    "from scipy import signal"
   ]
  },
  {
   "cell_type": "code",
   "execution_count": 3,
   "id": "625e5fb2-db3a-4c60-954d-f84b9bbfc7f3",
   "metadata": {},
   "outputs": [],
   "source": [
    "# Set path \n",
    "Path_Arr = r'C:\\Users\\MI2RL-KHJ\\workspace_signal\\mit\\20211012_sample\\arr'\n",
    "Path_Arrx = r'C:\\Users\\MI2RL-KHJ\\workspace_signal\\mit\\20211012_sample\\arrx'\n",
    "Path_Norm = r'C:\\Users\\MI2RL-KHJ\\workspace_signal\\mit\\20211012_sample\\norm'    "
   ]
  },
  {
   "cell_type": "code",
   "execution_count": 245,
   "id": "53b362f9-9ef1-4e82-bc89-0adf78ce0c6b",
   "metadata": {},
   "outputs": [
    {
     "data": {
      "text/plain": [
       "array([-0.035, -0.055, -0.035, ..., -0.065, -0.045, -0.045])"
      ]
     },
     "execution_count": 245,
     "metadata": {},
     "output_type": "execute_result"
    }
   ],
   "source": [
    "np.load(r'C:\\Users\\MI2RL-KHJ\\workspace_signal\\mit\\norm\\ecg_norm_00.npy')"
   ]
  },
  {
   "cell_type": "code",
   "execution_count": 4,
   "id": "637e90f9-8d9e-4633-bd38-81f5126ccbe1",
   "metadata": {},
   "outputs": [],
   "source": [
    "file_arr = os.listdir(Path_Arr)\n",
    "file_arr_00 = [file for file in file_arr if file.endswith(\"_00.csv\")]"
   ]
  },
  {
   "cell_type": "markdown",
   "id": "4ef9b708-6dc9-4887-8d9a-27bfd8b96d3c",
   "metadata": {},
   "source": [
    "## ecg_nomrm_00"
   ]
  },
  {
   "cell_type": "markdown",
   "id": "91b58d02-6102-49df-87d5-c5a7ea44a203",
   "metadata": {},
   "source": [
    "### Check Original Data"
   ]
  },
  {
   "cell_type": "code",
   "execution_count": 5,
   "id": "d0f8b530-d11a-481a-ac4a-601217228358",
   "metadata": {},
   "outputs": [],
   "source": [
    "file_norm = os.listdir(Path_Norm)\n",
    "file_norm_00 = [file for file in file_norm if file.endswith(\"_00.csv\")]"
   ]
  },
  {
   "cell_type": "code",
   "execution_count": 6,
   "id": "791dd3cc-2f4e-4732-a7e9-c771be493765",
   "metadata": {},
   "outputs": [
    {
     "data": {
      "text/plain": [
       "['correct_rpeaks_norm_00.csv',\n",
       " 'filtered_norm_00.csv',\n",
       " 'raw_norm_00.csv',\n",
       " 'templates_norm_00.csv',\n",
       " 'ts_norm_00.csv',\n",
       " 'ts_tmpl_norm_00.csv']"
      ]
     },
     "execution_count": 6,
     "metadata": {},
     "output_type": "execute_result"
    }
   ],
   "source": [
    "file_norm_00"
   ]
  },
  {
   "cell_type": "code",
   "execution_count": 7,
   "id": "d71c21a7-a68a-4bbe-ac84-0ede2877478c",
   "metadata": {},
   "outputs": [],
   "source": [
    "cor_rpeak = pd.read_csv(os.path.join(Path_Norm, file_norm_00[0]),header=None) #2960\n",
    "filtered = pd.read_csv(os.path.join(Path_Norm, file_norm_00[1]),header=None) #460800\n",
    "raw = pd.read_csv(os.path.join(Path_Norm, file_norm_00[2]),header=None) #460800\n",
    "tmpl = pd.read_csv(os.path.join(Path_Norm, file_norm_00[3]),header=None) #2960*216\n",
    "ts = pd.read_csv(os.path.join(Path_Norm, file_norm_00[4]),header=None) #460800\n",
    "ts_tmpl = pd.read_csv(os.path.join(Path_Norm, file_norm_00[5]),header=None) #216"
   ]
  },
  {
   "cell_type": "code",
   "execution_count": 8,
   "id": "8aec5b2b-6e9d-4411-91b0-a28083afa3ea",
   "metadata": {},
   "outputs": [
    {
     "ename": "NameError",
     "evalue": "name 'lim_rpeak_yvals' is not defined",
     "output_type": "error",
     "traceback": [
      "\u001b[1;31m---------------------------------------------------------------------------\u001b[0m",
      "\u001b[1;31mNameError\u001b[0m                                 Traceback (most recent call last)",
      "\u001b[1;32m<ipython-input-8-0ff718bfcf52>\u001b[0m in \u001b[0;36m<module>\u001b[1;34m\u001b[0m\n\u001b[1;32m----> 1\u001b[1;33m \u001b[0mlim_rpeak_yvals\u001b[0m\u001b[1;33m.\u001b[0m\u001b[0mindex\u001b[0m\u001b[1;33m(\u001b[0m\u001b[1;36m1.1793204328672875\u001b[0m\u001b[1;33m)\u001b[0m \u001b[1;31m#48\u001b[0m\u001b[1;33m\u001b[0m\u001b[1;33m\u001b[0m\u001b[0m\n\u001b[0m\u001b[0;32m      2\u001b[0m \u001b[0mtmpl\u001b[0m\u001b[1;33m.\u001b[0m\u001b[0miloc\u001b[0m\u001b[1;33m[\u001b[0m\u001b[1;36m0\u001b[0m\u001b[1;33m]\u001b[0m\u001b[1;33m.\u001b[0m\u001b[0midxmax\u001b[0m\u001b[1;33m(\u001b[0m\u001b[0maxis\u001b[0m \u001b[1;33m=\u001b[0m \u001b[1;36m1\u001b[0m\u001b[1;33m,\u001b[0m \u001b[0mskipna\u001b[0m \u001b[1;33m=\u001b[0m \u001b[1;32mTrue\u001b[0m\u001b[1;33m)\u001b[0m  \u001b[1;31m#tmpl.iloc[0][165], np.max(tmpl.iloc[0]); (0.12211601631080132, 0.12211601631080132)\u001b[0m\u001b[1;33m\u001b[0m\u001b[1;33m\u001b[0m\u001b[0m\n",
      "\u001b[1;31mNameError\u001b[0m: name 'lim_rpeak_yvals' is not defined"
     ]
    }
   ],
   "source": [
    "# lim_rpeak_yvals.index(1.1793204328672875) #48\n",
    "# tmpl.iloc[0].idxmax(axis = 1, skipna = True)  #tmpl.iloc[0][165], np.max(tmpl.iloc[0]); (0.12211601631080132, 0.12211601631080132)"
   ]
  },
  {
   "cell_type": "code",
   "execution_count": 9,
   "id": "fd88609d-e319-41bd-9cef-b44be3e418b1",
   "metadata": {},
   "outputs": [],
   "source": [
    "def flatten(t):\n",
    "    return [int(item) for sublist in t for item in sublist]\n",
    "\n",
    "def get_multiple_elements_in_list(in_list, in_indices):\n",
    "    return [in_list[i] for i in in_indices]"
   ]
  },
  {
   "cell_type": "code",
   "execution_count": 65,
   "id": "9b7b6242-2c1a-487d-89b1-964cf8c24358",
   "metadata": {},
   "outputs": [
    {
     "name": "stdout",
     "output_type": "stream",
     "text": [
      "Using matplotlib backend: Qt5Agg\n"
     ]
    },
    {
     "data": {
      "text/plain": [
       "[<matplotlib.lines.Line2D at 0x1b537137670>]"
      ]
     },
     "execution_count": 65,
     "metadata": {},
     "output_type": "execute_result"
    }
   ],
   "source": [
    "# # tmpl plot\n",
    "# %matplotlib auto\n",
    "# plt.plot(tmpl.iloc[0])\n",
    "# plt.plot(tmpl.iloc[1])\n",
    "# plt.plot(tmpl.iloc[2])\n",
    "# plt.plot(tmpl.iloc[3])\n",
    "# plt.plot(tmpl.iloc[4])\n",
    "# plt.plot(110, tmpl.iloc[0][165], 'b*')\n",
    "# plt.plot(165, tmpl.iloc[0][165], 'r*')"
   ]
  },
  {
   "cell_type": "code",
   "execution_count": 226,
   "id": "2ce148b1-491a-4615-922d-63493acb34e3",
   "metadata": {},
   "outputs": [
    {
     "data": {
      "text/plain": [
       "Text(0, 0.5, 'mV')"
      ]
     },
     "execution_count": 226,
     "metadata": {},
     "output_type": "execute_result"
    }
   ],
   "source": [
    "# example plot to compare raw data and filtered data \n",
    "plt.plot(raw[5000:15000],  linestyle='--', linewidth=1)\n",
    "plt.plot(filtered[5000:15000],  linestyle='-', linewidth=1)\n",
    "plt.legend(['Raw', 'Filtered'])\n",
    "plt.xlabel('Sample points')\n",
    "plt.ylabel('mV')"
   ]
  },
  {
   "cell_type": "markdown",
   "id": "40742d3a-a45d-4148-8628-bf218d7f8bbd",
   "metadata": {},
   "source": [
    "#### Plotting Raw data"
   ]
  },
  {
   "cell_type": "code",
   "execution_count": 237,
   "id": "caed7763-9f5c-4ed6-ba3f-f3faf6248ef6",
   "metadata": {
    "tags": []
   },
   "outputs": [],
   "source": [
    "# Raw and rpeak data\n",
    "cor_rpeak[cor_rpeak[0] > 5000]#.index # 51 \n",
    "cor_rpeak[cor_rpeak[0] < 15000]#.index #147\n",
    "lim_cor_rpeak = cor_rpeak[51:147][0].tolist()\n",
    "lim_cor_rpeak = cor_rpeak[51:147][0].tolist()\n",
    "idx = list(map(int, lim_cor_rpeak)) # idx = flatten(cor_rpeak.values[0:2].tolist())\n",
    "raw_list = raw[0].tolist()"
   ]
  },
  {
   "cell_type": "code",
   "execution_count": 232,
   "id": "436ef0ac-85dd-4732-97c5-f5f2d6543a60",
   "metadata": {},
   "outputs": [],
   "source": [
    "def get_multiple_elements_in_list(in_list, in_indices):\n",
    "    return [in_list[i] for i in in_indices]"
   ]
  },
  {
   "cell_type": "code",
   "execution_count": 244,
   "id": "41dd17ad-1182-455d-9dcf-77b578d1ffef",
   "metadata": {},
   "outputs": [
    {
     "data": {
      "text/plain": [
       "Text(0, 0.5, 'mV')"
      ]
     },
     "execution_count": 244,
     "metadata": {},
     "output_type": "execute_result"
    }
   ],
   "source": [
    "plt.plot(raw[5000:15000],  linestyle='-', linewidth=1)\n",
    "plt.plot(idx, get_multiple_elements_in_list (raw_list, idx), 'r*')\n",
    "plt.legend(['Raw', 'R-peak'])\n",
    "plt.xlabel('Sample points')\n",
    "plt.ylabel('mV')"
   ]
  },
  {
   "cell_type": "markdown",
   "id": "b0865ea1-e8be-4063-a131-e2cc0aed356b",
   "metadata": {},
   "source": [
    "#### plotting filtered data"
   ]
  },
  {
   "cell_type": "code",
   "execution_count": 240,
   "id": "a25e9ee5-7d31-486e-90ad-bdb8c6495734",
   "metadata": {},
   "outputs": [],
   "source": [
    "# Filtered and rpeak data\n",
    "cor_rpeak[cor_rpeak[0] > 5000]#.index # 51 \n",
    "cor_rpeak[cor_rpeak[0] < 15000]#.index #147\n",
    "lim_cor_rpeak = cor_rpeak[51:147][0].tolist()\n",
    "idx = list(map(int, lim_cor_rpeak)) # idx = flatten(cor_rpeak.values[0:2].tolist())\n",
    "filtered_list = filtered[0].tolist()"
   ]
  },
  {
   "cell_type": "code",
   "execution_count": 243,
   "id": "1fdf0f43-5f4e-4b0c-99b5-27b23be71e7d",
   "metadata": {},
   "outputs": [
    {
     "data": {
      "text/plain": [
       "Text(0, 0.5, 'mV')"
      ]
     },
     "execution_count": 243,
     "metadata": {},
     "output_type": "execute_result"
    }
   ],
   "source": [
    "plt.plot(filtered[5000:15000],  linestyle='-', linewidth=1)\n",
    "plt.plot(idx, get_multiple_elements_in_list(filtered_list, idx), 'r*')\n",
    "plt.legend(['Filterd', 'R-peak'])\n",
    "plt.xlabel('Sample points')\n",
    "plt.ylabel('mV')"
   ]
  },
  {
   "cell_type": "code",
   "execution_count": 15,
   "id": "b9287fe4-de16-44de-83f4-6d0d5922ff23",
   "metadata": {},
   "outputs": [
    {
     "data": {
      "text/plain": [
       "0    30088.0\n",
       "Name: 249, dtype: float64"
      ]
     },
     "execution_count": 15,
     "metadata": {},
     "output_type": "execute_result"
    }
   ],
   "source": [
    "cor_rpeak[cor_rpeak[0] > 30000].iloc[0]"
   ]
  },
  {
   "cell_type": "code",
   "execution_count": 16,
   "id": "f3b6829f-e0c4-402b-a656-d5ad1d407104",
   "metadata": {},
   "outputs": [],
   "source": [
    "# Filtered and rpeak data\n",
    "start =cor_rpeak[cor_rpeak[0] > 30000].index[0]\n",
    "end = cor_rpeak[cor_rpeak[0] < 45000].index[-1]\n",
    "lim_cor_rpeak = cor_rpeak[start:end][0].tolist()\n",
    "idx = list(map(int, lim_cor_rpeak)) # idx = flatten(cor_rpeak.values[0:2].tolist())\n",
    "filtered_list = filtered[0].tolist()"
   ]
  },
  {
   "cell_type": "code",
   "execution_count": 17,
   "id": "a5104fde-a4af-44cc-99d0-127c9a7866e9",
   "metadata": {},
   "outputs": [
    {
     "data": {
      "text/plain": [
       "Text(0, 0.5, 'mV')"
      ]
     },
     "execution_count": 17,
     "metadata": {},
     "output_type": "execute_result"
    },
    {
     "data": {
      "image/png": "[encoded data removed]",
      "text/plain": [
       "<Figure size 432x288 with 1 Axes>"
      ]
     },
     "metadata": {
      "needs_background": "light"
     },
     "output_type": "display_data"
    }
   ],
   "source": [
    "plt.plot(filtered[30000:45000],  linestyle='-', linewidth=1)\n",
    "plt.plot(idx, get_multiple_elements_in_list (filtered_list, idx), 'r*')\n",
    "plt.legend(['Filterd', 'R-peak'])\n",
    "plt.xlabel('Sample points')\n",
    "plt.ylabel('mV')"
   ]
  },
  {
   "cell_type": "markdown",
   "id": "49605ff3-5332-4dcf-bf45-dc51f2c148e4",
   "metadata": {},
   "source": [
    "#### Normalization"
   ]
  },
  {
   "cell_type": "code",
   "execution_count": 21,
   "id": "37f68051-ef40-4562-bf7b-a24311114738",
   "metadata": {},
   "outputs": [
    {
     "data": {
      "text/plain": [
       "(0   -1.107434\n",
       " dtype: float64,\n",
       " 0    1.135915\n",
       " dtype: float64)"
      ]
     },
     "execution_count": 21,
     "metadata": {},
     "output_type": "execute_result"
    }
   ],
   "source": [
    "# filtered min-max\n",
    "np.min(filtered), np.max(filtered)"
   ]
  },
  {
   "cell_type": "markdown",
   "id": "618f1e2e-f2c4-4761-8375-467ee8d7ec2b",
   "metadata": {},
   "source": [
    "##### Amplitude Normailzation"
   ]
  },
  {
   "cell_type": "code",
   "execution_count": 22,
   "id": "9acb525e-478a-4b47-a43c-0ddf42d29ae7",
   "metadata": {},
   "outputs": [
    {
     "data": {
      "text/plain": [
       "(1.0,\n",
       " 0.0,\n",
       " 0    1.135915\n",
       " dtype: float64,\n",
       " 0   -1.107434\n",
       " dtype: float64)"
      ]
     },
     "execution_count": 22,
     "metadata": {},
     "output_type": "execute_result"
    }
   ],
   "source": [
    "# Task: amplitude Normalization\n",
    "\n",
    "# min-max normalization \n",
    "min_max_scaler = MinMaxScaler()\n",
    "# fyvals \n",
    "\n",
    "# minmax normalization for fxvals(ECG Voltage)\n",
    "yvals_MinMax = min_max_scaler.fit_transform(filtered)\n",
    "\n",
    "# examples\n",
    "yvals_MinMax[370], yvals_MinMax[662], yvals_MinMax[947]\n",
    "\n",
    "np.max(yvals_MinMax), np.min(yvals_MinMax), np.max(filtered), np.min(filtered)"
   ]
  },
  {
   "cell_type": "code",
   "execution_count": 259,
   "id": "5c7d9954-e879-45d2-b4c9-cc3ad44e037d",
   "metadata": {},
   "outputs": [],
   "source": [
    "# import functools\n",
    "# import itertools\n",
    "# import operator\n",
    "# import numpy as np\n",
    "# #import perfplot\n",
    "\n",
    "# def itertools_chain(a):\n",
    "#     return list(itertools.chain.from_iterable(a))"
   ]
  },
  {
   "cell_type": "markdown",
   "id": "1ceb9b0a-7a3a-4fde-b827-878b42e2276c",
   "metadata": {},
   "source": [
    "##### Normalzation for sample points using R-R intervals"
   ]
  },
  {
   "cell_type": "markdown",
   "id": "ec6e2b92-f434-4335-9225-532fdf692c07",
   "metadata": {},
   "source": [
    "###### Caculate R-R intervalsm"
   ]
  },
  {
   "cell_type": "code",
   "execution_count": 23,
   "id": "9ee1b966-fdc4-425b-8360-e0dcb0347f7d",
   "metadata": {},
   "outputs": [],
   "source": [
    "# Task: 1. R-R interval 나누기 + 3. R-R time frame(data points) Normalization \n",
    "\n",
    "# itertools\n",
    "import functools\n",
    "import itertools\n",
    "import operator\n",
    "import numpy as np\n",
    "#import perfplot\n",
    "# signal tools \n",
    "from scipy import signal\n",
    "\n",
    "def itertools_chain(a):\n",
    "    return list(itertools.chain.from_iterable(a))\n",
    "\n",
    "\n",
    "# DataFrame: rr-interval + Norm_amplitude_yvalue\n",
    "def minmax_norm_amplitude(rpeaks, yvals_MinMax):\n",
    "    df_rr_intervals = pd.DataFrame(columns=['RR_index', 'Origin_Rpeak', 'RR_range_idx', 'RR_interval','Norm_amplitude_yvalue'])\n",
    "    \n",
    "    yvals_MinMax = itertools_chain(yvals_MinMax)\n",
    "    \n",
    "    for i in range(len(rpeaks)):\n",
    "        if i + 1 == len(rpeaks):\n",
    "            #rr_range_idx = i+1\n",
    "            break\n",
    "        else:\n",
    "            origin_rpeak = rpeaks.iloc[i]\n",
    "            rr_range_idx =[i, i+1]\n",
    "            # list to str\n",
    "            rr_range_idx = ','.join(str(e) for e in rr_range_idx)\n",
    "            rr_interval = rpeaks.iloc[i+1] - rpeaks.iloc[i]\n",
    "            new_yval = yvals_MinMax[int(rpeaks.iloc[i]):int(rpeaks.iloc[i+1])]\n",
    "            # new_yval_1d = sum(new_yval.tolist(), [])\n",
    "\n",
    "            # add data into dictionary(dataframe)\n",
    "            tmp = pd.DataFrame({'RR_index':i,  'Origin_Rpeak':origin_rpeak, 'RR_range_idx': rr_range_idx, 'RR_interval':rr_interval,'Norm_amplitude_yvalue':[new_yval]})\n",
    "            # \"rr_index: i \" means 0:rpeak[1]-rpeak[0]\n",
    "            \n",
    "            df_rr_intervals = pd.concat([df_rr_intervals, tmp])\n",
    "            \n",
    "    return df_rr_intervals"
   ]
  },
  {
   "cell_type": "code",
   "execution_count": 24,
   "id": "cef66afb-28f0-4acb-95ea-25d3f97a7826",
   "metadata": {},
   "outputs": [],
   "source": [
    "df = minmax_norm_amplitude(cor_rpeak, yvals_MinMax)"
   ]
  },
  {
   "cell_type": "code",
   "execution_count": 25,
   "id": "9240a6a3-9920-4261-9a65-6d05ddfc29b1",
   "metadata": {},
   "outputs": [
    {
     "data": {
      "text/html": [
       "<div>\n",
       "<style scoped>\n",
       "    .dataframe tbody tr th:only-of-type {\n",
       "        vertical-align: middle;\n",
       "    }\n",
       "\n",
       "    .dataframe tbody tr th {\n",
       "        vertical-align: top;\n",
       "    }\n",
       "\n",
       "    .dataframe thead th {\n",
       "        text-align: right;\n",
       "    }\n",
       "</style>\n",
       "<table border=\"1\" class=\"dataframe\">\n",
       "  <thead>\n",
       "    <tr style=\"text-align: right;\">\n",
       "      <th></th>\n",
       "      <th>RR_index</th>\n",
       "      <th>Origin_Rpeak</th>\n",
       "      <th>RR_range_idx</th>\n",
       "      <th>RR_interval</th>\n",
       "      <th>Norm_amplitude_yvalue</th>\n",
       "    </tr>\n",
       "  </thead>\n",
       "  <tbody>\n",
       "    <tr>\n",
       "      <th>0</th>\n",
       "      <td>0</td>\n",
       "      <td>110.0</td>\n",
       "      <td>0,1</td>\n",
       "      <td>93.0</td>\n",
       "      <td>[0.5417706518706554, 0.5381215106189443, 0.523...</td>\n",
       "    </tr>\n",
       "    <tr>\n",
       "      <th>0</th>\n",
       "      <td>1</td>\n",
       "      <td>203.0</td>\n",
       "      <td>1,2</td>\n",
       "      <td>94.0</td>\n",
       "      <td>[0.548086815504595, 0.5458375522748442, 0.5295...</td>\n",
       "    </tr>\n",
       "    <tr>\n",
       "      <th>0</th>\n",
       "      <td>2</td>\n",
       "      <td>297.0</td>\n",
       "      <td>2,3</td>\n",
       "      <td>94.0</td>\n",
       "      <td>[0.548824324850647, 0.5429890563946073, 0.5205...</td>\n",
       "    </tr>\n",
       "    <tr>\n",
       "      <th>0</th>\n",
       "      <td>3</td>\n",
       "      <td>391.0</td>\n",
       "      <td>3,4</td>\n",
       "      <td>97.0</td>\n",
       "      <td>[0.5514229481617839, 0.5383639126795856, 0.505...</td>\n",
       "    </tr>\n",
       "    <tr>\n",
       "      <th>0</th>\n",
       "      <td>4</td>\n",
       "      <td>488.0</td>\n",
       "      <td>4,5</td>\n",
       "      <td>109.0</td>\n",
       "      <td>[0.5502884524609997, 0.5438171913558956, 0.519...</td>\n",
       "    </tr>\n",
       "    <tr>\n",
       "      <th>...</th>\n",
       "      <td>...</td>\n",
       "      <td>...</td>\n",
       "      <td>...</td>\n",
       "      <td>...</td>\n",
       "      <td>...</td>\n",
       "    </tr>\n",
       "    <tr>\n",
       "      <th>0</th>\n",
       "      <td>2954</td>\n",
       "      <td>459895.0</td>\n",
       "      <td>2954,2955</td>\n",
       "      <td>160.0</td>\n",
       "      <td>[0.5322498809635623, 0.5319782354163556, 0.522...</td>\n",
       "    </tr>\n",
       "    <tr>\n",
       "      <th>0</th>\n",
       "      <td>2955</td>\n",
       "      <td>460055.0</td>\n",
       "      <td>2955,2956</td>\n",
       "      <td>88.0</td>\n",
       "      <td>[0.6027942271158092, 0.5983033046308606, 0.552...</td>\n",
       "    </tr>\n",
       "    <tr>\n",
       "      <th>0</th>\n",
       "      <td>2956</td>\n",
       "      <td>460143.0</td>\n",
       "      <td>2956,2957</td>\n",
       "      <td>287.0</td>\n",
       "      <td>[0.558978022726707, 0.5554302061736017, 0.5304...</td>\n",
       "    </tr>\n",
       "    <tr>\n",
       "      <th>0</th>\n",
       "      <td>2957</td>\n",
       "      <td>460430.0</td>\n",
       "      <td>2957,2958</td>\n",
       "      <td>116.0</td>\n",
       "      <td>[0.5346761121259085, 0.5287756306728173, 0.513...</td>\n",
       "    </tr>\n",
       "    <tr>\n",
       "      <th>0</th>\n",
       "      <td>2958</td>\n",
       "      <td>460546.0</td>\n",
       "      <td>2958,2959</td>\n",
       "      <td>86.0</td>\n",
       "      <td>[0.5457897777756305, 0.5450471870820223, 0.542...</td>\n",
       "    </tr>\n",
       "  </tbody>\n",
       "</table>\n",
       "<p>2959 rows × 5 columns</p>\n",
       "</div>"
      ],
      "text/plain": [
       "   RR_index  Origin_Rpeak RR_range_idx  RR_interval  \\\n",
       "0         0         110.0          0,1         93.0   \n",
       "0         1         203.0          1,2         94.0   \n",
       "0         2         297.0          2,3         94.0   \n",
       "0         3         391.0          3,4         97.0   \n",
       "0         4         488.0          4,5        109.0   \n",
       "..      ...           ...          ...          ...   \n",
       "0      2954      459895.0    2954,2955        160.0   \n",
       "0      2955      460055.0    2955,2956         88.0   \n",
       "0      2956      460143.0    2956,2957        287.0   \n",
       "0      2957      460430.0    2957,2958        116.0   \n",
       "0      2958      460546.0    2958,2959         86.0   \n",
       "\n",
       "                                Norm_amplitude_yvalue  \n",
       "0   [0.5417706518706554, 0.5381215106189443, 0.523...  \n",
       "0   [0.548086815504595, 0.5458375522748442, 0.5295...  \n",
       "0   [0.548824324850647, 0.5429890563946073, 0.5205...  \n",
       "0   [0.5514229481617839, 0.5383639126795856, 0.505...  \n",
       "0   [0.5502884524609997, 0.5438171913558956, 0.519...  \n",
       "..                                                ...  \n",
       "0   [0.5322498809635623, 0.5319782354163556, 0.522...  \n",
       "0   [0.6027942271158092, 0.5983033046308606, 0.552...  \n",
       "0   [0.558978022726707, 0.5554302061736017, 0.5304...  \n",
       "0   [0.5346761121259085, 0.5287756306728173, 0.513...  \n",
       "0   [0.5457897777756305, 0.5450471870820223, 0.542...  \n",
       "\n",
       "[2959 rows x 5 columns]"
      ]
     },
     "execution_count": 25,
     "metadata": {},
     "output_type": "execute_result"
    }
   ],
   "source": [
    "df"
   ]
  },
  {
   "cell_type": "code",
   "execution_count": 26,
   "id": "54085535-e17d-4db9-be36-75bdc34ba024",
   "metadata": {},
   "outputs": [],
   "source": [
    "df_rr_intervals = df "
   ]
  },
  {
   "cell_type": "markdown",
   "id": "ded40456-1d64-45e8-8ea6-69fe8236085d",
   "metadata": {},
   "source": [
    "###### Normalized Frmae; Sample pointm"
   ]
  },
  {
   "cell_type": "code",
   "execution_count": 27,
   "id": "e85ab8d9-afd8-43d4-974d-f728812be6ac",
   "metadata": {},
   "outputs": [
    {
     "data": {
      "text/html": [
       "<div>\n",
       "<style scoped>\n",
       "    .dataframe tbody tr th:only-of-type {\n",
       "        vertical-align: middle;\n",
       "    }\n",
       "\n",
       "    .dataframe tbody tr th {\n",
       "        vertical-align: top;\n",
       "    }\n",
       "\n",
       "    .dataframe thead th {\n",
       "        text-align: right;\n",
       "    }\n",
       "</style>\n",
       "<table border=\"1\" class=\"dataframe\">\n",
       "  <thead>\n",
       "    <tr style=\"text-align: right;\">\n",
       "      <th></th>\n",
       "      <th>RR_index</th>\n",
       "      <th>Origin_Rpeak</th>\n",
       "      <th>RR_range_idx</th>\n",
       "      <th>RR_interval</th>\n",
       "      <th>Norm_amplitude_yvalue</th>\n",
       "      <th>Point_norm_sample</th>\n",
       "    </tr>\n",
       "  </thead>\n",
       "  <tbody>\n",
       "    <tr>\n",
       "      <th>0</th>\n",
       "      <td>0</td>\n",
       "      <td>110.0</td>\n",
       "      <td>0,1</td>\n",
       "      <td>93.0</td>\n",
       "      <td>[0.5417706518706554, 0.5381215106189443, 0.523...</td>\n",
       "      <td>[0.5417706518706557, 0.5390732047044269, 0.528...</td>\n",
       "    </tr>\n",
       "    <tr>\n",
       "      <th>0</th>\n",
       "      <td>1</td>\n",
       "      <td>203.0</td>\n",
       "      <td>1,2</td>\n",
       "      <td>94.0</td>\n",
       "      <td>[0.548086815504595, 0.5458375522748442, 0.5295...</td>\n",
       "      <td>[0.5480868155045949, 0.5468183994252461, 0.535...</td>\n",
       "    </tr>\n",
       "    <tr>\n",
       "      <th>0</th>\n",
       "      <td>2</td>\n",
       "      <td>297.0</td>\n",
       "      <td>2,3</td>\n",
       "      <td>94.0</td>\n",
       "      <td>[0.548824324850647, 0.5429890563946073, 0.5205...</td>\n",
       "      <td>[0.548824324850647, 0.5444499538358629, 0.5281...</td>\n",
       "    </tr>\n",
       "    <tr>\n",
       "      <th>0</th>\n",
       "      <td>3</td>\n",
       "      <td>391.0</td>\n",
       "      <td>3,4</td>\n",
       "      <td>97.0</td>\n",
       "      <td>[0.5514229481617839, 0.5383639126795856, 0.505...</td>\n",
       "      <td>[0.5514229481617832, 0.5407621565580057, 0.513...</td>\n",
       "    </tr>\n",
       "    <tr>\n",
       "      <th>0</th>\n",
       "      <td>4</td>\n",
       "      <td>488.0</td>\n",
       "      <td>4,5</td>\n",
       "      <td>109.0</td>\n",
       "      <td>[0.5502884524609997, 0.5438171913558956, 0.519...</td>\n",
       "      <td>[0.5502884524610014, 0.5436282986743963, 0.519...</td>\n",
       "    </tr>\n",
       "    <tr>\n",
       "      <th>...</th>\n",
       "      <td>...</td>\n",
       "      <td>...</td>\n",
       "      <td>...</td>\n",
       "      <td>...</td>\n",
       "      <td>...</td>\n",
       "      <td>...</td>\n",
       "    </tr>\n",
       "    <tr>\n",
       "      <th>0</th>\n",
       "      <td>2954</td>\n",
       "      <td>459895.0</td>\n",
       "      <td>2954,2955</td>\n",
       "      <td>160.0</td>\n",
       "      <td>[0.5322498809635623, 0.5319782354163556, 0.522...</td>\n",
       "      <td>[0.5425613389324274, 0.5250361515922898, 0.513...</td>\n",
       "    </tr>\n",
       "    <tr>\n",
       "      <th>0</th>\n",
       "      <td>2955</td>\n",
       "      <td>460055.0</td>\n",
       "      <td>2955,2956</td>\n",
       "      <td>88.0</td>\n",
       "      <td>[0.6027942271158092, 0.5983033046308606, 0.552...</td>\n",
       "      <td>[0.6027942271158093, 0.6043490329885054, 0.571...</td>\n",
       "    </tr>\n",
       "    <tr>\n",
       "      <th>0</th>\n",
       "      <td>2956</td>\n",
       "      <td>460143.0</td>\n",
       "      <td>2956,2957</td>\n",
       "      <td>287.0</td>\n",
       "      <td>[0.558978022726707, 0.5554302061736017, 0.5304...</td>\n",
       "      <td>[0.5535446248505203, 0.5043933333071139, 0.364...</td>\n",
       "    </tr>\n",
       "    <tr>\n",
       "      <th>0</th>\n",
       "      <td>2957</td>\n",
       "      <td>460430.0</td>\n",
       "      <td>2957,2958</td>\n",
       "      <td>116.0</td>\n",
       "      <td>[0.5346761121259085, 0.5287756306728173, 0.513...</td>\n",
       "      <td>[0.5349959214577653, 0.5278488509733817, 0.511...</td>\n",
       "    </tr>\n",
       "    <tr>\n",
       "      <th>0</th>\n",
       "      <td>2958</td>\n",
       "      <td>460546.0</td>\n",
       "      <td>2958,2959</td>\n",
       "      <td>86.0</td>\n",
       "      <td>[0.5457897777756305, 0.5450471870820223, 0.542...</td>\n",
       "      <td>[0.5457897777756308, 0.5455181388778435, 0.543...</td>\n",
       "    </tr>\n",
       "  </tbody>\n",
       "</table>\n",
       "<p>2959 rows × 6 columns</p>\n",
       "</div>"
      ],
      "text/plain": [
       "   RR_index  Origin_Rpeak RR_range_idx  RR_interval  \\\n",
       "0         0         110.0          0,1         93.0   \n",
       "0         1         203.0          1,2         94.0   \n",
       "0         2         297.0          2,3         94.0   \n",
       "0         3         391.0          3,4         97.0   \n",
       "0         4         488.0          4,5        109.0   \n",
       "..      ...           ...          ...          ...   \n",
       "0      2954      459895.0    2954,2955        160.0   \n",
       "0      2955      460055.0    2955,2956         88.0   \n",
       "0      2956      460143.0    2956,2957        287.0   \n",
       "0      2957      460430.0    2957,2958        116.0   \n",
       "0      2958      460546.0    2958,2959         86.0   \n",
       "\n",
       "                                Norm_amplitude_yvalue  \\\n",
       "0   [0.5417706518706554, 0.5381215106189443, 0.523...   \n",
       "0   [0.548086815504595, 0.5458375522748442, 0.5295...   \n",
       "0   [0.548824324850647, 0.5429890563946073, 0.5205...   \n",
       "0   [0.5514229481617839, 0.5383639126795856, 0.505...   \n",
       "0   [0.5502884524609997, 0.5438171913558956, 0.519...   \n",
       "..                                                ...   \n",
       "0   [0.5322498809635623, 0.5319782354163556, 0.522...   \n",
       "0   [0.6027942271158092, 0.5983033046308606, 0.552...   \n",
       "0   [0.558978022726707, 0.5554302061736017, 0.5304...   \n",
       "0   [0.5346761121259085, 0.5287756306728173, 0.513...   \n",
       "0   [0.5457897777756305, 0.5450471870820223, 0.542...   \n",
       "\n",
       "                                    Point_norm_sample  \n",
       "0   [0.5417706518706557, 0.5390732047044269, 0.528...  \n",
       "0   [0.5480868155045949, 0.5468183994252461, 0.535...  \n",
       "0   [0.548824324850647, 0.5444499538358629, 0.5281...  \n",
       "0   [0.5514229481617832, 0.5407621565580057, 0.513...  \n",
       "0   [0.5502884524610014, 0.5436282986743963, 0.519...  \n",
       "..                                                ...  \n",
       "0   [0.5425613389324274, 0.5250361515922898, 0.513...  \n",
       "0   [0.6027942271158093, 0.6043490329885054, 0.571...  \n",
       "0   [0.5535446248505203, 0.5043933333071139, 0.364...  \n",
       "0   [0.5349959214577653, 0.5278488509733817, 0.511...  \n",
       "0   [0.5457897777756308, 0.5455181388778435, 0.543...  \n",
       "\n",
       "[2959 rows x 6 columns]"
      ]
     },
     "execution_count": 27,
     "metadata": {},
     "output_type": "execute_result"
    }
   ],
   "source": [
    "# resampling\n",
    "p_new_yval_1ds = []\n",
    "point_norm_sample = int(np.median(df_rr_intervals['RR_interval'])) # median=108 #mean=155\n",
    "\n",
    "for i in range(len(df_rr_intervals)):\n",
    "    p_new_yval = signal.resample(df_rr_intervals['Norm_amplitude_yvalue'].iloc[i], point_norm_sample)\n",
    "    p_new_yval_1d = p_new_yval.tolist()\n",
    "    p_new_yval_1ds.append(p_new_yval_1d)\n",
    "\n",
    "#norm_df = pd.concat(df_rr_intervals, df_rr_intervals[''])\n",
    "norm_df = df_rr_intervals.assign(Point_norm_sample = p_new_yval_1ds)\n",
    "\n",
    "norm_df\n",
    "\n",
    "# plt.hist(rr_intervals)# np.mean(rr_intervals), np.median(rr_intervals), np.max(rr_intervals)"
   ]
  },
  {
   "cell_type": "code",
   "execution_count": null,
   "id": "461ec155-107a-451d-8da8-1541258265da",
   "metadata": {},
   "outputs": [],
   "source": []
  },
  {
   "cell_type": "code",
   "execution_count": 28,
   "id": "77244b14-6f9f-4e96-bdf5-64dc24557853",
   "metadata": {},
   "outputs": [
    {
     "data": {
      "text/plain": [
       "Text(0.5, 1.0, 'Normalized RR-interval: 108 sample points for 156')"
      ]
     },
     "execution_count": 28,
     "metadata": {},
     "output_type": "execute_result"
    },
    {
     "data": {
      "image/png": "[encoded data removed]",
      "text/plain": [
       "<Figure size 432x288 with 1 Axes>"
      ]
     },
     "metadata": {
      "needs_background": "light"
     },
     "output_type": "display_data"
    }
   ],
   "source": [
    "# plot to compare normalized data and original data \n",
    "# set i\n",
    "i = 489\n",
    "\n",
    "fig, ax = plt.subplots()\n",
    "\n",
    "ax.plot(list(range(len(norm_df.iloc[i]['Norm_amplitude_yvalue']))), norm_df.iloc[i]['Norm_amplitude_yvalue'], label='Original RR')\n",
    "ax.legend()\n",
    "ax.plot(list(range(len(norm_df.iloc[i]['Point_norm_sample']))), norm_df.iloc[i]['Point_norm_sample'], label='Normalized RR')\n",
    "ax.legend()\n",
    "\n",
    "ax.set_ylabel('mV')\n",
    "ax.set_xlabel('Sample Points')\n",
    "plt.title('Normalized RR-interval: {} sample points for {}'.format(int(np.median(norm_df['RR_interval'])), int(norm_df.iloc[i]['RR_interval'])), fontsize=12)\n"
   ]
  },
  {
   "cell_type": "code",
   "execution_count": null,
   "id": "d6f57b37-7b29-49b6-8aef-179a42a34ac5",
   "metadata": {},
   "outputs": [],
   "source": []
  },
  {
   "cell_type": "markdown",
   "id": "ff6ec43e-a57c-489f-960d-8d6d4953b8c4",
   "metadata": {},
   "source": [
    "### Get cosine similarity"
   ]
  },
  {
   "cell_type": "code",
   "execution_count": 29,
   "id": "e44fdde5-448d-4ea1-bece-6f7ec361d94b",
   "metadata": {},
   "outputs": [
    {
     "data": {
      "text/plain": [
       "'C:\\\\Users\\\\MI2RL-KHJ\\\\workspace_signal\\\\mit\\\\20211012_sample\\\\norm'"
      ]
     },
     "execution_count": 29,
     "metadata": {},
     "output_type": "execute_result"
    }
   ],
   "source": [
    "# tmp define subject \n",
    "Path_Norm\n",
    "subject= file_norm_00[0].split('.csv')[0].split('rpeaks_')[-1]\n",
    "Path_Norm"
   ]
  },
  {
   "cell_type": "code",
   "execution_count": 30,
   "id": "95d2ac51-9218-45b1-b94c-8e7472ddebf6",
   "metadata": {},
   "outputs": [],
   "source": [
    "PATH_IN = Path_Norm\n",
    "os.getcwd()\n",
    "os.chdir(PATH_IN)\n",
    "rpeakList = [i for i in os.listdir(PATH_IN) if i.startswith('correct')]\n",
    "fxvalList = [i for i in os.listdir(PATH_IN) if i.startswith('filtered')]"
   ]
  },
  {
   "cell_type": "code",
   "execution_count": 213,
   "id": "fe877ff5-612f-47a7-b749-a2b469694a34",
   "metadata": {},
   "outputs": [],
   "source": [
    "def cal_cosine_similarity(PATH_IN):\n",
    "    \n",
    "    # load data\n",
    "    os.chdir(PATH_IN)\n",
    "    rpeakList = [i for i in os.listdir(PATH_IN) if i.startswith('correct')]\n",
    "    fxvalList = [i for i in os.listdir(PATH_IN) if i.startswith('filtered')]\n",
    "    \n",
    "    try: \n",
    "        os.mkdir(os.path.join(PATH_IN, 'cosine_sim'))\n",
    "    except:\n",
    "        pass\n",
    "        \n",
    "    \n",
    "    for i in range(len(rpeakList)):\n",
    "        subject= '_'.join(rpeakList[i].split('.')[0].split('_')[-2:])\n",
    "        rpeaks = pd.read_csv(rpeakList[i], header=None)\n",
    "        amplitudes = pd.read_csv(fxvalList[i], header=None)\n",
    "\n",
    "        ## Task: 2. R-R amplitude Normalization\n",
    "        # min-max normalization \n",
    "        min_max_scaler = MinMaxScaler()\n",
    "        # minmax normalization for fxvals(ECG Voltage)\n",
    "        amplitudes_MinMax = min_max_scaler.fit_transform(amplitudes)\n",
    "\n",
    "\n",
    "        # Task: 1. R-R interval 나누기 + 3. R-R time frame(data points) Normalization             \n",
    "        # Task: 3. R-R time frame(data points) Normalization \n",
    "        # Return rr_intervals, yvals\n",
    "        rr_intervals = []\n",
    "        y_vals = []\n",
    "        for i in range(len(rpeaks)):\n",
    "            if i + 1 == len(rpeaks):\n",
    "                break\n",
    "            else:\n",
    "                rr_interval = rpeaks.iloc[i+1] - rpeaks.iloc[i]\n",
    "                y_val = amplitudes_MinMax[int(rpeaks.iloc[i]):int(rpeaks.iloc[i+1])]\n",
    "                rr_intervals.append(int(rr_interval))\n",
    "                y_vals.append(y_val)\n",
    "\n",
    "        if len(y_vals) == len(rr_intervals):\n",
    "            rr_interval_Norm = np.median(rr_intervals)\n",
    "        else: \n",
    "            print(\"{} Error: Not Same between the length of y_vals and the length of rr_intervals\".format(subject))\n",
    "\n",
    "        # rr_interval_Norm: Reference\n",
    "        new_yvals = [] # new y-values based on normalized rr interval -> they have sample data ponits\n",
    "        org_len = []\n",
    "        for y_val in range(len(y_vals)):\n",
    "            org_len.append(len(y_vals[y_val]))\n",
    "            new_yval = signal.resample(y_vals[y_val], int(rr_interval_Norm))\n",
    "            new_yvals.append(new_yval)\n",
    "\n",
    "        # make matrix: [len(new_yvals) * len(reference; R-R interval Nromalziation)]\n",
    "        total_points = []\n",
    "        median_points = []\n",
    "        for len_rr_y_values in range(len(new_yvals[0])): # len(new_yvals) = 287\n",
    "            points = []\n",
    "            for len_y_values in range(len(new_yvals)): # # len(new_yvals) = 2771 \n",
    "                point = new_yvals[len_y_values][len_rr_y_values]\n",
    "                points.append(point)\n",
    "            total_points.append(points)\n",
    "            median_points.append(np.median(points))\n",
    "            #print(total_points)\n",
    "            break\n",
    "\n",
    "\n",
    "#         # calculate cosine simmlarities of each point comparing reference(new_yval) \n",
    "#         cos_sims = []\n",
    "#         ref = median_points\n",
    "#         for new_yval in new_yvals:\n",
    "#             cos_sim = cosine_similarity(np.array(ref).reshape(1,-1), np.array(new_yval).reshape(1,-1))\n",
    "#             cos_sims.append(cos_sim)\n",
    "#             break\n",
    "            \n",
    "\n",
    "        # when cos_sims exists over 1600, data makes two lines -> so, we divide cos_sims into each cos_sims dataset with 1000 cos_sims\n",
    "    #     stems = [list(range(i*1000,(i + 1)*1000)) for i in list(range(divmod(len(cos_sims), 1000)[0]))]\n",
    "    #     leafs = list(i+1 for i in range(divmod(len(cos_sims), 1000)[1]))\n",
    "\n",
    "\n",
    "    #     results = subject + ',' +  str(int(rr_interval_Norm)) + ',' +  '; '.join(str(e) for e in org_len_yvals) +  ',' +  '; '.join(str(e) for e in np.concatenate(np.concatenate(cos_sims)).tolist()) + ',' + '\\n'\n",
    "    #     with open (os.path.join(PATH_IN, 'cosine_similarity.csv'), 'a') as f:\n",
    "    #                f.write(results)\n",
    "\n",
    "\n",
    "#         # Make Sorted DataFrame and .csv file depending on each subject \n",
    "#         df = pd.DataFrame({'index':range(len(cos_sims)), 'cos_sim':np.concatenate(np.concatenate(cos_sims)).tolist(), 'original_points':org_len})#,ascending=False)\n",
    "#         df_sorted = df.sort_values(by=['cos_sim'], ascending=False)\n",
    "# #         tmp_index = tmp['index']\n",
    "#         df_sorted.index= list(range(len(cos_sims)))\n",
    "\n",
    "#         df_sorted.to_csv(os.path.join(PATH_IN, 'cosine_sim', 'cos_sim_{}_{}.csv'.format(subject, int(rr_interval_Norm))))\n",
    "\n",
    "        print('{} is done. ; the length of Reference Frame: {}'.format(subject, int(rr_interval_Norm)))\n",
    "    print(\"All finished\")    \n",
    "                          "
   ]
  },
  {
   "cell_type": "code",
   "execution_count": null,
   "id": "6f493c58-f0d7-431d-8f7e-bb12f195ca0b",
   "metadata": {},
   "outputs": [],
   "source": []
  },
  {
   "cell_type": "code",
   "execution_count": 214,
   "id": "734c335e-b242-4f9a-8a59-1ee8e6ff2e6b",
   "metadata": {},
   "outputs": [
    {
     "name": "stdout",
     "output_type": "stream",
     "text": [
      "norm_00 is done. ; the length of Reference Frame: 108\n",
      "norm_01 is done. ; the length of Reference Frame: 127\n",
      "norm_02 is done. ; the length of Reference Frame: 99\n",
      "norm_03 is done. ; the length of Reference Frame: 94\n",
      "norm_04 is done. ; the length of Reference Frame: 83\n",
      "norm_05 is done. ; the length of Reference Frame: 123\n",
      "norm_06 is done. ; the length of Reference Frame: 101\n",
      "norm_07 is done. ; the length of Reference Frame: 107\n",
      "norm_08 is done. ; the length of Reference Frame: 92\n",
      "norm_09 is done. ; the length of Reference Frame: 121\n"
     ]
    },
    {
     "ename": "KeyboardInterrupt",
     "evalue": "",
     "output_type": "error",
     "traceback": [
      "\u001b[1;31m---------------------------------------------------------------------------\u001b[0m",
      "\u001b[1;31mKeyboardInterrupt\u001b[0m                         Traceback (most recent call last)",
      "\u001b[1;32m<ipython-input-214-48ccfde10f5f>\u001b[0m in \u001b[0;36m<module>\u001b[1;34m\u001b[0m\n\u001b[1;32m----> 1\u001b[1;33m \u001b[0mcal_cosine_similarity\u001b[0m\u001b[1;33m(\u001b[0m\u001b[0mPATH_IN\u001b[0m\u001b[1;33m)\u001b[0m\u001b[1;33m\u001b[0m\u001b[1;33m\u001b[0m\u001b[0m\n\u001b[0m",
      "\u001b[1;32m<ipython-input-213-b249ffd384dc>\u001b[0m in \u001b[0;36mcal_cosine_similarity\u001b[1;34m(PATH_IN)\u001b[0m\n\u001b[0;32m     48\u001b[0m         \u001b[1;32mfor\u001b[0m \u001b[0my_val\u001b[0m \u001b[1;32min\u001b[0m \u001b[0mrange\u001b[0m\u001b[1;33m(\u001b[0m\u001b[0mlen\u001b[0m\u001b[1;33m(\u001b[0m\u001b[0my_vals\u001b[0m\u001b[1;33m)\u001b[0m\u001b[1;33m)\u001b[0m\u001b[1;33m:\u001b[0m\u001b[1;33m\u001b[0m\u001b[1;33m\u001b[0m\u001b[0m\n\u001b[0;32m     49\u001b[0m             \u001b[0morg_len\u001b[0m\u001b[1;33m.\u001b[0m\u001b[0mappend\u001b[0m\u001b[1;33m(\u001b[0m\u001b[0mlen\u001b[0m\u001b[1;33m(\u001b[0m\u001b[0my_vals\u001b[0m\u001b[1;33m[\u001b[0m\u001b[0my_val\u001b[0m\u001b[1;33m]\u001b[0m\u001b[1;33m)\u001b[0m\u001b[1;33m)\u001b[0m\u001b[1;33m\u001b[0m\u001b[1;33m\u001b[0m\u001b[0m\n\u001b[1;32m---> 50\u001b[1;33m             \u001b[0mnew_yval\u001b[0m \u001b[1;33m=\u001b[0m \u001b[0msignal\u001b[0m\u001b[1;33m.\u001b[0m\u001b[0mresample\u001b[0m\u001b[1;33m(\u001b[0m\u001b[0my_vals\u001b[0m\u001b[1;33m[\u001b[0m\u001b[0my_val\u001b[0m\u001b[1;33m]\u001b[0m\u001b[1;33m,\u001b[0m \u001b[0mint\u001b[0m\u001b[1;33m(\u001b[0m\u001b[0mrr_interval_Norm\u001b[0m\u001b[1;33m)\u001b[0m\u001b[1;33m)\u001b[0m\u001b[1;33m\u001b[0m\u001b[1;33m\u001b[0m\u001b[0m\n\u001b[0m\u001b[0;32m     51\u001b[0m             \u001b[0mnew_yvals\u001b[0m\u001b[1;33m.\u001b[0m\u001b[0mappend\u001b[0m\u001b[1;33m(\u001b[0m\u001b[0mnew_yval\u001b[0m\u001b[1;33m)\u001b[0m\u001b[1;33m\u001b[0m\u001b[1;33m\u001b[0m\u001b[0m\n\u001b[0;32m     52\u001b[0m \u001b[1;33m\u001b[0m\u001b[0m\n",
      "\u001b[1;32m~\\anaconda3\\envs\\ecg_env\\lib\\site-packages\\scipy\\signal\\signaltools.py\u001b[0m in \u001b[0;36mresample\u001b[1;34m(x, num, t, axis, window, domain)\u001b[0m\n\u001b[0;32m   3081\u001b[0m     \u001b[1;31m# Inverse transform\u001b[0m\u001b[1;33m\u001b[0m\u001b[1;33m\u001b[0m\u001b[1;33m\u001b[0m\u001b[0m\n\u001b[0;32m   3082\u001b[0m     \u001b[1;32mif\u001b[0m \u001b[0mreal_input\u001b[0m\u001b[1;33m:\u001b[0m\u001b[1;33m\u001b[0m\u001b[1;33m\u001b[0m\u001b[0m\n\u001b[1;32m-> 3083\u001b[1;33m         \u001b[0my\u001b[0m \u001b[1;33m=\u001b[0m \u001b[0msp_fft\u001b[0m\u001b[1;33m.\u001b[0m\u001b[0mirfft\u001b[0m\u001b[1;33m(\u001b[0m\u001b[0mY\u001b[0m\u001b[1;33m,\u001b[0m \u001b[0mnum\u001b[0m\u001b[1;33m,\u001b[0m \u001b[0maxis\u001b[0m\u001b[1;33m=\u001b[0m\u001b[0maxis\u001b[0m\u001b[1;33m)\u001b[0m\u001b[1;33m\u001b[0m\u001b[1;33m\u001b[0m\u001b[0m\n\u001b[0m\u001b[0;32m   3084\u001b[0m     \u001b[1;32melse\u001b[0m\u001b[1;33m:\u001b[0m\u001b[1;33m\u001b[0m\u001b[1;33m\u001b[0m\u001b[0m\n\u001b[0;32m   3085\u001b[0m         \u001b[0my\u001b[0m \u001b[1;33m=\u001b[0m \u001b[0msp_fft\u001b[0m\u001b[1;33m.\u001b[0m\u001b[0mifft\u001b[0m\u001b[1;33m(\u001b[0m\u001b[0mY\u001b[0m\u001b[1;33m,\u001b[0m \u001b[0maxis\u001b[0m\u001b[1;33m=\u001b[0m\u001b[0maxis\u001b[0m\u001b[1;33m,\u001b[0m \u001b[0moverwrite_x\u001b[0m\u001b[1;33m=\u001b[0m\u001b[1;32mTrue\u001b[0m\u001b[1;33m)\u001b[0m\u001b[1;33m\u001b[0m\u001b[1;33m\u001b[0m\u001b[0m\n",
      "\u001b[1;32m~\\anaconda3\\envs\\ecg_env\\lib\\site-packages\\scipy\\fft\\_backend.py\u001b[0m in \u001b[0;36m__ua_function__\u001b[1;34m(method, args, kwargs)\u001b[0m\n\u001b[0;32m     21\u001b[0m         \u001b[1;32mif\u001b[0m \u001b[0mfn\u001b[0m \u001b[1;32mis\u001b[0m \u001b[1;32mNone\u001b[0m\u001b[1;33m:\u001b[0m\u001b[1;33m\u001b[0m\u001b[1;33m\u001b[0m\u001b[0m\n\u001b[0;32m     22\u001b[0m             \u001b[1;32mreturn\u001b[0m \u001b[0mNotImplemented\u001b[0m\u001b[1;33m\u001b[0m\u001b[1;33m\u001b[0m\u001b[0m\n\u001b[1;32m---> 23\u001b[1;33m         \u001b[1;32mreturn\u001b[0m \u001b[0mfn\u001b[0m\u001b[1;33m(\u001b[0m\u001b[1;33m*\u001b[0m\u001b[0margs\u001b[0m\u001b[1;33m,\u001b[0m \u001b[1;33m**\u001b[0m\u001b[0mkwargs\u001b[0m\u001b[1;33m)\u001b[0m\u001b[1;33m\u001b[0m\u001b[1;33m\u001b[0m\u001b[0m\n\u001b[0m\u001b[0;32m     24\u001b[0m \u001b[1;33m\u001b[0m\u001b[0m\n\u001b[0;32m     25\u001b[0m \u001b[1;33m\u001b[0m\u001b[0m\n",
      "\u001b[1;32m~\\anaconda3\\envs\\ecg_env\\lib\\site-packages\\scipy\\fft\\_pocketfft\\basic.py\u001b[0m in \u001b[0;36mc2r\u001b[1;34m(forward, x, n, axis, norm, overwrite_x, workers, plan)\u001b[0m\n\u001b[0;32m     95\u001b[0m \u001b[1;33m\u001b[0m\u001b[0m\n\u001b[0;32m     96\u001b[0m     \u001b[1;31m# Note: overwrite_x is not utilized\u001b[0m\u001b[1;33m\u001b[0m\u001b[1;33m\u001b[0m\u001b[1;33m\u001b[0m\u001b[0m\n\u001b[1;32m---> 97\u001b[1;33m     \u001b[1;32mreturn\u001b[0m \u001b[0mpfft\u001b[0m\u001b[1;33m.\u001b[0m\u001b[0mc2r\u001b[0m\u001b[1;33m(\u001b[0m\u001b[0mtmp\u001b[0m\u001b[1;33m,\u001b[0m \u001b[1;33m(\u001b[0m\u001b[0maxis\u001b[0m\u001b[1;33m,\u001b[0m\u001b[1;33m)\u001b[0m\u001b[1;33m,\u001b[0m \u001b[0mn\u001b[0m\u001b[1;33m,\u001b[0m \u001b[0mforward\u001b[0m\u001b[1;33m,\u001b[0m \u001b[0mnorm\u001b[0m\u001b[1;33m,\u001b[0m \u001b[1;32mNone\u001b[0m\u001b[1;33m,\u001b[0m \u001b[0mworkers\u001b[0m\u001b[1;33m)\u001b[0m\u001b[1;33m\u001b[0m\u001b[1;33m\u001b[0m\u001b[0m\n\u001b[0m\u001b[0;32m     98\u001b[0m \u001b[1;33m\u001b[0m\u001b[0m\n\u001b[0;32m     99\u001b[0m \u001b[1;33m\u001b[0m\u001b[0m\n",
      "\u001b[1;31mKeyboardInterrupt\u001b[0m: "
     ]
    }
   ],
   "source": [
    "cal_cosine_similarity(PATH_IN)"
   ]
  },
  {
   "cell_type": "code",
   "execution_count": 516,
   "id": "c0de7cd7-fe49-485e-b244-0f4a1cf6f4ff",
   "metadata": {},
   "outputs": [
    {
     "name": "stdout",
     "output_type": "stream",
     "text": [
      "norm_00 is done. ; the length of Reference Frame: 108\n",
      "norm_01 is done. ; the length of Reference Frame: 127\n",
      "norm_02 is done. ; the length of Reference Frame: 99\n",
      "norm_03 is done. ; the length of Reference Frame: 94\n",
      "norm_04 is done. ; the length of Reference Frame: 83\n",
      "norm_05 is done. ; the length of Reference Frame: 123\n",
      "norm_06 is done. ; the length of Reference Frame: 101\n",
      "norm_07 is done. ; the length of Reference Frame: 107\n",
      "norm_08 is done. ; the length of Reference Frame: 92\n",
      "norm_09 is done. ; the length of Reference Frame: 121\n",
      "norm_10 is done. ; the length of Reference Frame: 87\n",
      "norm_11 is done. ; the length of Reference Frame: 89\n",
      "norm_12 is done. ; the length of Reference Frame: 96\n",
      "norm_13 is done. ; the length of Reference Frame: 87\n",
      "norm_14 is done. ; the length of Reference Frame: 94\n",
      "norm_15 is done. ; the length of Reference Frame: 112\n",
      "norm_16 is done. ; the length of Reference Frame: 93\n",
      "norm_17 is done. ; the length of Reference Frame: 143\n",
      "All finished\n"
     ]
    }
   ],
   "source": [
    "cal_cosine_similarity(PATH_IN)"
   ]
  },
  {
   "cell_type": "markdown",
   "id": "4b016ce6-ebff-4d57-b0da-f29558d2f6a1",
   "metadata": {},
   "source": [
    "### check the normalized waves to get cut-off value"
   ]
  },
  {
   "cell_type": "code",
   "execution_count": 32,
   "id": "e92e2840-0253-48cc-af83-d9077725fc26",
   "metadata": {},
   "outputs": [],
   "source": [
    "cos_df = pd.read_csv(os.path.join(PATH_IN, 'cosine_sim', 'cos_sim_norm_00_108.csv'))"
   ]
  },
  {
   "cell_type": "code",
   "execution_count": 33,
   "id": "c7921737-7c77-4932-b5bf-22b6f44a3d12",
   "metadata": {},
   "outputs": [
    {
     "data": {
      "text/plain": [
       "[<matplotlib.lines.Line2D at 0x173286c53a0>]"
      ]
     },
     "execution_count": 33,
     "metadata": {},
     "output_type": "execute_result"
    },
    {
     "data": {
      "image/png": "[encoded data removed]",
      "text/plain": [
       "<Figure size 432x288 with 1 Axes>"
      ]
     },
     "metadata": {
      "needs_background": "light"
     },
     "output_type": "display_data"
    }
   ],
   "source": [
    "plt.plot(norm_df.iloc[1658]['Point_norm_sample'])"
   ]
  },
  {
   "cell_type": "code",
   "execution_count": 184,
   "id": "58aa4794-dbb1-4995-97b6-8b44ae0eeae8",
   "metadata": {},
   "outputs": [
    {
     "data": {
      "text/html": [
       "<div>\n",
       "<style scoped>\n",
       "    .dataframe tbody tr th:only-of-type {\n",
       "        vertical-align: middle;\n",
       "    }\n",
       "\n",
       "    .dataframe tbody tr th {\n",
       "        vertical-align: top;\n",
       "    }\n",
       "\n",
       "    .dataframe thead th {\n",
       "        text-align: right;\n",
       "    }\n",
       "</style>\n",
       "<table border=\"1\" class=\"dataframe\">\n",
       "  <thead>\n",
       "    <tr style=\"text-align: right;\">\n",
       "      <th></th>\n",
       "      <th>Unnamed: 0</th>\n",
       "      <th>index</th>\n",
       "      <th>cos_sim</th>\n",
       "      <th>original_points</th>\n",
       "    </tr>\n",
       "  </thead>\n",
       "  <tbody>\n",
       "    <tr>\n",
       "      <th>0</th>\n",
       "      <td>0</td>\n",
       "      <td>1658</td>\n",
       "      <td>0.999552</td>\n",
       "      <td>100</td>\n",
       "    </tr>\n",
       "    <tr>\n",
       "      <th>1</th>\n",
       "      <td>1</td>\n",
       "      <td>896</td>\n",
       "      <td>0.999480</td>\n",
       "      <td>58</td>\n",
       "    </tr>\n",
       "    <tr>\n",
       "      <th>2</th>\n",
       "      <td>2</td>\n",
       "      <td>1107</td>\n",
       "      <td>0.999473</td>\n",
       "      <td>69</td>\n",
       "    </tr>\n",
       "    <tr>\n",
       "      <th>3</th>\n",
       "      <td>3</td>\n",
       "      <td>351</td>\n",
       "      <td>0.999435</td>\n",
       "      <td>70</td>\n",
       "    </tr>\n",
       "    <tr>\n",
       "      <th>4</th>\n",
       "      <td>4</td>\n",
       "      <td>2765</td>\n",
       "      <td>0.999432</td>\n",
       "      <td>67</td>\n",
       "    </tr>\n",
       "    <tr>\n",
       "      <th>...</th>\n",
       "      <td>...</td>\n",
       "      <td>...</td>\n",
       "      <td>...</td>\n",
       "      <td>...</td>\n",
       "    </tr>\n",
       "    <tr>\n",
       "      <th>2954</th>\n",
       "      <td>2954</td>\n",
       "      <td>2209</td>\n",
       "      <td>0.980990</td>\n",
       "      <td>89</td>\n",
       "    </tr>\n",
       "    <tr>\n",
       "      <th>2955</th>\n",
       "      <td>2955</td>\n",
       "      <td>2160</td>\n",
       "      <td>0.979531</td>\n",
       "      <td>74</td>\n",
       "    </tr>\n",
       "    <tr>\n",
       "      <th>2956</th>\n",
       "      <td>2956</td>\n",
       "      <td>2188</td>\n",
       "      <td>0.979326</td>\n",
       "      <td>451</td>\n",
       "    </tr>\n",
       "    <tr>\n",
       "      <th>2957</th>\n",
       "      <td>2957</td>\n",
       "      <td>2159</td>\n",
       "      <td>0.978937</td>\n",
       "      <td>73</td>\n",
       "    </tr>\n",
       "    <tr>\n",
       "      <th>2958</th>\n",
       "      <td>2958</td>\n",
       "      <td>2324</td>\n",
       "      <td>0.972621</td>\n",
       "      <td>93</td>\n",
       "    </tr>\n",
       "  </tbody>\n",
       "</table>\n",
       "<p>2959 rows × 4 columns</p>\n",
       "</div>"
      ],
      "text/plain": [
       "      Unnamed: 0  index   cos_sim  original_points\n",
       "0              0   1658  0.999552              100\n",
       "1              1    896  0.999480               58\n",
       "2              2   1107  0.999473               69\n",
       "3              3    351  0.999435               70\n",
       "4              4   2765  0.999432               67\n",
       "...          ...    ...       ...              ...\n",
       "2954        2954   2209  0.980990               89\n",
       "2955        2955   2160  0.979531               74\n",
       "2956        2956   2188  0.979326              451\n",
       "2957        2957   2159  0.978937               73\n",
       "2958        2958   2324  0.972621               93\n",
       "\n",
       "[2959 rows x 4 columns]"
      ]
     },
     "execution_count": 184,
     "metadata": {},
     "output_type": "execute_result"
    }
   ],
   "source": [
    "cos_df"
   ]
  },
  {
   "cell_type": "code",
   "execution_count": 36,
   "id": "bfe23a5b-db04-4256-b1e6-5b6555bfe65d",
   "metadata": {},
   "outputs": [],
   "source": [
    "cutoff_idx_50 = cos_df[0:50]['index']"
   ]
  },
  {
   "cell_type": "code",
   "execution_count": 38,
   "id": "5d34cf03-be41-43ac-84f6-378d44753604",
   "metadata": {},
   "outputs": [
    {
     "data": {
      "image/png": "[encoded data removed]",
      "text/plain": [
       "<Figure size 432x288 with 1 Axes>"
      ]
     },
     "metadata": {
      "needs_background": "light"
     },
     "output_type": "display_data"
    }
   ],
   "source": [
    "import time\n",
    "for idx in cutoff_idx_50:\n",
    "    plt.plot(norm_df.iloc[idx]['Point_norm_sample'])"
   ]
  },
  {
   "cell_type": "code",
   "execution_count": 39,
   "id": "5beb48d3-dbfb-4950-abcc-92c186d0fc51",
   "metadata": {},
   "outputs": [
    {
     "data": {
      "image/png": "[encoded data removed]",
      "text/plain": [
       "<Figure size 432x288 with 1 Axes>"
      ]
     },
     "metadata": {
      "needs_background": "light"
     },
     "output_type": "display_data"
    }
   ],
   "source": [
    "cutoff_idx_100 = cos_df[0:100]['index']\n",
    "for idx in cutoff_idx_100:\n",
    "    plt.plot(norm_df.iloc[idx]['Point_norm_sample'])"
   ]
  },
  {
   "cell_type": "code",
   "execution_count": 40,
   "id": "9d39ef44-d0ab-4604-8aec-0b7011ae6e43",
   "metadata": {},
   "outputs": [
    {
     "data": {
      "image/png": "[encoded data removed]",
      "text/plain": [
       "<Figure size 432x288 with 1 Axes>"
      ]
     },
     "metadata": {
      "needs_background": "light"
     },
     "output_type": "display_data"
    }
   ],
   "source": [
    "cutoff_idx_200 = cos_df[0:200]['index']\n",
    "for idx in cutoff_idx_200:\n",
    "    plt.plot(norm_df.iloc[idx]['Point_norm_sample'])"
   ]
  },
  {
   "cell_type": "markdown",
   "id": "70c3496d-5a15-4d75-b3b8-110301b2bba9",
   "metadata": {},
   "source": [
    "##### Test"
   ]
  },
  {
   "cell_type": "code",
   "execution_count": 49,
   "id": "6f65bb72-1cb1-4ba9-b44e-f4f894935fa5",
   "metadata": {},
   "outputs": [],
   "source": [
    "def flatten(t):\n",
    "    return [item for sublist in t for item in sublist]"
   ]
  },
  {
   "cell_type": "code",
   "execution_count": 47,
   "id": "c9a045a1-f183-4dda-b343-41cd769bb69c",
   "metadata": {},
   "outputs": [],
   "source": [
    "norm_value = norm_df.iloc[:]['Point_norm_sample'].values.tolist()"
   ]
  },
  {
   "cell_type": "code",
   "execution_count": 152,
   "id": "34b3ae7b-c7ed-4446-8bbc-d3457706a890",
   "metadata": {},
   "outputs": [],
   "source": [
    "norm_maxs = []\n",
    "norm_mins = []\n",
    "for i in range(len(norm_df['Point_norm_sample'])):\n",
    "    norm_max = np.max(norm_df['Point_norm_sample'].iloc[i])\n",
    "    norm_min = np.min(norm_df['Point_norm_sample'].iloc[i])\n",
    "    norm_maxs.append(norm_max)\n",
    "    norm_mins.append(norm_min)\n",
    "    "
   ]
  },
  {
   "cell_type": "code",
   "execution_count": 157,
   "id": "d5b621ab-b2a7-4abc-85aa-c873b4a09fe1",
   "metadata": {},
   "outputs": [
    {
     "data": {
      "text/plain": [
       "(0.9512721804075994,\n",
       " 0.5304591588583296,\n",
       " 0.48016599890808775,\n",
       " -0.007110039518567054)"
      ]
     },
     "execution_count": 157,
     "metadata": {},
     "output_type": "execute_result"
    }
   ],
   "source": [
    "np.max(norm_maxs), np.min(norm_maxs), np.max(norm_mins), np.min(norm_mins)"
   ]
  },
  {
   "cell_type": "code",
   "execution_count": 156,
   "id": "5b3451c1-13eb-4636-baeb-08addf611562",
   "metadata": {},
   "outputs": [],
   "source": [
    "ampl_mins = []\n",
    "ampl_maxs = []\n",
    "for i in range(len(norm_df['Norm_amplitude_yvalue'])):\n",
    "    ampl_max = np.max(norm_df['Norm_amplitude_yvalue'].iloc[i])\n",
    "    ampl_min = np.min(norm_df['Norm_amplitude_yvalue'].iloc[i])\n",
    "    ampl_maxs.append(ampl_max)\n",
    "    ampl_mins.append(ampl_min)\n",
    "    "
   ]
  },
  {
   "cell_type": "code",
   "execution_count": 159,
   "id": "a8fe90c5-bed5-41f4-a027-17909fc42690",
   "metadata": {},
   "outputs": [
    {
     "data": {
      "text/plain": [
       "(1.0, 0.5300763341648178, 0.4800963589374704, 0.0)"
      ]
     },
     "execution_count": 159,
     "metadata": {},
     "output_type": "execute_result"
    }
   ],
   "source": [
    "np.max(ampl_maxs), np.min(ampl_maxs), np.max(ampl_mins), np.min(ampl_mins)"
   ]
  },
  {
   "cell_type": "code",
   "execution_count": 51,
   "id": "e8d07dcf-0138-4df5-bc30-a3ccb0a9ed26",
   "metadata": {},
   "outputs": [],
   "source": [
    "norm_value_1d= flatten(norm_value)"
   ]
  },
  {
   "cell_type": "code",
   "execution_count": 53,
   "id": "75852b06-1eb6-401d-bb25-04aa18874e2f",
   "metadata": {},
   "outputs": [
    {
     "name": "stdout",
     "output_type": "stream",
     "text": [
      "Using matplotlib backend: Qt5Agg\n"
     ]
    },
    {
     "data": {
      "text/plain": [
       "[<matplotlib.lines.Line2D at 0x1732923a310>]"
      ]
     },
     "execution_count": 53,
     "metadata": {},
     "output_type": "execute_result"
    }
   ],
   "source": [
    "%matplotlib auto\n",
    "plt.plot(norm_value_1d)"
   ]
  },
  {
   "cell_type": "code",
   "execution_count": 104,
   "id": "cd3cadf3-f3eb-433c-b8c4-d186b3a9ab94",
   "metadata": {},
   "outputs": [
    {
     "data": {
      "text/plain": [
       "[<matplotlib.lines.Line2D at 0x17347b12d60>]"
      ]
     },
     "execution_count": 104,
     "metadata": {},
     "output_type": "execute_result"
    }
   ],
   "source": [
    "plt.plot(norm_value_1d)"
   ]
  },
  {
   "cell_type": "markdown",
   "id": "1509ea69-62f3-4e32-bda4-0cfc5750cf1b",
   "metadata": {},
   "source": [
    "#### plotting Normalzied XY data with r-peak"
   ]
  },
  {
   "cell_type": "code",
   "execution_count": 211,
   "id": "14794c8a-1e4e-45fd-9ba1-de991e022b8e",
   "metadata": {},
   "outputs": [],
   "source": [
    "# find r-peak and values with r-peak depending on resampling rr-interval \n",
    "\n",
    "i = len(norm_value_1d) #319572\n",
    "\n",
    "def rpeak_loc(whole_data):\n",
    "    return whole_data *int(np.median(norm_df['RR_interval']))\n",
    "\n",
    "def rpeak_loc_yval(whole_data):\n",
    "    return norm_value_1d[whole_data *int(np.median(norm_df['RR_interval']))]\n",
    "\n",
    "target_list = list(range(int(len(norm_value_1d)/108)))\n",
    "rpeak_= list(map(rpeak_loc, target_list))\n",
    "rpeak_yval = list(map(rpeak_loc_yval, target_list))"
   ]
  },
  {
   "cell_type": "code",
   "execution_count": 138,
   "id": "962ee343-2602-40fb-981e-775a49daa39a",
   "metadata": {},
   "outputs": [
    {
     "data": {
      "text/plain": [
       "(0.9512721804075994, -0.007110039518567054)"
      ]
     },
     "execution_count": 138,
     "metadata": {},
     "output_type": "execute_result"
    }
   ],
   "source": [
    "np.max(norm_value_1d), np.min(norm_value_1d)"
   ]
  },
  {
   "cell_type": "code",
   "execution_count": 145,
   "id": "732cf7f6-2c2b-48dd-9024-3ca23d0be604",
   "metadata": {},
   "outputs": [
    {
     "data": {
      "text/plain": [
       "Text(0.5, 1.0, 'Normalized Amplitude and Resampling based on Reference Frame')"
      ]
     },
     "execution_count": 145,
     "metadata": {},
     "output_type": "execute_result"
    }
   ],
   "source": [
    "# plotting\n",
    "plt.plot(norm_value_1d)\n",
    "plt.plot(rpeak_, rpeak_yval, 'r*')\n",
    "plt.legend(['Normalization_XY', 'R-peak'])\n",
    "plt.ylabel('Normalized y-value [0,1]')\n",
    "plt.xlabel('Resampled points')                \n",
    "plt.title('Normalized Amplitude and Resampling based on Reference Frame')"
   ]
  },
  {
   "cell_type": "code",
   "execution_count": null,
   "id": "a6efe539-9248-4329-b562-d3dca24b3b71",
   "metadata": {},
   "outputs": [],
   "source": []
  },
  {
   "cell_type": "code",
   "execution_count": 118,
   "id": "02034c20-e2d6-4def-9d01-643c42b16f55",
   "metadata": {},
   "outputs": [
    {
     "data": {
      "text/plain": [
       "319572"
      ]
     },
     "execution_count": 118,
     "metadata": {},
     "output_type": "execute_result"
    }
   ],
   "source": [
    "len(norm_value_1d)"
   ]
  },
  {
   "cell_type": "markdown",
   "id": "8758d8ce-4af7-475b-b3f0-8530daa261a9",
   "metadata": {},
   "source": [
    "### Check resampling"
   ]
  },
  {
   "cell_type": "code",
   "execution_count": 80,
   "id": "fbf9c44d-a4f0-4908-9050-731fc8d922c8",
   "metadata": {},
   "outputs": [
    {
     "data": {
      "text/plain": [
       "[<matplotlib.lines.Line2D at 0x1732925c490>]"
      ]
     },
     "execution_count": 80,
     "metadata": {},
     "output_type": "execute_result"
    }
   ],
   "source": [
    "plt.plot(norm_value_1d)"
   ]
  },
  {
   "cell_type": "code",
   "execution_count": 83,
   "id": "53332f51-f9e9-42db-bf2c-0b77d15dd2ff",
   "metadata": {},
   "outputs": [
    {
     "data": {
      "text/plain": [
       "0.5417706518706557"
      ]
     },
     "execution_count": 83,
     "metadata": {},
     "output_type": "execute_result"
    }
   ],
   "source": [
    "norm_value_1d[0]"
   ]
  },
  {
   "cell_type": "code",
   "execution_count": 94,
   "id": "a59d20de-ed84-4d60-8169-d502be88672a",
   "metadata": {},
   "outputs": [
    {
     "data": {
      "text/plain": [
       "(460690, 319572)"
      ]
     },
     "execution_count": 94,
     "metadata": {},
     "output_type": "execute_result"
    }
   ],
   "source": [
    "len(overall_amplitude[110:]),  len(norm_value_1d)"
   ]
  },
  {
   "cell_type": "code",
   "execution_count": 90,
   "id": "c548131e-7cdb-47c8-b5f5-721fc36adf5c",
   "metadata": {},
   "outputs": [
    {
     "data": {
      "text/plain": [
       "[<matplotlib.lines.Line2D at 0x1734660feb0>]"
      ]
     },
     "execution_count": 90,
     "metadata": {},
     "output_type": "execute_result"
    }
   ],
   "source": [
    "plt.plot(norm_xy_new_yval[110:])"
   ]
  },
  {
   "cell_type": "code",
   "execution_count": null,
   "id": "cda634f5-b6bc-4c94-b4fd-9c0d22737e6d",
   "metadata": {},
   "outputs": [],
   "source": [
    "new_yvals = [] # new y-values based on normalized rr interval -> they have sample data ponits\n",
    "org_len = []\n",
    "for y_val in range(len(y_vals)):\n",
    "    org_len.append(len(y_vals[y_val]))\n",
    "    new_yval = signal.resample(y_vals[y_val], int(rr_interval_Norm))\n",
    "    new_yvals.append(new_yval)"
   ]
  },
  {
   "cell_type": "code",
   "execution_count": 59,
   "id": "9be6f418-be38-4bde-ac4a-e3559248ea3a",
   "metadata": {},
   "outputs": [],
   "source": [
    "for i in range(len(rpeakList)):\n",
    "    subject= '_'.join(rpeakList[i].split('.')[0].split('_')[-2:])\n",
    "    rpeaks = pd.read_csv(rpeakList[i], header=None)\n",
    "    amplitudes = pd.read_csv(fxvalList[i], header=None)\n",
    "\n",
    "    ## Task: 2. R-R amplitude Normalization\n",
    "    # min-max normalization \n",
    "    min_max_scaler = MinMaxScaler()\n",
    "    # minmax normalization for fxvals(ECG Voltage)\n",
    "    amplitudes_MinMax = min_max_scaler.fit_transform(amplitudes)\n"
   ]
  },
  {
   "cell_type": "code",
   "execution_count": null,
   "id": "7a19e5a4-3b5e-4ff0-9d7f-98927e4b8a84",
   "metadata": {},
   "outputs": [],
   "source": []
  },
  {
   "cell_type": "code",
   "execution_count": 64,
   "id": "31c14c07-0f43-4726-9dec-4b96a4b521ef",
   "metadata": {},
   "outputs": [],
   "source": []
  },
  {
   "cell_type": "markdown",
   "id": "d1ae4467-866d-49f3-8a24-80de37228cd2",
   "metadata": {},
   "source": [
    "### Resampling Whole data 영 엉터리..."
   ]
  },
  {
   "cell_type": "code",
   "execution_count": 95,
   "id": "0aeb03dc-271f-4812-a9d2-5419d0ed5f2b",
   "metadata": {},
   "outputs": [],
   "source": [
    "overall_amplitude = flatten(amplitudes_MinMax.tolist())\n",
    "point_norm_sample = int(np.median(df_rr_intervals['RR_interval']))\n",
    "norm_xy_new_yval = signal.resample(overall_amplitude[110:], len(norm_value_1d))"
   ]
  },
  {
   "cell_type": "code",
   "execution_count": 97,
   "id": "d7458a2d-6532-4e10-8768-957f82587ad0",
   "metadata": {},
   "outputs": [
    {
     "data": {
      "text/plain": [
       "319572"
      ]
     },
     "execution_count": 97,
     "metadata": {},
     "output_type": "execute_result"
    }
   ],
   "source": [
    "len(norm_xy_new_yval)"
   ]
  },
  {
   "cell_type": "code",
   "execution_count": 163,
   "id": "7e0aca6b-1671-42ef-b7b2-0ad197ea154f",
   "metadata": {},
   "outputs": [],
   "source": [
    "# find r-peak and values with r-peak depending on resampling rr-interval \n",
    "\n",
    "\n",
    "i = len(norm_xy_new_yval) #319572\n",
    "\n",
    "def rpeak_loc(whole_data):\n",
    "    return whole_data *int(np.median(norm_df['RR_interval']))\n",
    "\n",
    "def rpeak_loc_yval(whole_data):\n",
    "    return norm_xy_new_yval[whole_data *int(np.median(norm_df['RR_interval']))]\n",
    "\n",
    "a_target_list = list(range(int(len(norm_value_1d)/108)))\n",
    "a_rpeak_= list(map(rpeak_loc, target_list))\n",
    "a_rpeak_yval = list(map(rpeak_loc_yval, target_list))"
   ]
  },
  {
   "cell_type": "code",
   "execution_count": 164,
   "id": "90822355-889d-4e5e-a3fd-fb0ed2d50654",
   "metadata": {},
   "outputs": [
    {
     "data": {
      "text/plain": [
       "Text(0.5, 1.0, 'Normalized Amplitude and Resampling based on Reference Frame')"
      ]
     },
     "execution_count": 164,
     "metadata": {},
     "output_type": "execute_result"
    }
   ],
   "source": [
    "# plotting\n",
    "plt.plot(norm_xy_new_yval)\n",
    "plt.plot(a_rpeak_, a_rpeak_yval, 'r*')\n",
    "plt.legend(['Normalization_XY', 'R-peak'])\n",
    "plt.ylabel('Normalized y-value [0,1]')\n",
    "plt.xlabel('Resampled points')                \n",
    "plt.title('Normalized Amplitude and Resampling based on Reference Frame')"
   ]
  },
  {
   "cell_type": "code",
   "execution_count": null,
   "id": "76af0e1f-f92a-4a9a-88be-844079d67038",
   "metadata": {},
   "outputs": [],
   "source": []
  },
  {
   "cell_type": "markdown",
   "id": "2c775adb-07a4-414f-9961-2f9f3bae6439",
   "metadata": {},
   "source": [
    "#### sample points with rpeak b/a 20 points"
   ]
  },
  {
   "cell_type": "code",
   "execution_count": 222,
   "id": "d5c6c02a-9c1c-465d-bf6a-a918d9600ac2",
   "metadata": {},
   "outputs": [
    {
     "ename": "TypeError",
     "evalue": "list indices must be integers or slices, not list",
     "output_type": "error",
     "traceback": [
      "\u001b[1;31m---------------------------------------------------------------------------\u001b[0m",
      "\u001b[1;31mTypeError\u001b[0m                                 Traceback (most recent call last)",
      "\u001b[1;32m<ipython-input-222-b52783e831f4>\u001b[0m in \u001b[0;36m<module>\u001b[1;34m\u001b[0m\n\u001b[0;32m      1\u001b[0m \u001b[1;31m# Whole data plotting\u001b[0m\u001b[1;33m\u001b[0m\u001b[1;33m\u001b[0m\u001b[1;33m\u001b[0m\u001b[0m\n\u001b[0;32m      2\u001b[0m \u001b[0mx\u001b[0m \u001b[1;33m=\u001b[0m \u001b[0mlist\u001b[0m\u001b[1;33m(\u001b[0m\u001b[0mrange\u001b[0m\u001b[1;33m(\u001b[0m\u001b[0mrpeak_\u001b[0m\u001b[1;33m[\u001b[0m\u001b[1;36m1\u001b[0m\u001b[1;33m]\u001b[0m\u001b[1;33m-\u001b[0m\u001b[1;33m(\u001b[0m\u001b[0mint\u001b[0m\u001b[1;33m(\u001b[0m\u001b[0mnp\u001b[0m\u001b[1;33m.\u001b[0m\u001b[0mmedian\u001b[0m\u001b[1;33m(\u001b[0m\u001b[0mnorm_df\u001b[0m\u001b[1;33m[\u001b[0m\u001b[1;34m'RR_interval'\u001b[0m\u001b[1;33m]\u001b[0m\u001b[1;33m)\u001b[0m\u001b[1;33m)\u001b[0m\u001b[1;33m-\u001b[0m\u001b[1;36m20\u001b[0m\u001b[1;33m)\u001b[0m\u001b[1;33m,\u001b[0m\u001b[0mrpeak_\u001b[0m\u001b[1;33m[\u001b[0m\u001b[1;36m1\u001b[0m\u001b[1;33m]\u001b[0m\u001b[1;33m+\u001b[0m\u001b[1;33m(\u001b[0m\u001b[0mint\u001b[0m\u001b[1;33m(\u001b[0m\u001b[0mnp\u001b[0m\u001b[1;33m.\u001b[0m\u001b[0mmedian\u001b[0m\u001b[1;33m(\u001b[0m\u001b[0mnorm_df\u001b[0m\u001b[1;33m[\u001b[0m\u001b[1;34m'RR_interval'\u001b[0m\u001b[1;33m]\u001b[0m\u001b[1;33m)\u001b[0m\u001b[1;33m)\u001b[0m\u001b[1;33m+\u001b[0m\u001b[1;36m20\u001b[0m\u001b[1;33m)\u001b[0m\u001b[1;33m)\u001b[0m\u001b[1;33m)\u001b[0m\u001b[1;33m\u001b[0m\u001b[1;33m\u001b[0m\u001b[0m\n\u001b[1;32m----> 3\u001b[1;33m \u001b[0mplt\u001b[0m\u001b[1;33m(\u001b[0m\u001b[0mx\u001b[0m\u001b[1;33m,\u001b[0m\u001b[0mnorm_value_1d\u001b[0m\u001b[1;33m[\u001b[0m\u001b[0mx\u001b[0m\u001b[1;33m]\u001b[0m\u001b[1;33m)\u001b[0m\u001b[1;33m\u001b[0m\u001b[1;33m\u001b[0m\u001b[0m\n\u001b[0m\u001b[0;32m      4\u001b[0m \u001b[0mplt\u001b[0m\u001b[1;33m.\u001b[0m\u001b[0mplot\u001b[0m\u001b[1;33m(\u001b[0m\u001b[0mrpeak_\u001b[0m\u001b[1;33m[\u001b[0m\u001b[1;36m1\u001b[0m\u001b[1;33m]\u001b[0m\u001b[1;33m,\u001b[0m \u001b[0mrpeak_yval\u001b[0m\u001b[1;33m[\u001b[0m\u001b[1;36m1\u001b[0m\u001b[1;33m]\u001b[0m\u001b[1;33m,\u001b[0m \u001b[1;34m'r*'\u001b[0m\u001b[1;33m)\u001b[0m\u001b[1;33m\u001b[0m\u001b[1;33m\u001b[0m\u001b[0m\n\u001b[0;32m      5\u001b[0m \u001b[0mplt\u001b[0m\u001b[1;33m.\u001b[0m\u001b[0mlegend\u001b[0m\u001b[1;33m(\u001b[0m\u001b[1;33m[\u001b[0m\u001b[1;34m'Normalization_XY'\u001b[0m\u001b[1;33m,\u001b[0m \u001b[1;34m'R-peak'\u001b[0m\u001b[1;33m]\u001b[0m\u001b[1;33m)\u001b[0m\u001b[1;33m\u001b[0m\u001b[1;33m\u001b[0m\u001b[0m\n",
      "\u001b[1;31mTypeError\u001b[0m: list indices must be integers or slices, not list"
     ]
    }
   ],
   "source": [
    "# Whole data plotting\n",
    "x = list(range(rpeak_[1]-(int(np.median(norm_df['RR_interval']))-20),rpeak_[1]+(int(np.median(norm_df['RR_interval']))+20)))\n",
    "plt(x, norm_value_1d[x])\n",
    "plt.plot(rpeak_[1], rpeak_yval[1], 'r*')\n",
    "plt.legend(['Normalization_XY', 'R-peak'])\n",
    "plt.ylabel('Normalized y-value')\n",
    "plt.xlabel('Resampled points')                \n",
    "plt.title('Normalized Amplitude and Resampling based on Reference Frame')"
   ]
  },
  {
   "cell_type": "code",
   "execution_count": 225,
   "id": "5b57d49c-f8f0-4912-a72e-6ba7aac0b9ab",
   "metadata": {},
   "outputs": [
    {
     "data": {
      "text/plain": [
       "[20,\n",
       " 21,\n",
       " 22,\n",
       " 23,\n",
       " 24,\n",
       " 25,\n",
       " 26,\n",
       " 27,\n",
       " 28,\n",
       " 29,\n",
       " 30,\n",
       " 31,\n",
       " 32,\n",
       " 33,\n",
       " 34,\n",
       " 35,\n",
       " 36,\n",
       " 37,\n",
       " 38,\n",
       " 39,\n",
       " 40,\n",
       " 41,\n",
       " 42,\n",
       " 43,\n",
       " 44,\n",
       " 45,\n",
       " 46,\n",
       " 47,\n",
       " 48,\n",
       " 49,\n",
       " 50,\n",
       " 51,\n",
       " 52,\n",
       " 53,\n",
       " 54,\n",
       " 55,\n",
       " 56,\n",
       " 57,\n",
       " 58,\n",
       " 59,\n",
       " 60,\n",
       " 61,\n",
       " 62,\n",
       " 63,\n",
       " 64,\n",
       " 65,\n",
       " 66,\n",
       " 67,\n",
       " 68,\n",
       " 69,\n",
       " 70,\n",
       " 71,\n",
       " 72,\n",
       " 73,\n",
       " 74,\n",
       " 75,\n",
       " 76,\n",
       " 77,\n",
       " 78,\n",
       " 79,\n",
       " 80,\n",
       " 81,\n",
       " 82,\n",
       " 83,\n",
       " 84,\n",
       " 85,\n",
       " 86,\n",
       " 87,\n",
       " 88,\n",
       " 89,\n",
       " 90,\n",
       " 91,\n",
       " 92,\n",
       " 93,\n",
       " 94,\n",
       " 95,\n",
       " 96,\n",
       " 97,\n",
       " 98,\n",
       " 99,\n",
       " 100,\n",
       " 101,\n",
       " 102,\n",
       " 103,\n",
       " 104,\n",
       " 105,\n",
       " 106,\n",
       " 107,\n",
       " 108,\n",
       " 109,\n",
       " 110,\n",
       " 111,\n",
       " 112,\n",
       " 113,\n",
       " 114,\n",
       " 115,\n",
       " 116,\n",
       " 117,\n",
       " 118,\n",
       " 119,\n",
       " 120,\n",
       " 121,\n",
       " 122,\n",
       " 123,\n",
       " 124,\n",
       " 125,\n",
       " 126,\n",
       " 127,\n",
       " 128,\n",
       " 129,\n",
       " 130,\n",
       " 131,\n",
       " 132,\n",
       " 133,\n",
       " 134,\n",
       " 135,\n",
       " 136,\n",
       " 137,\n",
       " 138,\n",
       " 139,\n",
       " 140,\n",
       " 141,\n",
       " 142,\n",
       " 143,\n",
       " 144,\n",
       " 145,\n",
       " 146,\n",
       " 147,\n",
       " 148,\n",
       " 149,\n",
       " 150,\n",
       " 151,\n",
       " 152,\n",
       " 153,\n",
       " 154,\n",
       " 155,\n",
       " 156,\n",
       " 157,\n",
       " 158,\n",
       " 159,\n",
       " 160,\n",
       " 161,\n",
       " 162,\n",
       " 163,\n",
       " 164,\n",
       " 165,\n",
       " 166,\n",
       " 167,\n",
       " 168,\n",
       " 169,\n",
       " 170,\n",
       " 171,\n",
       " 172,\n",
       " 173,\n",
       " 174,\n",
       " 175,\n",
       " 176,\n",
       " 177,\n",
       " 178,\n",
       " 179,\n",
       " 180,\n",
       " 181,\n",
       " 182,\n",
       " 183,\n",
       " 184,\n",
       " 185,\n",
       " 186,\n",
       " 187,\n",
       " 188,\n",
       " 189,\n",
       " 190,\n",
       " 191,\n",
       " 192,\n",
       " 193,\n",
       " 194,\n",
       " 195,\n",
       " 196,\n",
       " 197,\n",
       " 198,\n",
       " 199,\n",
       " 200,\n",
       " 201,\n",
       " 202,\n",
       " 203,\n",
       " 204,\n",
       " 205,\n",
       " 206,\n",
       " 207,\n",
       " 208,\n",
       " 209,\n",
       " 210,\n",
       " 211,\n",
       " 212,\n",
       " 213,\n",
       " 214,\n",
       " 215,\n",
       " 216,\n",
       " 217,\n",
       " 218,\n",
       " 219,\n",
       " 220,\n",
       " 221,\n",
       " 222,\n",
       " 223,\n",
       " 224,\n",
       " 225,\n",
       " 226,\n",
       " 227,\n",
       " 228,\n",
       " 229,\n",
       " 230,\n",
       " 231,\n",
       " 232,\n",
       " 233,\n",
       " 234,\n",
       " 235]"
      ]
     },
     "execution_count": 225,
     "metadata": {},
     "output_type": "execute_result"
    }
   ],
   "source": [
    "#norm_value_1d[x]\n",
    "x"
   ]
  },
  {
   "cell_type": "code",
   "execution_count": null,
   "id": "df02c123-c5f3-4032-9f9c-47e250bf25f0",
   "metadata": {},
   "outputs": [],
   "source": [
    "def rpeak_loc(whole_data):\n",
    "    return whole_data *int(np.median(norm_df['RR_interval']))\n"
   ]
  },
  {
   "cell_type": "code",
   "execution_count": 178,
   "id": "87f08114-e190-4fd1-bcb0-ae0236df6cc0",
   "metadata": {},
   "outputs": [],
   "source": [
    "def rpeak_loc(whole_data):\n",
    "    return whole_data *int(np.median(norm_df['RR_interval']))\n",
    "def rpeak_loc(whole_data):\n",
    "    return norm_value_1d[whole_data *int(np.median(norm_df['RR_interval']))-(int(np.median(norm_df['RR_interval']))-20):whole_data *int(np.median(norm_df['RR_interval']))+(int(np.median(norm_df['RR_interval']))+20)]"
   ]
  },
  {
   "cell_type": "code",
   "execution_count": 179,
   "id": "de24de60-d615-4d9f-86ac-26fd73c0ea39",
   "metadata": {},
   "outputs": [],
   "source": [
    "a_target_list = list(range(int(len(norm_value_1d)/108)))\n",
    "a_rpeak_= list(map(rpeak_loc, target_list))\n",
    "a_rpeak_yval = list(map(rpeak_loc_yval, target_list))\n",
    "a_"
   ]
  },
  {
   "cell_type": "code",
   "execution_count": 180,
   "id": "abd5e6fb-fe9c-4dd2-895c-636c565ab035",
   "metadata": {},
   "outputs": [
    {
     "data": {
      "text/plain": [
       "216"
      ]
     },
     "execution_count": 180,
     "metadata": {},
     "output_type": "execute_result"
    }
   ],
   "source": [
    "len(a_rpeak_[2])"
   ]
  },
  {
   "cell_type": "code",
   "execution_count": null,
   "id": "c22d66b0-78a9-4d06-9f88-65dc864042fc",
   "metadata": {},
   "outputs": [],
   "source": []
  },
  {
   "cell_type": "code",
   "execution_count": null,
   "id": "59d5f5cc-7f78-48ac-80ab-72f5ec1af7e9",
   "metadata": {},
   "outputs": [],
   "source": []
  },
  {
   "cell_type": "code",
   "execution_count": null,
   "id": "eb9e68e9-7df8-4d17-a54c-8bcd4c2f7b6a",
   "metadata": {},
   "outputs": [],
   "source": []
  },
  {
   "cell_type": "code",
   "execution_count": 183,
   "id": "6225e95b-a2bb-4b39-b61f-f94811f541fe",
   "metadata": {},
   "outputs": [
    {
     "data": {
      "text/plain": [
       "Text(0.5, 1.0, 'Normalized Amplitude and Resampling based on Reference Frame')"
      ]
     },
     "execution_count": 183,
     "metadata": {},
     "output_type": "execute_result"
    }
   ],
   "source": [
    "# Whole data plotting\n",
    "plt.plot(rpeak_yval)\n",
    "plt.plot(rpeak_[0], rpeak_yval[0], 'r*')\n",
    "plt.legend(['Normalization_XY', 'R-peak'])\n",
    "plt.ylabel('Normalized y-value')\n",
    "plt.xlabel('Resampled points')                \n",
    "plt.title('Normalized Amplitude and Resampling based on Reference Frame')"
   ]
  }
 ],
 "metadata": {
  "kernelspec": {
   "display_name": "Python 3",
   "language": "python",
   "name": "python3"
  },
  "language_info": {
   "codemirror_mode": {
    "name": "ipython",
    "version": 3
   },
   "file_extension": ".py",
   "mimetype": "text/x-python",
   "name": "python",
   "nbconvert_exporter": "python",
   "pygments_lexer": "ipython3",
   "version": "3.8.8"
  }
 },
 "nbformat": 4,
 "nbformat_minor": 5
}
