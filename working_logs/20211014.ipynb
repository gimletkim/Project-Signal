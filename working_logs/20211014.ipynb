{
 "cells": [
  {
   "cell_type": "markdown",
   "id": "86757695-a1a6-44b6-b67f-988d0e1df697",
   "metadata": {},
   "source": [
    "### Load Library"
   ]
  },
  {
   "cell_type": "code",
   "execution_count": 1,
   "id": "f38e3cde-cf0b-4a03-8ca5-e497b7f46fbc",
   "metadata": {},
   "outputs": [],
   "source": [
    "# Load library\n",
    "import os \n",
    "import glob\n",
    "import pandas as pd\n",
    "import numpy as np\n",
    "import matplotlib.pyplot as plt\n",
    "from scipy.spatial import distance\n",
    "from sklearn.preprocessing import MinMaxScaler\n",
    "from sklearn.metrics.pairwise import cosine_similarity,cosine_distances\n",
    "\n",
    "# signal tools \n",
    "from scipy import signal\n",
    "\n",
    "# itertools\n",
    "import functools\n",
    "import itertools\n",
    "import operator\n",
    "import numpy as np\n",
    "#import perfplot\n",
    "\n"
   ]
  },
  {
   "cell_type": "code",
   "execution_count": null,
   "id": "551c4e11-0f54-47b0-85b8-fceb5363935a",
   "metadata": {},
   "outputs": [],
   "source": [
    "'''\n",
    "# # Task Steps: \n",
    "# 1. load data\n",
    "# 2. data에서 rr-interval 개수 확인\n",
    "# 3. 90%, 95% 식으로 cutoff설정\n",
    "# 4. cutoff설정된 값으로 return되는 value, value개수 확인\n",
    "# 5. optional 눈으로 graph를 겹쳐보아요~!\n",
    "\n",
    "'''"
   ]
  },
  {
   "cell_type": "code",
   "execution_count": null,
   "id": "03afe877-708a-4d47-9f7b-ed7d4be9aca7",
   "metadata": {},
   "outputs": [],
   "source": [
    "# Task steps:\n",
    "\n",
    "1. load data\n",
    "    PATH_IN = r'C:\\Users\\MI2RL-KHJ\\workspace_signal\\mit\\processed_norm'\n",
    "    1-1. cosine similarity: ex) 'cos_sim_norm_00_89.csv',  'cos_sim_norm_01_127.csv', 'cos_sim_norm_02_96.csv'\n",
    "    1-2. rpeak: ex) 'correct_rpeaks_test_norm_ecg_norm_00.csv', 'correct_rpeaks_test_norm_ecg_norm_01.csv',\n",
    "    1-3. y-values: ex) 'filtered_test_norm_ecg_norm_00.csv', 'filtered_test_norm_ecg_norm_01.csv',\n",
    "2. \n"
   ]
  },
  {
   "cell_type": "markdown",
   "id": "18f2223d-49f9-4a92-9d58-beae8bc3133a",
   "metadata": {},
   "source": [
    "### Load Data"
   ]
  },
  {
   "cell_type": "code",
   "execution_count": 2,
   "id": "418813da-5670-4f60-a08a-f3b57d768f66",
   "metadata": {},
   "outputs": [],
   "source": [
    "# load data for cosine-similarity\n",
    "PATH_IN = r'C:\\Users\\MI2RL-KHJ\\workspace_signal\\mit\\processed_norm'\n",
    "cos_path = os.chdir(os.path.join(PATH_IN, 'cosine_sim'))\n",
    "\n",
    "cos_sim_norm = [i for i in os.listdir(cos_path )]"
   ]
  },
  {
   "cell_type": "code",
   "execution_count": 3,
   "id": "5676eddb-e791-4b81-beb1-df34d7e81997",
   "metadata": {},
   "outputs": [
    {
     "data": {
      "text/plain": [
       "['cos_disc',\n",
       " 'cos_sim_norm_00_89.csv',\n",
       " 'cos_sim_norm_01_127.csv',\n",
       " 'cos_sim_norm_02_96.csv',\n",
       " 'cos_sim_norm_03_92.csv',\n",
       " 'cos_sim_norm_04_82.csv',\n",
       " 'cos_sim_norm_05_123.csv',\n",
       " 'cos_sim_norm_06_101.csv',\n",
       " 'cos_sim_norm_07_107.csv',\n",
       " 'cos_sim_norm_08_89.csv',\n",
       " 'cos_sim_norm_09_121.csv',\n",
       " 'cos_sim_norm_10_86.csv',\n",
       " 'cos_sim_norm_11_89.csv',\n",
       " 'cos_sim_norm_12_96.csv',\n",
       " 'cos_sim_norm_13_81.csv',\n",
       " 'cos_sim_norm_14_94.csv',\n",
       " 'cos_sim_norm_15_111.csv',\n",
       " 'cos_sim_norm_16_92.csv',\n",
       " 'cos_sim_norm_17_69.csv',\n",
       " 'tmp']"
      ]
     },
     "execution_count": 3,
     "metadata": {},
     "output_type": "execute_result"
    }
   ],
   "source": [
    "cos_sim_norm\n",
    "# ['cos_disc',\n",
    "#  'cos_sim_norm_00_89.csv',\n",
    "#  'cos_sim_norm_01_127.csv',\n",
    "#  'cos_sim_norm_02_96.csv',\n",
    "#  'cos_sim_norm_03_92.csv',...]"
   ]
  },
  {
   "cell_type": "code",
   "execution_count": 4,
   "id": "8c6a2bce-5a68-46a2-9bd4-19e7c2213af4",
   "metadata": {
    "tags": []
   },
   "outputs": [
    {
     "data": {
      "text/html": [
       "<div>\n",
       "<style scoped>\n",
       "    .dataframe tbody tr th:only-of-type {\n",
       "        vertical-align: middle;\n",
       "    }\n",
       "\n",
       "    .dataframe tbody tr th {\n",
       "        vertical-align: top;\n",
       "    }\n",
       "\n",
       "    .dataframe thead th {\n",
       "        text-align: right;\n",
       "    }\n",
       "</style>\n",
       "<table border=\"1\" class=\"dataframe\">\n",
       "  <thead>\n",
       "    <tr style=\"text-align: right;\">\n",
       "      <th></th>\n",
       "      <th>Unnamed: 0</th>\n",
       "      <th>index</th>\n",
       "      <th>cos_sim</th>\n",
       "      <th>original_points</th>\n",
       "    </tr>\n",
       "  </thead>\n",
       "  <tbody>\n",
       "    <tr>\n",
       "      <th>0</th>\n",
       "      <td>0</td>\n",
       "      <td>1406</td>\n",
       "      <td>0.999919</td>\n",
       "      <td>96</td>\n",
       "    </tr>\n",
       "    <tr>\n",
       "      <th>1</th>\n",
       "      <td>1</td>\n",
       "      <td>2347</td>\n",
       "      <td>0.999893</td>\n",
       "      <td>93</td>\n",
       "    </tr>\n",
       "    <tr>\n",
       "      <th>2</th>\n",
       "      <td>2</td>\n",
       "      <td>2859</td>\n",
       "      <td>0.999891</td>\n",
       "      <td>99</td>\n",
       "    </tr>\n",
       "    <tr>\n",
       "      <th>3</th>\n",
       "      <td>3</td>\n",
       "      <td>399</td>\n",
       "      <td>0.999891</td>\n",
       "      <td>94</td>\n",
       "    </tr>\n",
       "    <tr>\n",
       "      <th>4</th>\n",
       "      <td>4</td>\n",
       "      <td>2158</td>\n",
       "      <td>0.999891</td>\n",
       "      <td>94</td>\n",
       "    </tr>\n",
       "  </tbody>\n",
       "</table>\n",
       "</div>"
      ],
      "text/plain": [
       "   Unnamed: 0  index   cos_sim  original_points\n",
       "0           0   1406  0.999919               96\n",
       "1           1   2347  0.999893               93\n",
       "2           2   2859  0.999891               99\n",
       "3           3    399  0.999891               94\n",
       "4           4   2158  0.999891               94"
      ]
     },
     "execution_count": 4,
     "metadata": {},
     "output_type": "execute_result"
    }
   ],
   "source": [
    "cos_df = pd.read_csv(cos_sim_norm[1])\n",
    "cos_df.head()"
   ]
  },
  {
   "cell_type": "code",
   "execution_count": 5,
   "id": "7e4da80b-354d-43ad-9db3-f72cfda03a78",
   "metadata": {},
   "outputs": [],
   "source": [
    "# load data \n",
    "rpeakList = [i for i in os.listdir(PATH_IN) if i.startswith('correct')]\n",
    "fxvalList = [i for i in os.listdir(PATH_IN) if i.startswith('filtered')]"
   ]
  },
  {
   "cell_type": "code",
   "execution_count": 6,
   "id": "cf21a72a-4bac-482e-a3bf-a968915cf4e4",
   "metadata": {
    "scrolled": true,
    "tags": []
   },
   "outputs": [
    {
     "data": {
      "text/plain": [
       "(['correct_rpeaks_test_norm_ecg_norm_00.csv',\n",
       "  'correct_rpeaks_test_norm_ecg_norm_01.csv',\n",
       "  'correct_rpeaks_test_norm_ecg_norm_02.csv',\n",
       "  'correct_rpeaks_test_norm_ecg_norm_03.csv',\n",
       "  'correct_rpeaks_test_norm_ecg_norm_04.csv',\n",
       "  'correct_rpeaks_test_norm_ecg_norm_05.csv',\n",
       "  'correct_rpeaks_test_norm_ecg_norm_06.csv',\n",
       "  'correct_rpeaks_test_norm_ecg_norm_07.csv',\n",
       "  'correct_rpeaks_test_norm_ecg_norm_08.csv',\n",
       "  'correct_rpeaks_test_norm_ecg_norm_09.csv',\n",
       "  'correct_rpeaks_test_norm_ecg_norm_10.csv',\n",
       "  'correct_rpeaks_test_norm_ecg_norm_11.csv',\n",
       "  'correct_rpeaks_test_norm_ecg_norm_12.csv',\n",
       "  'correct_rpeaks_test_norm_ecg_norm_13.csv',\n",
       "  'correct_rpeaks_test_norm_ecg_norm_14.csv',\n",
       "  'correct_rpeaks_test_norm_ecg_norm_15.csv',\n",
       "  'correct_rpeaks_test_norm_ecg_norm_16.csv',\n",
       "  'correct_rpeaks_test_norm_ecg_norm_17.csv'],\n",
       " ['filtered_test_norm_ecg_norm_00.csv',\n",
       "  'filtered_test_norm_ecg_norm_01.csv',\n",
       "  'filtered_test_norm_ecg_norm_02.csv',\n",
       "  'filtered_test_norm_ecg_norm_03.csv',\n",
       "  'filtered_test_norm_ecg_norm_04.csv',\n",
       "  'filtered_test_norm_ecg_norm_05.csv',\n",
       "  'filtered_test_norm_ecg_norm_06.csv',\n",
       "  'filtered_test_norm_ecg_norm_07.csv',\n",
       "  'filtered_test_norm_ecg_norm_08.csv',\n",
       "  'filtered_test_norm_ecg_norm_09.csv',\n",
       "  'filtered_test_norm_ecg_norm_10.csv',\n",
       "  'filtered_test_norm_ecg_norm_11.csv',\n",
       "  'filtered_test_norm_ecg_norm_12.csv',\n",
       "  'filtered_test_norm_ecg_norm_13.csv',\n",
       "  'filtered_test_norm_ecg_norm_14.csv',\n",
       "  'filtered_test_norm_ecg_norm_15.csv',\n",
       "  'filtered_test_norm_ecg_norm_16.csv',\n",
       "  'filtered_test_norm_ecg_norm_17.csv'])"
      ]
     },
     "execution_count": 6,
     "metadata": {},
     "output_type": "execute_result"
    }
   ],
   "source": [
    "rpeakList, fxvalList"
   ]
  },
  {
   "cell_type": "code",
   "execution_count": 7,
   "id": "b7f0e920-c965-4f0a-9311-498a776e5c47",
   "metadata": {},
   "outputs": [],
   "source": [
    "# check sample \n",
    "rpeaks = pd.read_csv(os.path.join(PATH_IN, rpeakList[0]), header=None)\n",
    "yvals = pd.read_csv(os.path.join(PATH_IN, fxvalList[0]), header=None)"
   ]
  },
  {
   "cell_type": "code",
   "execution_count": 8,
   "id": "8ff1e6c1-81b3-4d04-9642-f2268e982ce5",
   "metadata": {},
   "outputs": [],
   "source": [
    "# rpeaks, yvals: dataframe to list \n",
    "rpeaksList = list(np.array(rpeaks[0].tolist())) \n",
    "yvalsList = list(np.array(yvals[0].tolist()))\n",
    "ryvalList = [ yvalsList[int(r)] for r in rpeaksList ]\n",
    "\n",
    "# # original plot with rpeaks \n",
    "# %matplotlib\n",
    "# plt.plot(yvalsList)\n",
    "# plt.plot(rpeaksList ,ryvalList, \"r*\")\n",
    "# plt.grid()"
   ]
  },
  {
   "cell_type": "code",
   "execution_count": 9,
   "id": "1ccf011a-025a-45a6-8c59-92bae4f3695e",
   "metadata": {},
   "outputs": [
    {
     "data": {
      "text/plain": [
       "(       0\n",
       " 0  116.0\n",
       " 1  209.0\n",
       " 2  298.0\n",
       " 3  392.0\n",
       " 4  498.0,\n",
       "           0\n",
       " 0 -0.001539\n",
       " 1 -0.020544\n",
       " 2 -0.016044\n",
       " 3 -0.030780\n",
       " 4 -0.040764,\n",
       " 'correct_rpeaks_test_norm_ecg_norm_00.csv',\n",
       " 'cos_sim_norm_00_89.csv')"
      ]
     },
     "execution_count": 9,
     "metadata": {},
     "output_type": "execute_result"
    }
   ],
   "source": [
    "rpeaks.head(), yvals.head(), rpeakList[0] ,cos_sim_norm[1]"
   ]
  },
  {
   "cell_type": "code",
   "execution_count": 10,
   "id": "f0df082f-4042-42e3-90ea-4f91fc8ee170",
   "metadata": {},
   "outputs": [
    {
     "data": {
      "text/html": [
       "<div>\n",
       "<style scoped>\n",
       "    .dataframe tbody tr th:only-of-type {\n",
       "        vertical-align: middle;\n",
       "    }\n",
       "\n",
       "    .dataframe tbody tr th {\n",
       "        vertical-align: top;\n",
       "    }\n",
       "\n",
       "    .dataframe thead th {\n",
       "        text-align: right;\n",
       "    }\n",
       "</style>\n",
       "<table border=\"1\" class=\"dataframe\">\n",
       "  <thead>\n",
       "    <tr style=\"text-align: right;\">\n",
       "      <th></th>\n",
       "      <th>Unnamed: 0</th>\n",
       "      <th>index</th>\n",
       "      <th>cos_sim</th>\n",
       "      <th>original_points</th>\n",
       "    </tr>\n",
       "  </thead>\n",
       "  <tbody>\n",
       "    <tr>\n",
       "      <th>0</th>\n",
       "      <td>0</td>\n",
       "      <td>1406</td>\n",
       "      <td>0.999919</td>\n",
       "      <td>96</td>\n",
       "    </tr>\n",
       "    <tr>\n",
       "      <th>1</th>\n",
       "      <td>1</td>\n",
       "      <td>2347</td>\n",
       "      <td>0.999893</td>\n",
       "      <td>93</td>\n",
       "    </tr>\n",
       "    <tr>\n",
       "      <th>2</th>\n",
       "      <td>2</td>\n",
       "      <td>2859</td>\n",
       "      <td>0.999891</td>\n",
       "      <td>99</td>\n",
       "    </tr>\n",
       "    <tr>\n",
       "      <th>3</th>\n",
       "      <td>3</td>\n",
       "      <td>399</td>\n",
       "      <td>0.999891</td>\n",
       "      <td>94</td>\n",
       "    </tr>\n",
       "    <tr>\n",
       "      <th>4</th>\n",
       "      <td>4</td>\n",
       "      <td>2158</td>\n",
       "      <td>0.999891</td>\n",
       "      <td>94</td>\n",
       "    </tr>\n",
       "    <tr>\n",
       "      <th>...</th>\n",
       "      <td>...</td>\n",
       "      <td>...</td>\n",
       "      <td>...</td>\n",
       "      <td>...</td>\n",
       "    </tr>\n",
       "    <tr>\n",
       "      <th>5151</th>\n",
       "      <td>5151</td>\n",
       "      <td>675</td>\n",
       "      <td>0.989159</td>\n",
       "      <td>45</td>\n",
       "    </tr>\n",
       "    <tr>\n",
       "      <th>5152</th>\n",
       "      <td>5152</td>\n",
       "      <td>4905</td>\n",
       "      <td>0.986905</td>\n",
       "      <td>34</td>\n",
       "    </tr>\n",
       "    <tr>\n",
       "      <th>5153</th>\n",
       "      <td>5153</td>\n",
       "      <td>3599</td>\n",
       "      <td>0.984791</td>\n",
       "      <td>20</td>\n",
       "    </tr>\n",
       "    <tr>\n",
       "      <th>5154</th>\n",
       "      <td>5154</td>\n",
       "      <td>3681</td>\n",
       "      <td>0.984658</td>\n",
       "      <td>198</td>\n",
       "    </tr>\n",
       "    <tr>\n",
       "      <th>5155</th>\n",
       "      <td>5155</td>\n",
       "      <td>619</td>\n",
       "      <td>0.977549</td>\n",
       "      <td>79</td>\n",
       "    </tr>\n",
       "  </tbody>\n",
       "</table>\n",
       "<p>5156 rows × 4 columns</p>\n",
       "</div>"
      ],
      "text/plain": [
       "      Unnamed: 0  index   cos_sim  original_points\n",
       "0              0   1406  0.999919               96\n",
       "1              1   2347  0.999893               93\n",
       "2              2   2859  0.999891               99\n",
       "3              3    399  0.999891               94\n",
       "4              4   2158  0.999891               94\n",
       "...          ...    ...       ...              ...\n",
       "5151        5151    675  0.989159               45\n",
       "5152        5152   4905  0.986905               34\n",
       "5153        5153   3599  0.984791               20\n",
       "5154        5154   3681  0.984658              198\n",
       "5155        5155    619  0.977549               79\n",
       "\n",
       "[5156 rows x 4 columns]"
      ]
     },
     "execution_count": 10,
     "metadata": {},
     "output_type": "execute_result"
    }
   ],
   "source": [
    "cos_df"
   ]
  },
  {
   "cell_type": "markdown",
   "id": "e970b09d-9605-42e2-bfd1-f11513ca5552",
   "metadata": {
    "tags": []
   },
   "source": [
    "## Normaliation"
   ]
  },
  {
   "cell_type": "markdown",
   "id": "fe74cbee-0e3a-448a-821c-6bc0ad74b221",
   "metadata": {
    "tags": []
   },
   "source": [
    "### Amplitude Normalization"
   ]
  },
  {
   "cell_type": "code",
   "execution_count": 11,
   "id": "dcde63cc-0c33-41cd-945e-e83d0d400a4a",
   "metadata": {},
   "outputs": [
    {
     "data": {
      "text/plain": [
       "(1.0,\n",
       " 0.0,\n",
       " 0    2.4267\n",
       " dtype: float64,\n",
       " 0   -2.457075\n",
       " dtype: float64)"
      ]
     },
     "execution_count": 11,
     "metadata": {},
     "output_type": "execute_result"
    }
   ],
   "source": [
    "# Task: amplitude Normalization\n",
    "\n",
    "# min-max normalization \n",
    "min_max_scaler = MinMaxScaler()\n",
    "# fyvals \n",
    "\n",
    "# minmax normalization for fxvals(ECG Voltage)\n",
    "yvals_MinMax = min_max_scaler.fit_transform(yvals)\n",
    "\n",
    "# examples\n",
    "yvals_MinMax[370], yvals_MinMax[662], yvals_MinMax[947]\n",
    "\n",
    "np.max(yvals_MinMax), np.min(yvals_MinMax), np.max(yvals), np.min(yvals)"
   ]
  },
  {
   "cell_type": "code",
   "execution_count": 12,
   "id": "48f4963c-073b-4a79-920e-06c9db4f10a0",
   "metadata": {},
   "outputs": [],
   "source": [
    "import functools\n",
    "import itertools\n",
    "import operator\n",
    "import numpy as np\n",
    "#import perfplot\n",
    "\n",
    "def itertools_chain(a):\n",
    "    return list(itertools.chain.from_iterable(a))"
   ]
  },
  {
   "cell_type": "code",
   "execution_count": null,
   "id": "44eca907-3792-4d28-900c-1dc7573c4c57",
   "metadata": {},
   "outputs": [],
   "source": [
    "# using sum() to list from array \n",
    "#### sooooo sloooow\n",
    "\n",
    "# # Task: 1. R-R interval 나누기 + 3. R-R time frame(data points) Normalization \n",
    "\n",
    "# # itertools\n",
    "# import functools\n",
    "# import itertools\n",
    "# import operator\n",
    "# import numpy as np\n",
    "# #import perfplot\n",
    "# # signal tools \n",
    "# from scipy import signal\n",
    "\n",
    "\n",
    "# # DataFrame: rr-interval + Norm_amplitude_yvalue\n",
    "# def minmax_norm_amplitude(rpeaks, yvals_MinMax):\n",
    "#     df_rr_intervals = pd.DataFrame(columns=['RR_index', 'Origin_Rpeak', 'RR_range_idx', 'RR_interval','Norm_amplitude_yvalue'])\n",
    "      \n",
    "    \n",
    "#     for i in range(len(rpeaks)):\n",
    "#         if i + 1 == len(rpeaks):\n",
    "#             #rr_range_idx = i+1\n",
    "#             break\n",
    "#         else:\n",
    "#             origin_rpeak = rpeaks.iloc[i]\n",
    "#             rr_range_idx =[i, i+1]\n",
    "#             # list to str\n",
    "#             rr_range_idx = ','.join(str(e) for e in rr_range_idx)\n",
    "#             rr_interval = rpeaks.iloc[i+1] - rpeaks.iloc[i]\n",
    "#             new_yval = yvals_MinMax[int(rpeaks.iloc[i]):int(rpeaks.iloc[i+1])]\n",
    "#             new_yval_1d = sum(new_yval.tolist(), [])\n",
    "\n",
    "#             # add data into dictionary(dataframe)\n",
    "#             tmp = pd.DataFrame({'RR_index':i,  'Origin_Rpeak':origin_rpeak, 'RR_range_idx': rr_range_idx, 'RR_interval':rr_interval,'Norm_amplitude_yvalue':[new_yval_1d]})\n",
    "#             # \"rr_index: i \" means 0:rpeak[1]-rpeak[0]\n",
    "            \n",
    "#             df_rr_intervals = pd.concat([df_rr_intervals, tmp])\n",
    "            \n",
    "#     return df_rr_intervals"
   ]
  },
  {
   "cell_type": "markdown",
   "id": "ee656d67-ce58-4263-b327-5fdc3c358221",
   "metadata": {},
   "source": [
    "### Sperate wave into R-R interval"
   ]
  },
  {
   "cell_type": "code",
   "execution_count": 13,
   "id": "368ad4bf-949a-4cd0-8685-521aa38e3f34",
   "metadata": {},
   "outputs": [],
   "source": [
    "# Task: 1. R-R interval 나누기 + 3. R-R time frame(data points) Normalization \n",
    "\n",
    "# itertools\n",
    "import functools\n",
    "import itertools\n",
    "import operator\n",
    "import numpy as np\n",
    "#import perfplot\n",
    "# signal tools \n",
    "from scipy import signal\n",
    "\n",
    "def itertools_chain(a):\n",
    "    return list(itertools.chain.from_iterable(a))\n",
    "\n",
    "\n",
    "# DataFrame: rr-interval + Norm_amplitude_yvalue\n",
    "def minmax_norm_amplitude(rpeaks, yvals_MinMax):\n",
    "    df_rr_intervals = pd.DataFrame(columns=['RR_index', 'Origin_Rpeak', 'RR_range_idx', 'RR_interval','Norm_amplitude_yvalue'])\n",
    "    \n",
    "    yvals_MinMax = itertools_chain(yvals_MinMax)\n",
    "    \n",
    "    for i in range(len(rpeaks)):\n",
    "        if i + 1 == len(rpeaks):\n",
    "            #rr_range_idx = i+1\n",
    "            break\n",
    "        else:\n",
    "            origin_rpeak = rpeaks.iloc[i]\n",
    "            rr_range_idx =[i, i+1]\n",
    "            # list to str\n",
    "            rr_range_idx = ','.join(str(e) for e in rr_range_idx)\n",
    "            rr_interval = rpeaks.iloc[i+1] - rpeaks.iloc[i]\n",
    "            new_yval = yvals_MinMax[int(rpeaks.iloc[i]):int(rpeaks.iloc[i+1])]\n",
    "            # new_yval_1d = sum(new_yval.tolist(), [])\n",
    "\n",
    "            # add data into dictionary(dataframe)\n",
    "            tmp = pd.DataFrame({'RR_index':i,  'Origin_Rpeak':origin_rpeak, 'RR_range_idx': rr_range_idx, 'RR_interval':rr_interval,'Norm_amplitude_yvalue':[new_yval]})\n",
    "            # \"rr_index: i \" means 0:rpeak[1]-rpeak[0]\n",
    "            \n",
    "            df_rr_intervals = pd.concat([df_rr_intervals, tmp])\n",
    "            \n",
    "    return df_rr_intervals"
   ]
  },
  {
   "cell_type": "code",
   "execution_count": 14,
   "id": "2e8b794e-b75a-477d-a748-3edc8f47334c",
   "metadata": {},
   "outputs": [],
   "source": [
    "df = minmax_norm_amplitude(rpeaks, yvals_MinMax)"
   ]
  },
  {
   "cell_type": "code",
   "execution_count": 15,
   "id": "f0bce16f-0b85-47fc-aa31-b2b86cac0ef9",
   "metadata": {},
   "outputs": [
    {
     "data": {
      "text/html": [
       "<div>\n",
       "<style scoped>\n",
       "    .dataframe tbody tr th:only-of-type {\n",
       "        vertical-align: middle;\n",
       "    }\n",
       "\n",
       "    .dataframe tbody tr th {\n",
       "        vertical-align: top;\n",
       "    }\n",
       "\n",
       "    .dataframe thead th {\n",
       "        text-align: right;\n",
       "    }\n",
       "</style>\n",
       "<table border=\"1\" class=\"dataframe\">\n",
       "  <thead>\n",
       "    <tr style=\"text-align: right;\">\n",
       "      <th></th>\n",
       "      <th>RR_index</th>\n",
       "      <th>Origin_Rpeak</th>\n",
       "      <th>RR_range_idx</th>\n",
       "      <th>RR_interval</th>\n",
       "      <th>Norm_amplitude_yvalue</th>\n",
       "    </tr>\n",
       "  </thead>\n",
       "  <tbody>\n",
       "    <tr>\n",
       "      <th>0</th>\n",
       "      <td>0</td>\n",
       "      <td>116.0</td>\n",
       "      <td>0,1</td>\n",
       "      <td>93.0</td>\n",
       "      <td>[0.5622263561478792, 0.4243009990905343, 0.386...</td>\n",
       "    </tr>\n",
       "    <tr>\n",
       "      <th>0</th>\n",
       "      <td>1</td>\n",
       "      <td>209.0</td>\n",
       "      <td>1,2</td>\n",
       "      <td>89.0</td>\n",
       "      <td>[0.5524580051179417, 0.451409925982508, 0.3913...</td>\n",
       "    </tr>\n",
       "    <tr>\n",
       "      <th>0</th>\n",
       "      <td>2</td>\n",
       "      <td>298.0</td>\n",
       "      <td>2,3</td>\n",
       "      <td>94.0</td>\n",
       "      <td>[0.5500827901490235, 0.5054880704034215, 0.449...</td>\n",
       "    </tr>\n",
       "    <tr>\n",
       "      <th>0</th>\n",
       "      <td>3</td>\n",
       "      <td>392.0</td>\n",
       "      <td>3,4</td>\n",
       "      <td>106.0</td>\n",
       "      <td>[0.5543933604664523, 0.4997544434019189, 0.435...</td>\n",
       "    </tr>\n",
       "    <tr>\n",
       "      <th>0</th>\n",
       "      <td>4</td>\n",
       "      <td>498.0</td>\n",
       "      <td>4,5</td>\n",
       "      <td>90.0</td>\n",
       "      <td>[0.5456545483532782, 0.5184285115387768, 0.519...</td>\n",
       "    </tr>\n",
       "    <tr>\n",
       "      <th>...</th>\n",
       "      <td>...</td>\n",
       "      <td>...</td>\n",
       "      <td>...</td>\n",
       "      <td>...</td>\n",
       "      <td>...</td>\n",
       "    </tr>\n",
       "    <tr>\n",
       "      <th>0</th>\n",
       "      <td>5151</td>\n",
       "      <td>460243.0</td>\n",
       "      <td>5151,5152</td>\n",
       "      <td>90.0</td>\n",
       "      <td>[0.6065367327802283, 0.5064764540708178, 0.363...</td>\n",
       "    </tr>\n",
       "    <tr>\n",
       "      <th>0</th>\n",
       "      <td>5152</td>\n",
       "      <td>460333.0</td>\n",
       "      <td>5152,5153</td>\n",
       "      <td>88.0</td>\n",
       "      <td>[0.6399087659316696, 0.5124195506852108, 0.395...</td>\n",
       "    </tr>\n",
       "    <tr>\n",
       "      <th>0</th>\n",
       "      <td>5153</td>\n",
       "      <td>460421.0</td>\n",
       "      <td>5153,5154</td>\n",
       "      <td>88.0</td>\n",
       "      <td>[0.6237300652954432, 0.6076425642234468, 0.435...</td>\n",
       "    </tr>\n",
       "    <tr>\n",
       "      <th>0</th>\n",
       "      <td>5154</td>\n",
       "      <td>460509.0</td>\n",
       "      <td>5154,5155</td>\n",
       "      <td>87.0</td>\n",
       "      <td>[0.6578096871307446, 0.6177331407222859, 0.418...</td>\n",
       "    </tr>\n",
       "    <tr>\n",
       "      <th>0</th>\n",
       "      <td>5155</td>\n",
       "      <td>460596.0</td>\n",
       "      <td>5155,5156</td>\n",
       "      <td>85.0</td>\n",
       "      <td>[0.6646911452200733, 0.528190947980006, 0.3966...</td>\n",
       "    </tr>\n",
       "  </tbody>\n",
       "</table>\n",
       "<p>5156 rows × 5 columns</p>\n",
       "</div>"
      ],
      "text/plain": [
       "   RR_index  Origin_Rpeak RR_range_idx  RR_interval  \\\n",
       "0         0         116.0          0,1         93.0   \n",
       "0         1         209.0          1,2         89.0   \n",
       "0         2         298.0          2,3         94.0   \n",
       "0         3         392.0          3,4        106.0   \n",
       "0         4         498.0          4,5         90.0   \n",
       "..      ...           ...          ...          ...   \n",
       "0      5151      460243.0    5151,5152         90.0   \n",
       "0      5152      460333.0    5152,5153         88.0   \n",
       "0      5153      460421.0    5153,5154         88.0   \n",
       "0      5154      460509.0    5154,5155         87.0   \n",
       "0      5155      460596.0    5155,5156         85.0   \n",
       "\n",
       "                                Norm_amplitude_yvalue  \n",
       "0   [0.5622263561478792, 0.4243009990905343, 0.386...  \n",
       "0   [0.5524580051179417, 0.451409925982508, 0.3913...  \n",
       "0   [0.5500827901490235, 0.5054880704034215, 0.449...  \n",
       "0   [0.5543933604664523, 0.4997544434019189, 0.435...  \n",
       "0   [0.5456545483532782, 0.5184285115387768, 0.519...  \n",
       "..                                                ...  \n",
       "0   [0.6065367327802283, 0.5064764540708178, 0.363...  \n",
       "0   [0.6399087659316696, 0.5124195506852108, 0.395...  \n",
       "0   [0.6237300652954432, 0.6076425642234468, 0.435...  \n",
       "0   [0.6578096871307446, 0.6177331407222859, 0.418...  \n",
       "0   [0.6646911452200733, 0.528190947980006, 0.3966...  \n",
       "\n",
       "[5156 rows x 5 columns]"
      ]
     },
     "execution_count": 15,
     "metadata": {},
     "output_type": "execute_result"
    }
   ],
   "source": [
    "df"
   ]
  },
  {
   "cell_type": "code",
   "execution_count": 16,
   "id": "a495f8b1-1d96-492f-8b14-252c85a0f116",
   "metadata": {},
   "outputs": [],
   "source": [
    "df_rr_intervals = df "
   ]
  },
  {
   "cell_type": "code",
   "execution_count": 17,
   "id": "6557499e-7ccd-4939-ad0b-980c062b75f2",
   "metadata": {},
   "outputs": [
    {
     "data": {
      "text/html": [
       "<div>\n",
       "<style scoped>\n",
       "    .dataframe tbody tr th:only-of-type {\n",
       "        vertical-align: middle;\n",
       "    }\n",
       "\n",
       "    .dataframe tbody tr th {\n",
       "        vertical-align: top;\n",
       "    }\n",
       "\n",
       "    .dataframe thead th {\n",
       "        text-align: right;\n",
       "    }\n",
       "</style>\n",
       "<table border=\"1\" class=\"dataframe\">\n",
       "  <thead>\n",
       "    <tr style=\"text-align: right;\">\n",
       "      <th></th>\n",
       "      <th>RR_index</th>\n",
       "      <th>Origin_Rpeak</th>\n",
       "      <th>RR_range_idx</th>\n",
       "      <th>RR_interval</th>\n",
       "      <th>Norm_amplitude_yvalue</th>\n",
       "    </tr>\n",
       "  </thead>\n",
       "  <tbody>\n",
       "    <tr>\n",
       "      <th>0</th>\n",
       "      <td>0</td>\n",
       "      <td>116.0</td>\n",
       "      <td>0,1</td>\n",
       "      <td>93.0</td>\n",
       "      <td>[0.5622263561478792, 0.4243009990905343, 0.386...</td>\n",
       "    </tr>\n",
       "    <tr>\n",
       "      <th>0</th>\n",
       "      <td>1</td>\n",
       "      <td>209.0</td>\n",
       "      <td>1,2</td>\n",
       "      <td>89.0</td>\n",
       "      <td>[0.5524580051179417, 0.451409925982508, 0.3913...</td>\n",
       "    </tr>\n",
       "    <tr>\n",
       "      <th>0</th>\n",
       "      <td>2</td>\n",
       "      <td>298.0</td>\n",
       "      <td>2,3</td>\n",
       "      <td>94.0</td>\n",
       "      <td>[0.5500827901490235, 0.5054880704034215, 0.449...</td>\n",
       "    </tr>\n",
       "    <tr>\n",
       "      <th>0</th>\n",
       "      <td>3</td>\n",
       "      <td>392.0</td>\n",
       "      <td>3,4</td>\n",
       "      <td>106.0</td>\n",
       "      <td>[0.5543933604664523, 0.4997544434019189, 0.435...</td>\n",
       "    </tr>\n",
       "    <tr>\n",
       "      <th>0</th>\n",
       "      <td>4</td>\n",
       "      <td>498.0</td>\n",
       "      <td>4,5</td>\n",
       "      <td>90.0</td>\n",
       "      <td>[0.5456545483532782, 0.5184285115387768, 0.519...</td>\n",
       "    </tr>\n",
       "    <tr>\n",
       "      <th>...</th>\n",
       "      <td>...</td>\n",
       "      <td>...</td>\n",
       "      <td>...</td>\n",
       "      <td>...</td>\n",
       "      <td>...</td>\n",
       "    </tr>\n",
       "    <tr>\n",
       "      <th>0</th>\n",
       "      <td>5151</td>\n",
       "      <td>460243.0</td>\n",
       "      <td>5151,5152</td>\n",
       "      <td>90.0</td>\n",
       "      <td>[0.6065367327802283, 0.5064764540708178, 0.363...</td>\n",
       "    </tr>\n",
       "    <tr>\n",
       "      <th>0</th>\n",
       "      <td>5152</td>\n",
       "      <td>460333.0</td>\n",
       "      <td>5152,5153</td>\n",
       "      <td>88.0</td>\n",
       "      <td>[0.6399087659316696, 0.5124195506852108, 0.395...</td>\n",
       "    </tr>\n",
       "    <tr>\n",
       "      <th>0</th>\n",
       "      <td>5153</td>\n",
       "      <td>460421.0</td>\n",
       "      <td>5153,5154</td>\n",
       "      <td>88.0</td>\n",
       "      <td>[0.6237300652954432, 0.6076425642234468, 0.435...</td>\n",
       "    </tr>\n",
       "    <tr>\n",
       "      <th>0</th>\n",
       "      <td>5154</td>\n",
       "      <td>460509.0</td>\n",
       "      <td>5154,5155</td>\n",
       "      <td>87.0</td>\n",
       "      <td>[0.6578096871307446, 0.6177331407222859, 0.418...</td>\n",
       "    </tr>\n",
       "    <tr>\n",
       "      <th>0</th>\n",
       "      <td>5155</td>\n",
       "      <td>460596.0</td>\n",
       "      <td>5155,5156</td>\n",
       "      <td>85.0</td>\n",
       "      <td>[0.6646911452200733, 0.528190947980006, 0.3966...</td>\n",
       "    </tr>\n",
       "  </tbody>\n",
       "</table>\n",
       "<p>5156 rows × 5 columns</p>\n",
       "</div>"
      ],
      "text/plain": [
       "   RR_index  Origin_Rpeak RR_range_idx  RR_interval  \\\n",
       "0         0         116.0          0,1         93.0   \n",
       "0         1         209.0          1,2         89.0   \n",
       "0         2         298.0          2,3         94.0   \n",
       "0         3         392.0          3,4        106.0   \n",
       "0         4         498.0          4,5         90.0   \n",
       "..      ...           ...          ...          ...   \n",
       "0      5151      460243.0    5151,5152         90.0   \n",
       "0      5152      460333.0    5152,5153         88.0   \n",
       "0      5153      460421.0    5153,5154         88.0   \n",
       "0      5154      460509.0    5154,5155         87.0   \n",
       "0      5155      460596.0    5155,5156         85.0   \n",
       "\n",
       "                                Norm_amplitude_yvalue  \n",
       "0   [0.5622263561478792, 0.4243009990905343, 0.386...  \n",
       "0   [0.5524580051179417, 0.451409925982508, 0.3913...  \n",
       "0   [0.5500827901490235, 0.5054880704034215, 0.449...  \n",
       "0   [0.5543933604664523, 0.4997544434019189, 0.435...  \n",
       "0   [0.5456545483532782, 0.5184285115387768, 0.519...  \n",
       "..                                                ...  \n",
       "0   [0.6065367327802283, 0.5064764540708178, 0.363...  \n",
       "0   [0.6399087659316696, 0.5124195506852108, 0.395...  \n",
       "0   [0.6237300652954432, 0.6076425642234468, 0.435...  \n",
       "0   [0.6578096871307446, 0.6177331407222859, 0.418...  \n",
       "0   [0.6646911452200733, 0.528190947980006, 0.3966...  \n",
       "\n",
       "[5156 rows x 5 columns]"
      ]
     },
     "execution_count": 17,
     "metadata": {},
     "output_type": "execute_result"
    }
   ],
   "source": [
    "df_rr_intervals"
   ]
  },
  {
   "cell_type": "markdown",
   "id": "f57e0d98-d369-4219-8d60-a1f641f14317",
   "metadata": {},
   "source": [
    "### Normalized Frame; sample points "
   ]
  },
  {
   "cell_type": "code",
   "execution_count": 18,
   "id": "3c83b1df-33f7-4011-a5f2-eb2f043d346d",
   "metadata": {
    "tags": []
   },
   "outputs": [
    {
     "data": {
      "text/html": [
       "<div>\n",
       "<style scoped>\n",
       "    .dataframe tbody tr th:only-of-type {\n",
       "        vertical-align: middle;\n",
       "    }\n",
       "\n",
       "    .dataframe tbody tr th {\n",
       "        vertical-align: top;\n",
       "    }\n",
       "\n",
       "    .dataframe thead th {\n",
       "        text-align: right;\n",
       "    }\n",
       "</style>\n",
       "<table border=\"1\" class=\"dataframe\">\n",
       "  <thead>\n",
       "    <tr style=\"text-align: right;\">\n",
       "      <th></th>\n",
       "      <th>RR_index</th>\n",
       "      <th>Origin_Rpeak</th>\n",
       "      <th>RR_range_idx</th>\n",
       "      <th>RR_interval</th>\n",
       "      <th>Norm_amplitude_yvalue</th>\n",
       "      <th>Point_norm_sample</th>\n",
       "    </tr>\n",
       "  </thead>\n",
       "  <tbody>\n",
       "    <tr>\n",
       "      <th>0</th>\n",
       "      <td>0</td>\n",
       "      <td>116.0</td>\n",
       "      <td>0,1</td>\n",
       "      <td>93.0</td>\n",
       "      <td>[0.5622263561478792, 0.4243009990905343, 0.386...</td>\n",
       "      <td>[0.5612516439336924, 0.41903476057316164, 0.39...</td>\n",
       "    </tr>\n",
       "    <tr>\n",
       "      <th>0</th>\n",
       "      <td>1</td>\n",
       "      <td>209.0</td>\n",
       "      <td>1,2</td>\n",
       "      <td>89.0</td>\n",
       "      <td>[0.5524580051179417, 0.451409925982508, 0.3913...</td>\n",
       "      <td>[0.552458005117943, 0.45140992598250795, 0.391...</td>\n",
       "    </tr>\n",
       "    <tr>\n",
       "      <th>0</th>\n",
       "      <td>2</td>\n",
       "      <td>298.0</td>\n",
       "      <td>2,3</td>\n",
       "      <td>94.0</td>\n",
       "      <td>[0.5500827901490235, 0.5054880704034215, 0.449...</td>\n",
       "      <td>[0.5502384223993755, 0.5020559457245233, 0.446...</td>\n",
       "    </tr>\n",
       "    <tr>\n",
       "      <th>0</th>\n",
       "      <td>3</td>\n",
       "      <td>392.0</td>\n",
       "      <td>3,4</td>\n",
       "      <td>106.0</td>\n",
       "      <td>[0.5543933604664523, 0.4997544434019189, 0.435...</td>\n",
       "      <td>[0.5540657589904348, 0.4850830180936692, 0.431...</td>\n",
       "    </tr>\n",
       "    <tr>\n",
       "      <th>0</th>\n",
       "      <td>4</td>\n",
       "      <td>498.0</td>\n",
       "      <td>4,5</td>\n",
       "      <td>90.0</td>\n",
       "      <td>[0.5456545483532782, 0.5184285115387768, 0.519...</td>\n",
       "      <td>[0.5454838661797972, 0.5182655889049094, 0.519...</td>\n",
       "    </tr>\n",
       "    <tr>\n",
       "      <th>...</th>\n",
       "      <td>...</td>\n",
       "      <td>...</td>\n",
       "      <td>...</td>\n",
       "      <td>...</td>\n",
       "      <td>...</td>\n",
       "      <td>...</td>\n",
       "    </tr>\n",
       "    <tr>\n",
       "      <th>0</th>\n",
       "      <td>5151</td>\n",
       "      <td>460243.0</td>\n",
       "      <td>5151,5152</td>\n",
       "      <td>90.0</td>\n",
       "      <td>[0.6065367327802283, 0.5064764540708178, 0.363...</td>\n",
       "      <td>[0.6069028003849534, 0.5042907925935594, 0.362...</td>\n",
       "    </tr>\n",
       "    <tr>\n",
       "      <th>0</th>\n",
       "      <td>5152</td>\n",
       "      <td>460333.0</td>\n",
       "      <td>5152,5153</td>\n",
       "      <td>88.0</td>\n",
       "      <td>[0.6399087659316696, 0.5124195506852108, 0.395...</td>\n",
       "      <td>[0.6399087659316696, 0.5147750095248959, 0.395...</td>\n",
       "    </tr>\n",
       "    <tr>\n",
       "      <th>0</th>\n",
       "      <td>5153</td>\n",
       "      <td>460421.0</td>\n",
       "      <td>5153,5154</td>\n",
       "      <td>88.0</td>\n",
       "      <td>[0.6237300652954432, 0.6076425642234468, 0.435...</td>\n",
       "      <td>[0.6237300652954428, 0.6090694171073417, 0.438...</td>\n",
       "    </tr>\n",
       "    <tr>\n",
       "      <th>0</th>\n",
       "      <td>5154</td>\n",
       "      <td>460509.0</td>\n",
       "      <td>5154,5155</td>\n",
       "      <td>87.0</td>\n",
       "      <td>[0.6578096871307446, 0.6177331407222859, 0.418...</td>\n",
       "      <td>[0.6578096871307451, 0.6208722874817755, 0.426...</td>\n",
       "    </tr>\n",
       "    <tr>\n",
       "      <th>0</th>\n",
       "      <td>5155</td>\n",
       "      <td>460596.0</td>\n",
       "      <td>5155,5156</td>\n",
       "      <td>85.0</td>\n",
       "      <td>[0.6646911452200733, 0.528190947980006, 0.3966...</td>\n",
       "      <td>[0.6646911452200736, 0.5374830110718873, 0.400...</td>\n",
       "    </tr>\n",
       "  </tbody>\n",
       "</table>\n",
       "<p>5156 rows × 6 columns</p>\n",
       "</div>"
      ],
      "text/plain": [
       "   RR_index  Origin_Rpeak RR_range_idx  RR_interval  \\\n",
       "0         0         116.0          0,1         93.0   \n",
       "0         1         209.0          1,2         89.0   \n",
       "0         2         298.0          2,3         94.0   \n",
       "0         3         392.0          3,4        106.0   \n",
       "0         4         498.0          4,5         90.0   \n",
       "..      ...           ...          ...          ...   \n",
       "0      5151      460243.0    5151,5152         90.0   \n",
       "0      5152      460333.0    5152,5153         88.0   \n",
       "0      5153      460421.0    5153,5154         88.0   \n",
       "0      5154      460509.0    5154,5155         87.0   \n",
       "0      5155      460596.0    5155,5156         85.0   \n",
       "\n",
       "                                Norm_amplitude_yvalue  \\\n",
       "0   [0.5622263561478792, 0.4243009990905343, 0.386...   \n",
       "0   [0.5524580051179417, 0.451409925982508, 0.3913...   \n",
       "0   [0.5500827901490235, 0.5054880704034215, 0.449...   \n",
       "0   [0.5543933604664523, 0.4997544434019189, 0.435...   \n",
       "0   [0.5456545483532782, 0.5184285115387768, 0.519...   \n",
       "..                                                ...   \n",
       "0   [0.6065367327802283, 0.5064764540708178, 0.363...   \n",
       "0   [0.6399087659316696, 0.5124195506852108, 0.395...   \n",
       "0   [0.6237300652954432, 0.6076425642234468, 0.435...   \n",
       "0   [0.6578096871307446, 0.6177331407222859, 0.418...   \n",
       "0   [0.6646911452200733, 0.528190947980006, 0.3966...   \n",
       "\n",
       "                                    Point_norm_sample  \n",
       "0   [0.5612516439336924, 0.41903476057316164, 0.39...  \n",
       "0   [0.552458005117943, 0.45140992598250795, 0.391...  \n",
       "0   [0.5502384223993755, 0.5020559457245233, 0.446...  \n",
       "0   [0.5540657589904348, 0.4850830180936692, 0.431...  \n",
       "0   [0.5454838661797972, 0.5182655889049094, 0.519...  \n",
       "..                                                ...  \n",
       "0   [0.6069028003849534, 0.5042907925935594, 0.362...  \n",
       "0   [0.6399087659316696, 0.5147750095248959, 0.395...  \n",
       "0   [0.6237300652954428, 0.6090694171073417, 0.438...  \n",
       "0   [0.6578096871307451, 0.6208722874817755, 0.426...  \n",
       "0   [0.6646911452200736, 0.5374830110718873, 0.400...  \n",
       "\n",
       "[5156 rows x 6 columns]"
      ]
     },
     "execution_count": 18,
     "metadata": {},
     "output_type": "execute_result"
    }
   ],
   "source": [
    "# resampling\n",
    "p_new_yval_1ds = []\n",
    "point_norm_sample = int(np.median(df_rr_intervals['RR_interval']))\n",
    "\n",
    "for i in range(len(df_rr_intervals)):\n",
    "    p_new_yval = signal.resample(df_rr_intervals['Norm_amplitude_yvalue'].iloc[i], point_norm_sample)\n",
    "    p_new_yval_1d = p_new_yval.tolist()\n",
    "    p_new_yval_1ds.append(p_new_yval_1d)\n",
    "\n",
    "#norm_df = pd.concat(df_rr_intervals, df_rr_intervals[''])\n",
    "norm_df = df_rr_intervals.assign(Point_norm_sample = p_new_yval_1ds)\n",
    "\n",
    "norm_df\n",
    "\n",
    "# plt.hist(rr_intervals)# np.mean(rr_intervals), np.median(rr_intervals), np.max(rr_intervals)"
   ]
  },
  {
   "cell_type": "markdown",
   "id": "acc4dacd-388b-492c-a597-8696fad6c4d3",
   "metadata": {},
   "source": [
    "#### R-Peak check from original data"
   ]
  },
  {
   "cell_type": "code",
   "execution_count": 127,
   "id": "c918fa67-487f-4044-acd4-2abbe979bcdc",
   "metadata": {
    "tags": []
   },
   "outputs": [],
   "source": [
    "# test ~5000 sample points \n",
    "rpeaks[rpeaks[0].values < 15000] # 166\n",
    "rpeaks[rpeaks[0].values > 5000] # 53\n",
    "lim_rpeaks= rpeaks.loc[53:166]\n",
    "\n",
    "lim_rpeak_yvals = []\n",
    "for x in lim_rpeaks[0].tolist():\n",
    "    lim_rpeak_yvals.append(yvals[0][x])"
   ]
  },
  {
   "cell_type": "code",
   "execution_count": 139,
   "id": "1dbca7f7-2b75-4f6a-8bc6-7821e4fa1f08",
   "metadata": {},
   "outputs": [],
   "source": [
    "tmp = sorted(lim_rpeak_yvals, reverse= True)"
   ]
  },
  {
   "cell_type": "code",
   "execution_count": 144,
   "id": "140a009b-f1fb-466b-9f60-7001c4040c7a",
   "metadata": {},
   "outputs": [
    {
     "data": {
      "text/plain": [
       "48"
      ]
     },
     "execution_count": 144,
     "metadata": {},
     "output_type": "execute_result"
    }
   ],
   "source": [
    "# outlier \n",
    "tmp\n",
    "lim_rpeak_yvals.index(1.1793204328672875) #48\n",
    "lim_rpeaks.iloc[48] #9445"
   ]
  },
  {
   "cell_type": "code",
   "execution_count": 152,
   "id": "38d627aa-a1d8-4e72-a584-0af9110a3efe",
   "metadata": {},
   "outputs": [],
   "source": [
    "# def itertools_chain(a):\n",
    "#     return list(itertools.chain.from_iterable(a))"
   ]
  },
  {
   "cell_type": "code",
   "execution_count": 151,
   "id": "3041f3cd-2f18-46d8-8f7c-035c65a2dff9",
   "metadata": {},
   "outputs": [
    {
     "data": {
      "text/plain": [
       "0.7445869384868373"
      ]
     },
     "execution_count": 151,
     "metadata": {},
     "output_type": "execute_result"
    }
   ],
   "source": [
    "itertools_chain(yvals_MinMax)[9445]"
   ]
  },
  {
   "cell_type": "code",
   "execution_count": 155,
   "id": "8ed2f14a-4478-4517-8b6a-194f4e5a3a1b",
   "metadata": {},
   "outputs": [
    {
     "data": {
      "text/plain": [
       "[<matplotlib.lines.Line2D at 0x260e66c5b50>]"
      ]
     },
     "execution_count": 155,
     "metadata": {},
     "output_type": "execute_result"
    }
   ],
   "source": [
    "#plt.plot(lim_rpeaks, lim_rpeak_yvals)\n",
    "plt.plot(list(range(5000,15000)), yvals[5000:15000])\n",
    "plt.plot(lim_rpeaks, lim_rpeak_yvals, 'r*')"
   ]
  },
  {
   "cell_type": "code",
   "execution_count": null,
   "id": "60f69f41-3c84-42ac-91e0-531bd5e117f1",
   "metadata": {},
   "outputs": [],
   "source": []
  },
  {
   "cell_type": "code",
   "execution_count": null,
   "id": "0f5b7e2a-c68d-4bea-9109-984a9bd347e7",
   "metadata": {},
   "outputs": [],
   "source": []
  },
  {
   "cell_type": "code",
   "execution_count": null,
   "id": "113d6549-6da9-4dbd-bb41-c5bbb8407ce7",
   "metadata": {},
   "outputs": [],
   "source": []
  },
  {
   "cell_type": "code",
   "execution_count": null,
   "id": "d55f4583-f735-42ba-a593-fcdf162ba9db",
   "metadata": {},
   "outputs": [],
   "source": []
  },
  {
   "cell_type": "code",
   "execution_count": null,
   "id": "16193c80-3bd1-40d6-822a-eda584b96347",
   "metadata": {},
   "outputs": [],
   "source": [
    "len(norm_df.iloc[0]['Norm_amplitude_yvalue']), len(norm_df.iloc[1]['Norm_amplitude_yvalue']), len(norm_df.iloc[0]['Point_norm_sample']), len(norm_df.iloc[1]['Point_norm_sample'])\n"
   ]
  },
  {
   "cell_type": "code",
   "execution_count": null,
   "id": "7bfb1e95-5b2c-428f-81d8-db44b3ce0aa5",
   "metadata": {},
   "outputs": [],
   "source": [
    "def flatten(t):\n",
    "    return [item for sublist in t for item in sublist]\n",
    "\n",
    "norm_xy_df = flatten(p_new_yval_1ds)"
   ]
  },
  {
   "cell_type": "code",
   "execution_count": null,
   "id": "de713c41-bc0d-4e9b-bde7-303160c1fda1",
   "metadata": {},
   "outputs": [],
   "source": [
    "new_rpeak = [i+116 for i in range(len(norm_xy_df)) if i%89==0]\n",
    "new_rpeak_yval = [norm_xy_df[i] for i in range(len(norm_xy_df)) if i%89==0]\n",
    "norm_df['New_rpeak'] = new_rpeak\n",
    "norm_df['New_rpeak_yval'] = new_rpeak_yval"
   ]
  },
  {
   "cell_type": "code",
   "execution_count": null,
   "id": "9475e93b-4c08-4fad-afb7-a5f20fdbd312",
   "metadata": {},
   "outputs": [],
   "source": [
    "norm_df.iloc[1]"
   ]
  },
  {
   "cell_type": "code",
   "execution_count": null,
   "id": "110453f5-8f0c-4686-bd0b-028e6b8c3813",
   "metadata": {},
   "outputs": [],
   "source": [
    "norm_df.iloc[0]['Norm_amplitude_yvalue'][0], norm_df.iloc[0]['Point_norm_sample'][0],  norm_df.iloc[0]['New_rpeak_yval'], norm_df.iloc[0]['RR_interval']"
   ]
  },
  {
   "cell_type": "code",
   "execution_count": null,
   "id": "e389957d-12e5-4790-abbf-3ed71494b55f",
   "metadata": {},
   "outputs": [],
   "source": [
    "norm_df.iloc[1]['Norm_amplitude_yvalue'][0], norm_df.iloc[1]['Point_norm_sample'][0],  norm_df.iloc[1]['New_rpeak_yval'], norm_df.iloc[1]['RR_interval']"
   ]
  },
  {
   "cell_type": "code",
   "execution_count": null,
   "id": "045f64e0-4a4e-4bbb-ad0c-15f1dc49722d",
   "metadata": {},
   "outputs": [],
   "source": [
    "yvalsList[rpeaksList]"
   ]
  },
  {
   "cell_type": "code",
   "execution_count": null,
   "id": "9b01340d-d220-4532-b648-6e58f3ce0fdc",
   "metadata": {},
   "outputs": [],
   "source": [
    "new_peak = [norm_xy_df[i] for i in range(len(norm_xy_df)) if i%89==0]\n",
    "%matplotlib\n",
    "plt.figure(figsize=(10,8))\n",
    "plt.plot(forward_norm_xy_df[0:5000])\n",
    "plt.plot(filteredList, new_rpeak_yval[:len(filteredList)], \"r*\")"
   ]
  },
  {
   "cell_type": "code",
   "execution_count": null,
   "id": "98f89cf0-5594-45aa-9d0c-4caef58b0b9a",
   "metadata": {},
   "outputs": [],
   "source": [
    "filteredList"
   ]
  },
  {
   "cell_type": "code",
   "execution_count": null,
   "id": "0cb7e381-4555-4d61-a9cf-e659181bea37",
   "metadata": {},
   "outputs": [],
   "source": [
    "filteredList[0]+88"
   ]
  },
  {
   "cell_type": "code",
   "execution_count": null,
   "id": "390624a5-044a-4a6b-a305-3d1d1cc93730",
   "metadata": {},
   "outputs": [],
   "source": [
    "# 5000미만 data뽑기\n",
    "new_peak = [i for i in range(len(norm_xy_df)) if i%89==0]\n",
    "filteredList = list(filter(lambda x: x<5000, new_rpeak))\n",
    "\n",
    "\n",
    "plt.plot(norm_xy_df[0:5000])\n",
    "plt.figure(figsize=(10,8))\n",
    "plt.plot(norm_xy_df[0:5000])\n",
    "plt.plot(filteredList, norm_xy_df[:len(filteredList)], \"r*\")"
   ]
  },
  {
   "cell_type": "code",
   "execution_count": null,
   "id": "e71ae6c7-516f-499f-850c-512fb7db62ae",
   "metadata": {},
   "outputs": [],
   "source": [
    "new_rpeak_yval[len(filteredList)-1]"
   ]
  },
  {
   "cell_type": "code",
   "execution_count": null,
   "id": "a544a3b4-61c9-4b66-a608-92e57b904dd7",
   "metadata": {},
   "outputs": [],
   "source": [
    "tmp_y = flatten(new_yval)\n",
    "yvals = pd.read_csv(os.path.join(PATH_IN, fxvalList[0]), header=None)"
   ]
  },
  {
   "cell_type": "code",
   "execution_count": null,
   "id": "cc8628ea-e2dc-4a60-95d1-cc4dbb652107",
   "metadata": {},
   "outputs": [],
   "source": [
    "len(yvals)"
   ]
  },
  {
   "cell_type": "code",
   "execution_count": null,
   "id": "b1330f79-3799-44fc-885c-49494b44d1f7",
   "metadata": {},
   "outputs": [],
   "source": [
    "rpeaks[yvals]"
   ]
  },
  {
   "cell_type": "code",
   "execution_count": null,
   "id": "1b1ff91e-aae3-47d1-af00-6a25b668915c",
   "metadata": {},
   "outputs": [],
   "source": [
    "newList = list(filter(isBiggerThanFive, new_rpeak))"
   ]
  },
  {
   "cell_type": "code",
   "execution_count": null,
   "id": "2fc2becf-4e77-46d6-9253-ddc9b9e34927",
   "metadata": {},
   "outputs": [],
   "source": [
    "norm_df"
   ]
  },
  {
   "cell_type": "code",
   "execution_count": null,
   "id": "1d3d946f-1fa6-4b9f-887b-42aff9ccd511",
   "metadata": {},
   "outputs": [],
   "source": [
    "new_peak = [{i:yval} for i, yval in enumerate in norm_xy_df ]"
   ]
  },
  {
   "cell_type": "code",
   "execution_count": null,
   "id": "9dfa3eea-e83a-45e3-ba4d-6996b6d13ddb",
   "metadata": {},
   "outputs": [],
   "source": [
    "[{i:yval} for i, yval in enumerate in norm_xy_df ]#if i%89==0]"
   ]
  },
  {
   "cell_type": "code",
   "execution_count": null,
   "id": "8b5f0665-e9fa-4594-8c36-ebdeb2b9f528",
   "metadata": {},
   "outputs": [],
   "source": [
    "norm_xy_df[89]"
   ]
  },
  {
   "cell_type": "code",
   "execution_count": null,
   "id": "75cca4ba-7e57-4b9b-af6c-ef9391f45c9a",
   "metadata": {},
   "outputs": [],
   "source": [
    "89*2%89"
   ]
  },
  {
   "cell_type": "code",
   "execution_count": null,
   "id": "746b983d-5297-4228-8796-d42b25bb7726",
   "metadata": {},
   "outputs": [],
   "source": []
  },
  {
   "cell_type": "code",
   "execution_count": null,
   "id": "6ceb08ff-409d-4cb3-a066-691404c6cfb2",
   "metadata": {},
   "outputs": [],
   "source": [
    "norm_xy_df"
   ]
  },
  {
   "cell_type": "code",
   "execution_count": null,
   "id": "47e3baef-2314-491b-8ce8-cf2737a99e9c",
   "metadata": {},
   "outputs": [],
   "source": [
    "norm_df.iloc[0]#['Origin_Rpeak']\n",
    "len(norm_df.iloc[0]['Norm_amplitude_yvalue'])"
   ]
  },
  {
   "cell_type": "code",
   "execution_count": null,
   "id": "f1d34128-f7a2-452f-936e-62a544f3a8de",
   "metadata": {},
   "outputs": [],
   "source": [
    "len(norm_df['Norm_amplitude_yvalue'].tolist()"
   ]
  },
  {
   "cell_type": "code",
   "execution_count": null,
   "id": "55aa8ef1-1f3f-4e6b-8576-abe4255c82eb",
   "metadata": {},
   "outputs": [],
   "source": [
    "np.median(norm_df['RR_interval']), len(norm_df.iloc[0]['Point_norm_sample'])"
   ]
  },
  {
   "cell_type": "code",
   "execution_count": null,
   "id": "148af4e2-242a-443e-a91a-0bd69cdd2948",
   "metadata": {},
   "outputs": [],
   "source": [
    "plt.plot(norm_df.iloc[0]['Point_norm_sample']+norm_df.iloc[1]['Point_norm_sample'])\n",
    "plt.text(norm_df.iloc[0]['Point_norm_sample'][-1])"
   ]
  },
  {
   "cell_type": "code",
   "execution_count": null,
   "id": "bb9c8377-8363-4072-9b71-4e01b012c826",
   "metadata": {
    "tags": []
   },
   "outputs": [],
   "source": [
    "len(norm_df.iloc[0][2]), len(norm_df.iloc[0][3])\n"
   ]
  },
  {
   "cell_type": "code",
   "execution_count": null,
   "id": "b421ac7f-d534-4f43-bef6-34eaae221246",
   "metadata": {},
   "outputs": [],
   "source": [
    "len(df['Norm_amplitude_yvalue'].iloc[0])"
   ]
  },
  {
   "cell_type": "code",
   "execution_count": null,
   "id": "a5fea7b6-0a60-429e-9533-f23dfe0a0963",
   "metadata": {},
   "outputs": [],
   "source": [
    "df.iloc[0], df.iloc[1]"
   ]
  },
  {
   "cell_type": "code",
   "execution_count": null,
   "id": "7ec31422-93b3-4208-9f69-7816acd4e2ee",
   "metadata": {},
   "outputs": [],
   "source": [
    "# resampling 하면서 얻어진 rpeak 위치 찾기 \n"
   ]
  },
  {
   "cell_type": "code",
   "execution_count": null,
   "id": "f17ef8df-a713-4741-987e-be102a40d1bc",
   "metadata": {},
   "outputs": [],
   "source": []
  },
  {
   "cell_type": "code",
   "execution_count": null,
   "id": "bf3ac9e0-1419-48c8-8376-d5de16d07994",
   "metadata": {},
   "outputs": [],
   "source": [
    "# Task: 1. R-R interval 나누기 + 3. R-R time frame(data points) Normalization \n",
    "\n",
    "# rr-interval\n",
    "def minmax_norm_amplitude():\n",
    "    df_rr_intervals = pd.DataFrame(columns=['RR_index', 'RR_interval', 'Norm_amplitude_yvalue'])\n",
    "\n",
    "    for i in range(len(rpeaks)):\n",
    "        if i + 1 == len(rpeaks):\n",
    "            break\n",
    "        else:\n",
    "            rr_interval = rpeaks.iloc[i+1] - rpeaks.iloc[i]\n",
    "            new_yval = yvals_MinMax[int(rpeaks.iloc[i]):int(rpeaks.iloc[i+1])]\n",
    "            new_yval_1d = sum(new_yval.tolist(), [])\n",
    "\n",
    "            # add data into dictionary(dataframe )\n",
    "            tmp = pd.DataFrame({'RR_index':i, 'RR_interval':rr_interval, 'Norm_amplitude_yvalue': [new_yval_1d]})\n",
    "                                # \"rr_index: i \" means 0:rpeak[1]-rpeak[0]\n",
    "            df_rr_intervals = pd.concat([df_rr_intervals, tmp])\n",
    "    return df_rr_intervals\n",
    "\n",
    "# plt.hist(rr_intervals)# np.mean(rr_intervals), np.median(rr_intervals), np.max(rr_intervals)"
   ]
  },
  {
   "cell_type": "code",
   "execution_count": null,
   "id": "ce6f45e1-3173-4b19-9183-55e41d570cb8",
   "metadata": {
    "scrolled": true,
    "tags": []
   },
   "outputs": [],
   "source": [
    "# resampling\n",
    "from scipy import signal\n",
    "\n",
    "p_new_yval_1ds = []\n",
    "point_norm_sample = int(np.median(df_rr_intervals['RR_interval']))\n",
    "#new_column = \n",
    "for i in range(len(df_rr_intervals)):\n",
    "    p_new_yval = signal.resample(df_rr_intervals['Norm_amplitude_yvalue'].iloc[i], point_norm_sample)\n",
    "    p_new_yval_1d = p_new_yval.tolist()\n",
    "    p_new_yval_1ds.append(p_new_yval_1d)\n",
    "    \n",
    "#norm_df = pd.concat(df_rr_intervals, df_rr_intervals[''])\n",
    "norm_df = df_rr_intervals.assign(Point_norm_sample = p_new_yval_1ds)"
   ]
  },
  {
   "cell_type": "code",
   "execution_count": null,
   "id": "eab5f593-5cf6-412c-83ad-229e60a9ea03",
   "metadata": {},
   "outputs": [],
   "source": [
    "norm_df"
   ]
  },
  {
   "cell_type": "code",
   "execution_count": null,
   "id": "d137e984-c30b-4973-a540-781c20eb41f1",
   "metadata": {},
   "outputs": [],
   "source": [
    "norm_df.iloc[3]#['RR_index']"
   ]
  },
  {
   "cell_type": "code",
   "execution_count": null,
   "id": "fdc8d412-fefa-43b8-a57a-af43cd1bc7fd",
   "metadata": {},
   "outputs": [],
   "source": [
    "# cut off 0.95\n",
    "int(len(cos_df) * 0.95)"
   ]
  },
  {
   "cell_type": "code",
   "execution_count": null,
   "id": "8951d516-7d02-47f6-a2ed-985ad0d51e90",
   "metadata": {},
   "outputs": [],
   "source": [
    "cos_df.head()#['[int(len(cos_df) * 0.95)]"
   ]
  },
  {
   "cell_type": "code",
   "execution_count": null,
   "id": "ba08fcab-8932-4ac5-a913-96c68875f87e",
   "metadata": {},
   "outputs": [],
   "source": [
    "cutoff_95 = cos_df.iloc[0:4898]['index'].tolist()"
   ]
  },
  {
   "cell_type": "code",
   "execution_count": null,
   "id": "219e5342-0660-4d4f-a05f-d238131c77ae",
   "metadata": {},
   "outputs": [],
   "source": [
    "# cufoff_95"
   ]
  },
  {
   "cell_type": "code",
   "execution_count": null,
   "id": "d299cabc-9dce-409b-8dd4-24421d738e6c",
   "metadata": {},
   "outputs": [],
   "source": [
    "ref_frame = norm_df.iloc[int(cos_df.iloc[0]['index'])]"
   ]
  },
  {
   "cell_type": "code",
   "execution_count": null,
   "id": "2e0d987b-d3db-4bb1-88ba-1054d4078868",
   "metadata": {},
   "outputs": [],
   "source": [
    "cos_df.iloc[0], norm_df.iloc[0]"
   ]
  },
  {
   "cell_type": "code",
   "execution_count": null,
   "id": "d3ad66bb-022f-4746-939c-48bd931fad15",
   "metadata": {},
   "outputs": [],
   "source": [
    "fig = plt.figure(figsize=(20,10))\n",
    "plt.plot(ref_frame['Point_norm_sample'])"
   ]
  },
  {
   "cell_type": "code",
   "execution_count": null,
   "id": "abdf761e-8727-4f7b-a462-ee8f913cf3e4",
   "metadata": {},
   "outputs": [],
   "source": [
    "norm_df.iloc[0]['RR_index']"
   ]
  },
  {
   "cell_type": "code",
   "execution_count": null,
   "id": "c5b44a69-641a-4567-a8e7-154b6b151172",
   "metadata": {
    "scrolled": true,
    "tags": []
   },
   "outputs": [],
   "source": [
    "for i in range(len(cutoff_95)):\n",
    "    if norm_df.iloc[i]['RR_index'] in cutoff_95:\n",
    "        fig = plt.figure(figsize=(20,10))\n",
    "        plt.plot(norm_df.iloc[i]['Point_norm_sample'])"
   ]
  },
  {
   "cell_type": "code",
   "execution_count": null,
   "id": "433ccae9-7287-4423-a52b-4fbef8243475",
   "metadata": {},
   "outputs": [],
   "source": [
    "sample_yvals = sum(norm_df['Point_norm_sample'].tolist(), [])"
   ]
  },
  {
   "cell_type": "code",
   "execution_count": null,
   "id": "bbb8d51b-34e4-4262-83d1-7ec96f056c1a",
   "metadata": {},
   "outputs": [],
   "source": [
    "len(sample_yvals)"
   ]
  },
  {
   "cell_type": "code",
   "execution_count": null,
   "id": "e98aabb5-befd-4ebd-9e19-aa135eb26579",
   "metadata": {},
   "outputs": [],
   "source": [
    "np.median(norm_df['RR_interval']) , len(norm_df), np.median(norm_df['RR_interval']) * len(norm_df)"
   ]
  },
  {
   "cell_type": "code",
   "execution_count": null,
   "id": "5e6046f9-c729-4aa1-a597-156056d1f09b",
   "metadata": {},
   "outputs": [],
   "source": [
    "fig = plt.figure(figsize=(20,10))\n",
    "plt.plot(sample_yvals[0:5000])\n",
    "%matplotlib qt"
   ]
  },
  {
   "cell_type": "code",
   "execution_count": null,
   "id": "9dc4085d-f1d5-4d9f-a223-d2ebced2b808",
   "metadata": {},
   "outputs": [],
   "source": [
    "norm_df.iloc[0]['RR_index'] #1406"
   ]
  },
  {
   "cell_type": "code",
   "execution_count": null,
   "id": "ff27fdd1-24a5-4c23-9d37-f50ff9df67f4",
   "metadata": {},
   "outputs": [],
   "source": [
    "amplitude_norm = sum(norm_df['Norm_amplitude_yvalue'].tolist(), [])"
   ]
  },
  {
   "cell_type": "code",
   "execution_count": null,
   "id": "fdec5c63-e3a3-42a0-99cf-764aef44b98b",
   "metadata": {},
   "outputs": [],
   "source": [
    "%matplotlib qt\n",
    "plt.figure(figsize=(20,10))\n",
    "plt.plot(amplitude_norm[0:1000])"
   ]
  },
  {
   "cell_type": "code",
   "execution_count": null,
   "id": "9e34b83b-2b33-48a1-aef9-2e3a0692a8f2",
   "metadata": {},
   "outputs": [],
   "source": [
    "fig = plt.figure(figsize=(20,10))\n",
    "plt.plot(sample_yvals[0:1000])\n",
    "# plt.plot(amplitude_norm[0:5000])"
   ]
  },
  {
   "cell_type": "code",
   "execution_count": null,
   "id": "260d1770-c69a-480a-9e54-ffddd7b88884",
   "metadata": {},
   "outputs": [],
   "source": [
    "fig = plt.figure(figsize=(20,10))\n",
    "plt.plot(yvals[0:1000])"
   ]
  },
  {
   "cell_type": "code",
   "execution_count": null,
   "id": "60a33bda-0388-42ab-ac56-f8ae92c2539e",
   "metadata": {},
   "outputs": [],
   "source": []
  },
  {
   "cell_type": "code",
   "execution_count": null,
   "id": "abc99bed-dd1b-461a-8c12-f90c4b088644",
   "metadata": {},
   "outputs": [],
   "source": [
    "rpeaks\n",
    "yvals"
   ]
  },
  {
   "cell_type": "code",
   "execution_count": null,
   "id": "bcfdab93-7dd7-412b-8ead-61b819b1bc2c",
   "metadata": {},
   "outputs": [],
   "source": []
  },
  {
   "cell_type": "code",
   "execution_count": null,
   "id": "da1cb1c1-4473-4be2-aaf1-7f801cf871fa",
   "metadata": {},
   "outputs": [],
   "source": [
    "new = data[\"Gender\"].isin([\"Male\"])"
   ]
  },
  {
   "cell_type": "code",
   "execution_count": null,
   "id": "0510e219-d65a-4508-ae6c-e565e3c330f5",
   "metadata": {},
   "outputs": [],
   "source": [
    "\n",
    "\n",
    "for i in range(len(norm_df)):\n",
    "    if norm_df['RR_index'][i]\n",
    "    isin\n",
    "    \n"
   ]
  },
  {
   "cell_type": "code",
   "execution_count": null,
   "id": "8a770907-f531-4086-8691-36ecde6c0e17",
   "metadata": {},
   "outputs": [],
   "source": []
  },
  {
   "cell_type": "code",
   "execution_count": null,
   "id": "5cf0aa21-721f-447c-9b91-9d6308bb4bfa",
   "metadata": {},
   "outputs": [],
   "source": []
  },
  {
   "cell_type": "code",
   "execution_count": null,
   "id": "b5c6d9e4-c09f-422b-aa29-87897c97eaba",
   "metadata": {},
   "outputs": [],
   "source": []
  },
  {
   "cell_type": "code",
   "execution_count": null,
   "id": "8288b3eb-e49b-4894-9b78-d44133110aae",
   "metadata": {},
   "outputs": [],
   "source": []
  },
  {
   "cell_type": "code",
   "execution_count": null,
   "id": "defa66ae-fa94-43ce-8c31-ce6c7d12e216",
   "metadata": {},
   "outputs": [],
   "source": [
    "new_yval = yvals_MinMax[int(rpeaks.iloc[i]):int(rpeaks.iloc[i+1])]"
   ]
  },
  {
   "cell_type": "code",
   "execution_count": null,
   "id": "60fa5344-f623-4824-86fe-8c8d7f380b3c",
   "metadata": {},
   "outputs": [],
   "source": [
    "pd.DataFrame({'RR_index':i, 'RR_interval':rr_interval})\n",
    "pd.DataFrame({'Normalized_yvalue': [new_yval_1d]})#.transpose"
   ]
  },
  {
   "cell_type": "code",
   "execution_count": null,
   "id": "301c1aba-f42b-4ca0-b945-42bbffb9c2aa",
   "metadata": {},
   "outputs": [],
   "source": [
    "pd.DataFrame({'RR_index':i, 'RR_interval':rr_interval, 'Normalized_yvalue': new_yval_1d})"
   ]
  },
  {
   "cell_type": "code",
   "execution_count": null,
   "id": "284ed9bf-8b2f-421d-b8ae-6284b98bf45d",
   "metadata": {},
   "outputs": [],
   "source": [
    "flat_list = [item for sublist in t for item in sublist]"
   ]
  },
  {
   "cell_type": "code",
   "execution_count": null,
   "id": "359bca5a-991e-4c80-b26f-5ca8337bb553",
   "metadata": {},
   "outputs": [],
   "source": []
  },
  {
   "cell_type": "code",
   "execution_count": null,
   "id": "9000aa47-162e-4773-9b2e-ea836b503c40",
   "metadata": {},
   "outputs": [],
   "source": [
    "# Task: 3. R-R time frame(data points) Normalization \n",
    "# rr_interval, yvals\n",
    "\n",
    "rr_intervals = []\n",
    "y_vals = []\n",
    "for i in range(len(rpeaks)):\n",
    "    if i + 1 == len(rpeaks):\n",
    "        break\n",
    "    else:\n",
    "        rr_interval = rpeaks.iloc[i+1] - rpeaks.iloc[i]\n",
    "        y_val = fxvals_MinMax[int(rpeaks.iloc[i]):int(rpeaks.iloc[i+1])]\n",
    "        rr_intervals.append(int(rr_interval))\n",
    "        y_vals.append(y_val)\n",
    "        \n",
    "len(y_vals), len(rr_intervals)"
   ]
  },
  {
   "cell_type": "code",
   "execution_count": null,
   "id": "4058f895-47ef-4486-9635-9cb22da706c7",
   "metadata": {},
   "outputs": [],
   "source": []
  },
  {
   "cell_type": "code",
   "execution_count": null,
   "id": "5b777a24-6804-44ca-ae13-311d5306f3f3",
   "metadata": {},
   "outputs": [],
   "source": []
  }
 ],
 "metadata": {
  "kernelspec": {
   "display_name": "Python 3",
   "language": "python",
   "name": "python3"
  },
  "language_info": {
   "codemirror_mode": {
    "name": "ipython",
    "version": 3
   },
   "file_extension": ".py",
   "mimetype": "text/x-python",
   "name": "python",
   "nbconvert_exporter": "python",
   "pygments_lexer": "ipython3",
   "version": "3.8.8"
  },
  "toc-autonumbering": true,
  "toc-showcode": true,
  "toc-showmarkdowntxt": true
 },
 "nbformat": 4,
 "nbformat_minor": 5
}
