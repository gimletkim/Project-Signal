{
 "cells": [
  {
   "cell_type": "markdown",
   "id": "feb04299-3d77-4374-8e4f-f04a2ef9c310",
   "metadata": {},
   "source": [
    "# cutoff.py"
   ]
  },
  {
   "cell_type": "markdown",
   "id": "17e48857-d594-45d3-85d5-bf494cff75f6",
   "metadata": {},
   "source": [
    "## Date: 2021-09-29"
   ]
  },
  {
   "cell_type": "code",
   "execution_count": 1,
   "id": "b13e0824-fd4b-4bb9-be84-2069394fa8df",
   "metadata": {},
   "outputs": [],
   "source": [
    "# Load library\n",
    "import os \n",
    "import glob\n",
    "import pandas as pd\n",
    "import numpy as np\n",
    "import matplotlib.pyplot as plt\n",
    "from scipy.spatial import distance\n",
    "from sklearn.preprocessing import MinMaxScaler\n",
    "from sklearn.metrics.pairwise import cosine_similarity,cosine_distances\n",
    "from scipy import signal"
   ]
  },
  {
   "cell_type": "code",
   "execution_count": null,
   "id": "54c08a4b-6c76-4084-9f76-c0d4d2c45e14",
   "metadata": {},
   "outputs": [],
   "source": [
    "PATH_IN = "
   ]
  },
  {
   "cell_type": "code",
   "execution_count": null,
   "id": "102a96a4-4341-4319-9751-768352a9ff05",
   "metadata": {},
   "outputs": [],
   "source": [
    "'''\n",
    "# # Task Steps: \n",
    "# 1. load data\n",
    "# 2. data에서 rr-interval 개수 확인\n",
    "# 3. 90%, 95% 식으로 cutoff설정\n",
    "# 4. cutoff설정된 값으로 return되는 value, value개수 확인\n",
    "# 5. optional 눈으로 graph를 겹쳐보아요~!\n",
    "\n",
    "'''"
   ]
  },
  {
   "cell_type": "code",
   "execution_count": null,
   "id": "f3f992db-feff-49be-9417-bf549bcdd9a4",
   "metadata": {},
   "outputs": [],
   "source": [
    "pd.read_csv(os.path.join(PATH_IN, ))"
   ]
  },
  {
   "cell_type": "code",
   "execution_count": 2,
   "id": "0e87b682-8e2f-4671-befb-c819d5748de1",
   "metadata": {},
   "outputs": [],
   "source": [
    "PATH_IN = r'C:\\Users\\MI2RL-KHJ\\workspace_signal\\mit\\processed_arr\\cosine_sim'\n",
    "\n",
    "os.chdir(PATH_IN)\n",
    "cos_sim_arr = [i for i in os.listdir(PATH_IN)]"
   ]
  },
  {
   "cell_type": "code",
   "execution_count": 5,
   "id": "35e738d6-be51-45ba-a014-d80ce640b9d9",
   "metadata": {},
   "outputs": [
    {
     "data": {
      "text/plain": [
       "(2271, 2157.0, 2044.0)"
      ]
     },
     "execution_count": 5,
     "metadata": {},
     "output_type": "execute_result"
    }
   ],
   "source": [
    "df = pd.read_csv(cos_sim_arr[0])\n",
    "len(df), round(len(df)*0.95,0), np.round(len(df)*0.90,0)"
   ]
  },
  {
   "cell_type": "code",
   "execution_count": 15,
   "id": "c5c96da0-08ac-4115-a3e7-c02562f5caa8",
   "metadata": {},
   "outputs": [
    {
     "data": {
      "text/plain": [
       "Unnamed: 0         2156.000000\n",
       "index              1003.000000\n",
       "cos_sim               0.999278\n",
       "original_points     276.000000\n",
       "Name: 2156, dtype: float64"
      ]
     },
     "execution_count": 15,
     "metadata": {},
     "output_type": "execute_result"
    }
   ],
   "source": [
    "df['cos_sim'][int(round(len(df)*0.95,0)-1)]\n",
    "df.loc[int(round(len(df)*0.95,0)-1)]"
   ]
  },
  {
   "cell_type": "code",
   "execution_count": 75,
   "id": "e7fc9e0b-fbbb-41f0-a27c-36bb332cc38d",
   "metadata": {},
   "outputs": [
    {
     "data": {
      "text/plain": [
       "Text(0.5, 1.0, 'A')"
      ]
     },
     "execution_count": 75,
     "metadata": {},
     "output_type": "execute_result"
    },
    {
     "data": {
      "image/png": "[encoded data removed]",
      "text/plain": [
       "<Figure size 432x288 with 1 Axes>"
      ]
     },
     "metadata": {
      "needs_background": "light"
     },
     "output_type": "display_data"
    }
   ],
   "source": [
    "plt.hist(df['original_points'])\n",
    "plt.xlabel('Sample points')\n",
    "plt.ylabel('Number')\n",
    "plt.ylim(0,max(plt.hist(df['original_points'])[0])*1.1)\n",
    "plt.text(np.median(df['original_points'])*1.0000, max(plt.hist(df['original_points'])[0]*1.03), 'median: {}'.format(np.median(df['original_points'])))\n",
    "#plt.grid()\n",
    "plt.title('A')"
   ]
  },
  {
   "cell_type": "code",
   "execution_count": 99,
   "id": "19db9ca0-9519-49f7-a789-b4406fa7ead6",
   "metadata": {},
   "outputs": [],
   "source": [
    "# PATH_IN = r'C:\\Users\\MI2RL-KHJ\\workspace_signal\\mit\\processed_arr\\cosine_sim'\n",
    "# os.chdir(PATH_IN)\n",
    "\n",
    "def set_cut_off(PATH_IN, cut_off_value1, cut_off_value2):\n",
    "    \n",
    "    os.chdir(PATH_IN)\n",
    "    cos_sim = [i for i in os.listdir(PATH_IN)]\n",
    "    origin_cos_disc = pd.DataFrame()\n",
    "#    header = 'subject'  + ','+  'datatype'  + ','+  'origin_len'  + ','+   'cut_off1_length' + ','+  'cut_off2_length' + ','+ 'cut_off1_value' + ','+ 'cut_off2_value'+ ','+  'median_origin_len'+ ','+  'mean_origin_len'+ ','+  'std_origin_len'+ ','+  'min_origin_len'+ ','+  '25%_origin_len' + ','+ '50%_origin_len' + ','+  '75%_origin_len' + ','+ 'max__origin_len'\n",
    "    \n",
    "    for i in range(len(cos_sim)):\n",
    "        \n",
    "        datatype = cos_sim[0].split('.csv')[0].split('_')[2]\n",
    "        subject = cos_sim[0].split('.csv')[0].split('_')[3]\n",
    "        ref = cos_sim[0].split('.csv')[0].split('_')[4]\n",
    "        \n",
    "        df = pd.read_csv(cos_sim[i])\n",
    "#         cutoff = str(len(df)) + ','+  str(round(len(df)*cut_off_value2,0)) + ','+  str(np.round(len(df)*cut_off_value2,0)) + ','+ '\\n'\n",
    "        \n",
    "        # find cut-off's value and length\n",
    "        org_len = len(df)\n",
    "        cut1_len = np.round(len(df)*cut_off_value1,0)\n",
    "        cut1_value = df['cos_sim'][int(round(len(df)*cut_off_value1,0)-1)]\n",
    "        cut2_len = np.round(len(df)*cut_off_value2,0)\n",
    "        cut2_value = df['cos_sim'][int(round(len(df)*cut_off_value2,0)-1)]\n",
    "        \n",
    "        # Condsier outliers in original points \n",
    "        # point_des1 = df['original_points'].describe()['count']\n",
    "        point_des1 = np.median(df['original_points'])\n",
    "        point_des2 = df['original_points'].describe()['mean']\n",
    "        point_des3 = df['original_points'].describe()['std']\n",
    "        point_des4 = df['original_points'].describe()['min']\n",
    "        point_des5 = df['original_points'].describe()['25%']\n",
    "        point_des6 = df['original_points'].describe()['50%']\n",
    "        point_des7 = df['original_points'].describe()['75%']\n",
    "        point_des8 = df['original_points'].describe()['max']\n",
    "    \n",
    "        tmp_df = pd.DataFrame({'subject': subject, 'datatype': datatype,  'origin_len': org_len,  'cut_off1_length':cut1_len, 'cut_off2_length': cut2_len, 'cut_off1_value':cut1_value, \n",
    "          'cut_off2_value':cut1_value, 'median_origin_len':point_des1, 'mean_origin_len':point_des2, 'std_origin_len': point_des3, 'min_origin_len':point_des4, \n",
    "          '25%_origin_len':point_des5, '50%_origin_len':point_des6, '75%_origin_len':point_des7, 'max__origin_len':point_des8}, index = ['{}_{}'.format(dataype, subject)])\n",
    "#                               index = ['subject', 'datatype', 'origin_len','cut_off1_length','cut_off2_length','cut_off1_value','cut_off2_value','median_origin_len','mean_origin_len',\n",
    "#                                        'std_origin_len','min_origin_len','25%_origin_len','50%_origin_len','75%_origin_len','max__origin_len']\n",
    "        \n",
    "        try: \n",
    "            mkdir(os.path.join(PATH_IN, 'cos_disc'))\n",
    "        except: \n",
    "            pass\n",
    "        \n",
    "        # \n",
    "        origin_cos_disc.append(tmp_df)\n",
    "                              \n",
    "        # save the distribution of original points                       \n",
    "        plt.hist(df['original_points'])\n",
    "        plt.xlabel('Sample points')\n",
    "        plt.ylabel('Number')\n",
    "        plt.ylim(0,max(plt.hist(df['original_points'])[0])*1.1)\n",
    "        plt.text(np.median(df['original_points'])*1.0000, max(plt.hist(df['original_points'])[0]*1.03), 'median: {}'.format(np.median(df['original_points'])))\n",
    "        plt.title('The distribution of original points: {}_{}'.format(datatype, subject))\n",
    "        plt.savefig('{}\\\\cos_disc\\\\{}_{}_{}.png'.format(PATHIN, datatype, subject, ref))\n",
    "        break\n",
    "                              \n",
    "    origin_cos_disc.to_csv(os.path.join(PATH_IN, cos_disc, 'cos_dis.csv'), sep=',')"
   ]
  },
  {
   "cell_type": "markdown",
   "id": "bed71bf5-0b76-438b-810b-533b8128908f",
   "metadata": {},
   "source": [
    "## Final codes"
   ]
  },
  {
   "cell_type": "code",
   "execution_count": 275,
   "id": "c1b4b6d1-9020-4913-acd1-47f7cfd4c1e8",
   "metadata": {},
   "outputs": [],
   "source": [
    "# Final code \n",
    "def set_cut_off(PATH_IN, cut_off_value1, cut_off_value2):\n",
    "    os.chdir(PATH_IN)\n",
    "    cos_sim = [i for i in os.listdir(PATH_IN)]\n",
    "    origin_cos_disc = pd.DataFrame()\n",
    "    colunm_name = ['subject', 'datatype', 'origin_len', 'cut_off: {}'.format(cut_off_value1), 'cut_off: {}'.format(cut_off_value2),'cut_off1_value','cut_off2_value','median_origin_len','mean_origin_len', 'std_origin_len','min_origin_len','25%_origin_len','50%_origin_len','75%_origin_len','max__origin_len']\n",
    "\n",
    "    cos_disc = pd.DataFrame(columns= colunm_name)    \n",
    "    for i in range(len(cos_sim)):\n",
    "\n",
    "        if cos_sim[i].endswith('.csv'):\n",
    "            datatype = cos_sim[i].split('.csv')[0].split('_')[2]\n",
    "            subject = cos_sim[i].split('.csv')[0].split('_')[3]\n",
    "            ref = cos_sim[i].split('.csv')[0].split('_')[4]\n",
    "            \n",
    "            print('>>>>> processing: {}'.format(subject))\n",
    "\n",
    "            df = pd.read_csv(cos_sim[i])\n",
    "        #         cutoff = str(len(df)) + ','+  str(round(len(df)*cut_off_value2,0)) + ','+  str(np.round(len(df)*cut_off_value2,0)) + ','+ '\\n'\n",
    "\n",
    "            # find cut-off's value and length\n",
    "            org_len = len(df)\n",
    "            cut1_len = np.round(len(df)*cut_off_value1,0)\n",
    "            cut1_value = df['cos_sim'][int(round(len(df)*cut_off_value1,0)-1)]\n",
    "            cut2_len = np.round(len(df)*cut_off_value2,0)\n",
    "            cut2_value = df['cos_sim'][int(round(len(df)*cut_off_value2,0)-1)]\n",
    "\n",
    "            # Condsier outliers in original points \n",
    "            # point_des1 = df['original_points'].describe()['count']\n",
    "            point_des1 = np.median(df['original_points'])\n",
    "            point_des2 = df['original_points'].describe()['mean']\n",
    "            point_des3 = df['original_points'].describe()['std']\n",
    "            point_des4 = df['original_points'].describe()['min']\n",
    "            point_des5 = df['original_points'].describe()['25%']\n",
    "            point_des6 = df['original_points'].describe()['50%']\n",
    "            point_des7 = df['original_points'].describe()['75%']\n",
    "            point_des8 = df['original_points'].describe()['max']\n",
    "\n",
    "            tmp_df = pd.DataFrame({'subject': subject, 'datatype': datatype,  'origin_len': org_len,  'cut_off: {}'.format(cut_off_value1) :cut1_len, 'cut_off: {}'.format(cut_off_value2): cut2_len, 'cut_off1_value':cut1_value, \n",
    "              'cut_off2_value':cut2_value, 'median_origin_len':point_des1, 'mean_origin_len':point_des2, 'std_origin_len': point_des3, 'min_origin_len':point_des4, \n",
    "              '25%_origin_len':point_des5, '50%_origin_len':point_des6, '75%_origin_len':point_des7, 'max__origin_len':point_des8}, index = ['{}_{}'.format(datatype, subject)])\n",
    "#         #                               index = ['subject', 'datatype', 'origin_len','cut_off1_length','cut_off2_length','cut_off1_value','cut_off2_value','median_origin_len','mean_origin_len',\n",
    "#         #                                        'std_origin_len','min_origin_len','25%_origin_len','50%_origin_len','75%_origin_len','max__origin_len']\n",
    "\n",
    "            # \n",
    "#             globals()['df_{}'.format(subject)] = pd.DataFrame({'subject': subject, 'datatype': datatype,  'origin_len': org_len,  cut_off_value1:cut1_len, cut_off_value2: cut2_len, 'cut_off1_value':cut1_value, \n",
    "#               'cut_off2_value':cut1_value, 'median_origin_len':point_des1, 'mean_origin_len':point_des2, 'std_origin_len': point_des3, 'min_origin_len':point_des4, \n",
    "#               '25%_origin_len':point_des5, '50%_origin_len':point_des6, '75%_origin_len':point_des7, 'max__origin_len':point_des8}, index = ['{}_{}'.format(datatype, subject)])\n",
    "            \n",
    "            try:\n",
    "                #print(os.path.join(PATH_IN, 'cos_disc'))\n",
    "                os.mkdir(os.path.join(PATH_IN, 'cos_disc'))\n",
    "\n",
    "            except: \n",
    "                pass #print('Already made')\n",
    "\n",
    "\n",
    "            # save the distribution of original points                       \n",
    "            fig = plt.figure()\n",
    "            y, x, _= plt.hist(df['original_points'])\n",
    "            plt.xlabel('Sample points')\n",
    "            plt.ylabel('Number')\n",
    "            plt.ylim(0,max(y)*1.1)\n",
    "            plt.text(np.median(df['original_points'])*1.0000, max(y)*1.03, 'median: {}'.format(np.median(df['original_points'])))\n",
    "            plt.title('The distribution of original points: {}_{}'.format(datatype, subject))\n",
    "            fig.savefig(os.path.join(PATH_IN, 'cos_disc\\{}_{}_{}.png'.format(datatype, subject, ref)))\n",
    "            plt.close(fig)\n",
    "\n",
    "            # plt.savefig('fig1.png', dpi=300)\n",
    "        \n",
    "            # update dataframe \n",
    "            # origin_cos_disc.show()\n",
    "            \n",
    "            cos_disc = cos_disc.append(tmp_df)\n",
    "        else:\n",
    "            print('It is not *.csv file')\n",
    "\n",
    "\n",
    "    cos_disc.to_csv(os.path.join(PATH_IN, 'cos_disc', 'cos_dis.csv'), sep=',')\n",
    "    print(\"=========== Fin ========== \")"
   ]
  },
  {
   "cell_type": "code",
   "execution_count": 269,
   "id": "6aeca2c9-ad26-45bf-8f31-624a00e69bbc",
   "metadata": {},
   "outputs": [
    {
     "data": {
      "image/png": "[encoded data removed]",
      "text/plain": [
       "<Figure size 432x288 with 1 Axes>"
      ]
     },
     "metadata": {
      "needs_background": "light"
     },
     "output_type": "display_data"
    }
   ],
   "source": [
    "## example\n",
    "# fig = plt.figure()\n",
    "# y, x, _= plt.hist(df['original_points'])\n",
    "# plt.xlabel('Sample points')\n",
    "# plt.ylabel('Number')\n",
    "# plt.ylim(0,max(y)*1.1)\n",
    "# plt.text(np.median(df['original_points'])*1.0000, max(y)*1.03, 'median: {}'.format(np.median(df['original_points'])))\n",
    "# plt.title('The distribution of original points: {}_{}'.format(datatype, subject))\n",
    "# fig.savefig(r'C:\\Users\\MI2RL-KHJ\\test.png')"
   ]
  },
  {
   "cell_type": "code",
   "execution_count": 190,
   "id": "3ad1ad8e-4485-4654-ae4c-ba668ac2147e",
   "metadata": {
    "scrolled": true,
    "tags": []
   },
   "outputs": [
    {
     "name": "stdout",
     "output_type": "stream",
     "text": [
      "It is not *.csv file\n",
      ">>>>> processing: 00\n",
      ">>>>> processing: 01\n",
      ">>>>> processing: 02\n",
      ">>>>> processing: 03\n",
      ">>>>> processing: 04\n",
      ">>>>> processing: 05\n",
      ">>>>> processing: 06\n",
      ">>>>> processing: 07\n",
      ">>>>> processing: 08\n",
      ">>>>> processing: 09\n",
      ">>>>> processing: 10\n",
      ">>>>> processing: 11\n",
      ">>>>> processing: 12\n",
      ">>>>> processing: 13\n",
      ">>>>> processing: 14\n",
      ">>>>> processing: 15\n",
      ">>>>> processing: 16\n",
      ">>>>> processing: 17\n",
      ">>>>> processing: 18\n",
      ">>>>> processing: 19\n",
      ">>>>> processing: 20\n",
      ">>>>> processing: 21\n",
      ">>>>> processing: 22\n",
      ">>>>> processing: 23\n",
      ">>>>> processing: 24\n",
      ">>>>> processing: 25\n",
      ">>>>> processing: 26\n",
      ">>>>> processing: 27\n",
      ">>>>> processing: 28\n",
      ">>>>> processing: 29\n",
      ">>>>> processing: 30\n",
      ">>>>> processing: 31\n",
      ">>>>> processing: 32\n",
      ">>>>> processing: 33\n",
      ">>>>> processing: 34\n",
      ">>>>> processing: 35\n",
      ">>>>> processing: 36\n",
      ">>>>> processing: 37\n",
      ">>>>> processing: 38\n",
      ">>>>> processing: 39\n",
      ">>>>> processing: 40\n",
      ">>>>> processing: 41\n",
      ">>>>> processing: 42\n",
      ">>>>> processing: 43\n",
      ">>>>> processing: 44\n",
      ">>>>> processing: 45\n",
      ">>>>> processing: 46\n",
      ">>>>> processing: 47\n",
      "=========== Fin ========== \n"
     ]
    }
   ],
   "source": [
    "PATH_IN =  r'C:\\Users\\MI2RL-KHJ\\workspace_signal\\mit\\processed_arr\\cosine_sim'\n",
    "cut_off_value1 = 0.9\n",
    "cut_off_value2 = 0.95\n",
    "set_cut_off(PATH_IN, cut_off_value1, cut_off_value2)"
   ]
  },
  {
   "cell_type": "code",
   "execution_count": 276,
   "id": "11eddaf1-a862-48c7-b78a-3d3e50b380ce",
   "metadata": {},
   "outputs": [
    {
     "name": "stdout",
     "output_type": "stream",
     "text": [
      "It is not *.csv file\n",
      ">>>>> processing: 00\n",
      ">>>>> processing: 01\n",
      ">>>>> processing: 02\n",
      ">>>>> processing: 03\n",
      ">>>>> processing: 04\n",
      ">>>>> processing: 05\n",
      ">>>>> processing: 06\n",
      ">>>>> processing: 07\n",
      ">>>>> processing: 08\n",
      ">>>>> processing: 09\n",
      ">>>>> processing: 10\n",
      ">>>>> processing: 11\n",
      ">>>>> processing: 12\n",
      ">>>>> processing: 13\n",
      ">>>>> processing: 14\n",
      ">>>>> processing: 15\n",
      ">>>>> processing: 16\n",
      ">>>>> processing: 17\n",
      "It is not *.csv file\n",
      "=========== Fin ========== \n"
     ]
    }
   ],
   "source": [
    "PATH_IN =  r'C:\\Users\\MI2RL-KHJ\\workspace_signal\\mit\\processed_norm\\cosine_sim'\n",
    "cut_off_value1 = 0.9\n",
    "cut_off_value2 = 0.95\n",
    "set_cut_off(PATH_IN, cut_off_value1, cut_off_value2)"
   ]
  },
  {
   "cell_type": "code",
   "execution_count": 214,
   "id": "2e6d0cfb-c829-4aa4-8a8e-22abed119ab6",
   "metadata": {},
   "outputs": [
    {
     "name": "stdout",
     "output_type": "stream",
     "text": [
      ">>>>> processing: 08\n",
      ">>>>> processing: 09\n",
      ">>>>> processing: 10\n",
      ">>>>> processing: 11\n",
      ">>>>> processing: 12\n",
      ">>>>> processing: 13\n",
      ">>>>> processing: 14\n",
      ">>>>> processing: 15\n",
      ">>>>> processing: 16\n",
      ">>>>> processing: 19\n",
      ">>>>> processing: 20\n",
      ">>>>> processing: 21\n",
      ">>>>> processing: 22\n",
      ">>>>> processing: 38\n",
      ">>>>> processing: 39\n",
      ">>>>> processing: 40\n",
      ">>>>> processing: 41\n",
      ">>>>> processing: 42\n",
      ">>>>> processing: 43\n",
      ">>>>> processing: 44\n",
      ">>>>> processing: 45\n",
      ">>>>> processing: 46\n",
      ">>>>> processing: 47\n",
      "=========== Fin ========== \n"
     ]
    }
   ],
   "source": [
    "PATH_IN =  r'C:\\Users\\MI2RL-KHJ\\workspace_signal\\mit\\processed_arrx\\cosine_sim'\n",
    "cut_off_value1 = 0.9\n",
    "cut_off_value2 = 0.95\n",
    "set_cut_off(PATH_IN, cut_off_value1, cut_off_value2)"
   ]
  },
  {
   "cell_type": "code",
   "execution_count": null,
   "id": "c03180a6-0851-438c-85d6-06e91296bf99",
   "metadata": {},
   "outputs": [],
   "source": []
  }
 ],
 "metadata": {
  "kernelspec": {
   "display_name": "Python 3",
   "language": "python",
   "name": "python3"
  },
  "language_info": {
   "codemirror_mode": {
    "name": "ipython",
    "version": 3
   },
   "file_extension": ".py",
   "mimetype": "text/x-python",
   "name": "python",
   "nbconvert_exporter": "python",
   "pygments_lexer": "ipython3",
   "version": "3.8.8"
  }
 },
 "nbformat": 4,
 "nbformat_minor": 5
}
