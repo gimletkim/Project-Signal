{
 "cells": [
  {
   "cell_type": "code",
   "execution_count": 1,
   "id": "a6fb89d6-f18a-4f14-b909-32f74981e47f",
   "metadata": {},
   "outputs": [],
   "source": [
    "from dtaidistance import dtw\n",
    "from dtaidistance import dtw_visualisation as dtwvis\n",
    "import numpy as np"
   ]
  },
  {
   "cell_type": "code",
   "execution_count": 2,
   "id": "f820ff01-d293-4178-aadd-97a823847111",
   "metadata": {},
   "outputs": [],
   "source": [
    "s1 = np.array([0., 0, 1, 2, 1, 0, 1, 0, 0, 2, 1, 0, 0])\n",
    "s2 = np.array([0., 1, 2, 3, 1, 0, 0, 0, 2, 1, 0, 0, 0])"
   ]
  },
  {
   "cell_type": "code",
   "execution_count": 3,
   "id": "29770920-512b-47ec-8c35-9c97d23b9405",
   "metadata": {},
   "outputs": [
    {
     "data": {
      "text/plain": [
       "(None, None)"
      ]
     },
     "execution_count": 3,
     "metadata": {},
     "output_type": "execute_result"
    }
   ],
   "source": [
    "path = dtw.warping_path(s1, s2)\n",
    "dtwvis.plot_warping(s1, s2, path, filename=\"warp.png\")"
   ]
  },
  {
   "cell_type": "code",
   "execution_count": 4,
   "id": "b15eae79-4d0a-4cf5-99f3-67107b7c263d",
   "metadata": {},
   "outputs": [
    {
     "name": "stdout",
     "output_type": "stream",
     "text": [
      "1.4142135623730951\n"
     ]
    }
   ],
   "source": [
    "distance = dtw.distance(s1, s2)\n",
    "print(distance)"
   ]
  },
  {
   "cell_type": "code",
   "execution_count": 7,
   "id": "702bb7ad-bcb6-493e-adbc-5535f4e52439",
   "metadata": {},
   "outputs": [
    {
     "name": "stdout",
     "output_type": "stream",
     "text": [
      "\n",
      "    Dynamic Time Warping.\n",
      "\n",
      "    This function keeps a compact matrix, not the full warping paths matrix.\n",
      "\n",
      "    :param s1: First sequence\n",
      "    :param s2: Second sequence\n",
      "    :param window: Only allow for maximal shifts from the two diagonals smaller than this number.\n",
      "        It includes the diagonal, meaning that an Euclidean distance is obtained by setting window=1.\n",
      "    :param max_dist: Stop if the returned values will be larger than this value\n",
      "    :param max_step: Do not allow steps larger than this value\n",
      "    :param max_length_diff: Return infinity if length of two series is larger\n",
      "    :param penalty: Penalty to add if compression or expansion is applied\n",
      "    :param psi: Psi relaxation parameter (ignore start and end of matching).\n",
      "        Useful for cyclical series.\n",
      "    :param use_c: Use fast pure c compiled functions\n",
      "    :param use_pruning: Prune values based on Euclidean distance.\n",
      "        This is the same as passing ub_euclidean() to max_dist\n",
      "    :param only_ub: Only compute the upper bound (Euclidean).\n",
      "\n",
      "    Returns: DTW distance\n",
      "    \n"
     ]
    }
   ],
   "source": [
    "print(dtw.distance.__doc__)"
   ]
  },
  {
   "cell_type": "code",
   "execution_count": 3,
   "id": "2042f037-0e07-4495-9859-36096d55c750",
   "metadata": {},
   "outputs": [],
   "source": [
    "# load qt data \n",
    "\n",
    "import os\n",
    "\n",
    "path = os.chdir(r'C:\\Users\\MI2RL-KHJ\\workspace_signal\\qt\\qt-database-1.0.0')"
   ]
  },
  {
   "cell_type": "code",
   "execution_count": 8,
   "id": "26678a2a-cc97-4003-ac40-1ca317f9f5a3",
   "metadata": {},
   "outputs": [],
   "source": [
    "ext = [] \n",
    "for i in os.listdir(path):\n",
    "    try:\n",
    "        ext.append(i.split('.')[1])\n",
    "    except:\n",
    "        pass"
   ]
  },
  {
   "cell_type": "code",
   "execution_count": 13,
   "id": "dcabf1cd-b558-4cb5-8ff6-e6e7577cdd53",
   "metadata": {},
   "outputs": [
    {
     "data": {
      "text/plain": [
       "{'atr',\n",
       " 'dat',\n",
       " 'hea',\n",
       " 'hea-',\n",
       " 'man',\n",
       " 'pu',\n",
       " 'pu0',\n",
       " 'pu1',\n",
       " 'q1c',\n",
       " 'q2c',\n",
       " 'qt1',\n",
       " 'qt2',\n",
       " 'txt',\n",
       " 'xws'}"
      ]
     },
     "execution_count": 13,
     "metadata": {},
     "output_type": "execute_result"
    }
   ],
   "source": [
    "len(set(ext))\n",
    "set(ext)"
   ]
  }
 ],
 "metadata": {
  "kernelspec": {
   "display_name": "Python 3",
   "language": "python",
   "name": "python3"
  },
  "language_info": {
   "codemirror_mode": {
    "name": "ipython",
    "version": 3
   },
   "file_extension": ".py",
   "mimetype": "text/x-python",
   "name": "python",
   "nbconvert_exporter": "python",
   "pygments_lexer": "ipython3",
   "version": "3.8.8"
  }
 },
 "nbformat": 4,
 "nbformat_minor": 5
}
