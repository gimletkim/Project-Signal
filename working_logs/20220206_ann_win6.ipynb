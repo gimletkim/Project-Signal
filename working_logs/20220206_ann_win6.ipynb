{
 "cells": [
  {
   "cell_type": "code",
   "execution_count": 1,
   "id": "1dfe5bb4-8440-405e-9f46-4171fa901d73",
   "metadata": {},
   "outputs": [],
   "source": [
    "import pandas as pd\n",
    "import numpy as np\n",
    "import matplotlib\n",
    "%matplotlib inline\n",
    "import matplotlib.pylab as plt\n",
    "import os\n",
    "import sys\n",
    "import glob\n",
    "import tqdm\n",
    "import random\n",
    "from itertools import cycle\n",
    "import warnings\n",
    "warnings.filterwarnings(action='ignore')\n",
    "\n",
    "import wfdb\n",
    "\n",
    "from sklearn.metrics import roc_auc_score, roc_curve, classification_report, auc\n",
    "from sklearn.preprocessing import label_binarize"
   ]
  },
  {
   "cell_type": "code",
   "execution_count": 2,
   "id": "aed41011-a355-4284-9458-aac6f9b787ee",
   "metadata": {},
   "outputs": [
    {
     "name": "stdout",
     "output_type": "stream",
     "text": [
      "['100.atr', '100.dat', '100.hea', '100.xws', '101.atr', '101.dat', '101.hea', '101.xws', '102-0.atr', '102.atr', '102.dat', '102.hea', '102.xws', '103.atr', '103.dat', '103.hea', '103.xws', '104.atr', '104.dat', '104.hea', '104.xws', '105.atr', '105.dat', '105.hea', '105.xws', '106.atr', '106.dat', '106.hea', '106.xws', '107.atr', '107.dat', '107.hea', '107.xws', '108.atr', '108.at_', '108.dat', '108.hea', '108.xws', '109.atr', '109.dat', '109.hea', '109.xws', '111.atr', '111.dat', '111.hea', '111.xws', '112.atr', '112.dat', '112.hea', '112.xws', '113.atr', '113.dat', '113.hea', '113.xws', '114.atr', '114.dat', '114.hea', '114.xws', '115.atr', '115.dat', '115.hea', '115.xws', '116.atr', '116.dat', '116.hea', '116.xws', '117.atr', '117.at_', '117.dat', '117.hea', '117.xws', '118.atr', '118.dat', '118.hea', '118.xws', '119.atr', '119.at_', '119.dat', '119.hea', '119.xws', '121.atr', '121.dat', '121.hea', '121.xws', '122.atr', '122.dat', '122.hea', '122.xws', '123.atr', '123.dat', '123.hea', '123.xws', '124.atr', '124.dat', '124.hea', '124.xws', '200.atr', '200.dat', '200.hea', '200.xws', '201.atr', '201.dat', '201.hea', '201.xws', '202.atr', '202.dat', '202.hea', '202.xws', '203.at-', '203.atr', '203.at_', '203.dat', '203.hea', '203.xws', '205.atr', '205.dat', '205.hea', '205.xws', '207.atr', '207.dat', '207.hea', '207.xws', '208.atr', '208.dat', '208.hea', '208.xws', '209.atr', '209.at_', '209.dat', '209.hea', '209.xws', '210.atr', '210.dat', '210.hea', '210.xws', '212.atr', '212.dat', '212.hea', '212.xws', '213.atr', '213.dat', '213.hea', '213.xws', '214.atr', '214.at_', '214.dat', '214.hea', '214.xws', '215.atr', '215.at_', '215.dat', '215.hea', '215.xws', '217.atr', '217.dat', '217.hea', '217.xws', '219.atr', '219.dat', '219.hea', '219.xws', '220.atr', '220.dat', '220.hea', '220.xws', '221.atr', '221.dat', '221.hea', '221.xws', '222.atr', '222.at_', '222.dat', '222.hea', '222.xws', '223.atr', '223.dat', '223.hea', '223.xws', '228.atr', '228.dat', '228.hea', '228.xws', '230.atr', '230.dat', '230.hea', '230.xws', '231.atr', '231.dat', '231.hea', '231.xws', '232.atr', '232.dat', '232.hea', '232.xws', '233.atr', '233.dat', '233.hea', '233.xws', '234.atr', '234.dat', '234.hea', '234.xws', 'ANNOTATORS', 'mitdbdir', 'RECORDS', 'SHA256SUMS.txt', 'x_mitdb']\n"
     ]
    }
   ],
   "source": [
    "# datapath\n",
    "datapath = r'C:\\Users\\green\\Project\\signal\\mit-bih-arrhythmia-database-1.0.0'\n",
    "# mimic dataset 파일 구성: hea, atr, dat, xws\n",
    "print(os.listdir(datapath))"
   ]
  },
  {
   "cell_type": "code",
   "execution_count": 3,
   "id": "dfe05f38-d84b-4f46-bf3d-ed96aec8e45e",
   "metadata": {},
   "outputs": [],
   "source": [
    "header_files = [os.path.basename(x) for x in glob.glob(os.path.join(datapath, '*.hea'))]\n",
    "pids = sorted([x.split('.')[0] for x in header_files])"
   ]
  },
  {
   "cell_type": "code",
   "execution_count": 4,
   "id": "22641307-6762-4c0e-bc98-19e539044e4d",
   "metadata": {},
   "outputs": [],
   "source": [
    "# annotation 파일 불러와서 label의 분포 확인\n",
    "df = pd.DataFrame()\n",
    "\n",
    "for pid in pids:\n",
    "    file = os.path.join(datapath, pid)\n",
    "    annotation = wfdb.rdann(os.path.join(file), 'atr')\n",
    "    symbols = annotation.symbol\n",
    "    \n",
    "    values, cnts = np.unique(symbols, return_counts=True)\n",
    "    df_sub = pd.DataFrame({'symbol': values, 'value': cnts, 'pid':[pid] * len(cnts)})\n",
    "    df = pd.concat([df, df_sub], axis=0)"
   ]
  },
  {
   "cell_type": "code",
   "execution_count": 5,
   "id": "88adcc51-d319-404a-aa9d-95c38fac15c9",
   "metadata": {},
   "outputs": [
    {
     "data": {
      "text/plain": [
       "symbol\n",
       "N    75052\n",
       "L     8075\n",
       "R     7259\n",
       "V     7130\n",
       "/     7028\n",
       "A     2546\n",
       "+     1291\n",
       "f      982\n",
       "F      803\n",
       "~      616\n",
       "!      472\n",
       "\"      437\n",
       "j      229\n",
       "x      193\n",
       "a      150\n",
       "|      132\n",
       "E      106\n",
       "J       83\n",
       "Q       33\n",
       "e       16\n",
       "[        6\n",
       "]        6\n",
       "S        2\n",
       "Name: value, dtype: int64"
      ]
     },
     "execution_count": 5,
     "metadata": {},
     "output_type": "execute_result"
    }
   ],
   "source": [
    "# Annotation 파일의 분포\n",
    "df.groupby('symbol').value.sum().sort_values(ascending = False)"
   ]
  },
  {
   "cell_type": "code",
   "execution_count": 6,
   "id": "1f82212d-16da-47b8-8c6a-1634d3ccb260",
   "metadata": {},
   "outputs": [],
   "source": [
    "# list of nonbeat and abnormal\n",
    "nonbeat = ['[','!',']','x','(',')','p','t','u','`',\n",
    "           '\\'','^','|','~','+','s','T','*','D','=','\"','@','Q','?']\n",
    "abnormal = ['L','R','V','/','A','f','F','j','a','E','J','e','S']"
   ]
  },
  {
   "cell_type": "code",
   "execution_count": 7,
   "id": "3e4d1d7b-5392-48e8-9c45-1a5b9f8cd9a0",
   "metadata": {},
   "outputs": [],
   "source": [
    "# normal, abnormal, nonbeat의 비율 구성 확인\n",
    "df['type'] = -1 # nonbeat\n",
    "df.loc[df.symbol == 'N', 'type'] = 0 # normal\n",
    "df.loc[df.symbol.isin(abnormal), 'type'] = 1 # abnormal"
   ]
  },
  {
   "cell_type": "code",
   "execution_count": 8,
   "id": "02dfb822-9ea7-40e2-b1b5-302469418c25",
   "metadata": {},
   "outputs": [],
   "source": [
    "df['type2'] = 'Non-beat' # nonbeat\n",
    "df.loc[df.symbol == 'N', 'type2'] = 'Normal' # normal\n",
    "df.loc[df.symbol.isin(abnormal), 'type2'] = 'Abnormal' # abnormal"
   ]
  },
  {
   "cell_type": "code",
   "execution_count": 9,
   "id": "280edc58-b631-4e17-be47-ca04242850a4",
   "metadata": {},
   "outputs": [
    {
     "data": {
      "text/plain": [
       "type2\n",
       "Abnormal    34409\n",
       "Non-beat     3186\n",
       "Normal      75052\n",
       "Name: value, dtype: int64"
      ]
     },
     "execution_count": 9,
     "metadata": {},
     "output_type": "execute_result"
    }
   ],
   "source": [
    "df.groupby('type2').value.sum()"
   ]
  },
  {
   "cell_type": "markdown",
   "id": "e57d1194-ad57-4187-bfc4-1e720442bf76",
   "metadata": {},
   "source": [
    "###"
   ]
  },
  {
   "cell_type": "markdown",
   "id": "ce7338d4-9390-4aff-9439-af927bf69903",
   "metadata": {
    "tags": []
   },
   "source": [
    "#### Define ECG data loading funcdtion"
   ]
  },
  {
   "cell_type": "markdown",
   "id": "dc4dec0f-8b1a-4a1a-918c-6c79fba2f409",
   "metadata": {},
   "source": [
    "- wfdb 패키지를 이용하여 ECG waveform과 annotation을 불러올 수 있는 함수를 정의합니다.\n",
    "- rdrecord 함수를 이용하여 raw signal 데이터를 불러옵니다\n",
    "- rdann 함수를 이용하여 annotation 데이터의 symbol 과 symbol의 index를 불러옵니다."
   ]
  },
  {
   "cell_type": "code",
   "execution_count": 10,
   "id": "ac915998-f779-4971-a026-bde0b731f600",
   "metadata": {},
   "outputs": [],
   "source": [
    "# load single patient's ecg signal and annotation\n",
    "def load_ecg(file):\n",
    "    \"\"\"\n",
    "    wfdb.rdrecord 를 이용해서 ecg 파일을 읽어옵니다.\n",
    "    \"\"\"\n",
    "    \n",
    "    # load the ecg\n",
    "    record = wfdb.rdrecord(file)\n",
    "    # load the annotation\n",
    "    annotation = wfdb.rdann(file, 'atr')\n",
    "    \n",
    "    # extract the signal\n",
    "    p_signal = record.p_signal\n",
    "    \n",
    "    # verify frequency is 360\n",
    "    assert record.fs == 360, 'sample freq is not 360'\n",
    "    \n",
    "    # extract symbols and annotation index\n",
    "    atr_sym = annotation.symbol\n",
    "    atr_index = annotation.sample\n",
    "    \n",
    "    return p_signal, atr_sym, atr_index"
   ]
  },
  {
   "cell_type": "markdown",
   "id": "fe7a7604-483a-46cb-a4a2-29a2aa50386c",
   "metadata": {},
   "source": [
    "예시로 신호 데이터의 일부를 plotting 해보면 다음과 같습니다.\n",
    "여기서, 각 변수는 다음을 의미합니다.\n",
    "- p_signal = raw ecg signal\n",
    "- atr_sym = annotation symbol\n",
    "- atr_sample = annotation index"
   ]
  },
  {
   "cell_type": "code",
   "execution_count": 11,
   "id": "2d6f7e94-017e-4303-80d0-cc045538cb96",
   "metadata": {},
   "outputs": [
    {
     "data": {
      "text/plain": [
       "[<matplotlib.lines.Line2D at 0x1f4f073c3c8>]"
      ]
     },
     "execution_count": 11,
     "metadata": {},
     "output_type": "execute_result"
    },
    {
     "data": {
      "image/png": "[encoded data removed]",
      "text/plain": [
       "<Figure size 432x288 with 1 Axes>"
      ]
     },
     "metadata": {
      "needs_background": "light"
     },
     "output_type": "display_data"
    }
   ],
   "source": [
    "file = os.path.join(datapath, pids[0])\n",
    "p_signal, atr_sym, atr_sample = load_ecg(file)\n",
    "plt.plot(p_signal[1000:2000, 0])"
   ]
  },
  {
   "cell_type": "markdown",
   "id": "60a5d428-5309-4a09-9a01-1ea5c0c55cb9",
   "metadata": {},
   "source": [
    "이 환자 케이스에서 가지고 있는 annotation을 살펴보면 다음과 같습니다."
   ]
  },
  {
   "cell_type": "code",
   "execution_count": 12,
   "id": "82cc80c9-686a-4906-9d9e-97593b5f6ab2",
   "metadata": {},
   "outputs": [
    {
     "name": "stdout",
     "output_type": "stream",
     "text": [
      "+ 1\n",
      "A 33\n",
      "N 2239\n",
      "V 1\n"
     ]
    }
   ],
   "source": [
    "values, counts = np.unique(atr_sym, return_counts = True)\n",
    "for v, c in zip(values, counts):\n",
    "    print(v, c)"
   ]
  },
  {
   "cell_type": "markdown",
   "id": "98f7cb9d-3b3a-48ab-ae90-cc24f3903794",
   "metadata": {},
   "source": [
    "이 중 abnormal에 해당되는 annotation의 위치를 살펴보면 다음과 같습니다."
   ]
  },
  {
   "cell_type": "code",
   "execution_count": 13,
   "id": "c414b246-f60a-4a93-851f-9da9b98a64e1",
   "metadata": {},
   "outputs": [
    {
     "data": {
      "text/plain": [
       "[2044, 66792, 74986, 99579, 128085, 170719, 279576, 305709, 307745, 312825]"
      ]
     },
     "execution_count": 13,
     "metadata": {},
     "output_type": "execute_result"
    }
   ],
   "source": [
    "# get abnormal beat index\n",
    "ab_index = [b for a,b in zip(atr_sym,atr_sample) if a in abnormal][:10]\n",
    "ab_index"
   ]
  },
  {
   "cell_type": "markdown",
   "id": "b34a9ef5-1164-46b6-95f3-35364d09aaaa",
   "metadata": {},
   "source": [
    "위의 abnormal에 해당되는 annotation의 index를 기준으로, 전후 3초의 ecg signal을 plotting 해보면 다음과 같습니다."
   ]
  },
  {
   "cell_type": "code",
   "execution_count": 14,
   "id": "3701a6f1-1781-4f1e-878d-fb3d30e7ece0",
   "metadata": {},
   "outputs": [
    {
     "data": {
      "image/png": "[encoded data removed]",
      "text/plain": [
       "<Figure size 1080x576 with 1 Axes>"
      ]
     },
     "metadata": {
      "needs_background": "light"
     },
     "output_type": "display_data"
    }
   ],
   "source": [
    "x = np.arange(len(p_signal))\n",
    "left = ab_index[1]-(360*3) # 전 3초\n",
    "right = ab_index[1]+(360*3) # 후 3초\n",
    "\n",
    "plt.figure(figsize=(15, 8))\n",
    "plt.plot(x[left:right],p_signal[left:right,0],'-',label='ecg',)\n",
    "plt.plot(x[atr_sample],p_signal[atr_sample,0],'go',label ='normal')\n",
    "plt.plot(x[ab_index],p_signal[ab_index,0],'ro',label='abnormal')\n",
    "\n",
    "plt.xlim(left,right)\n",
    "plt.ylim(p_signal[left:right].min()-0.05,p_signal[left:right,0].max()+0.05)\n",
    "plt.xlabel('time index')\n",
    "plt.ylabel('ECG signal')\n",
    "plt.legend(bbox_to_anchor = (1.04,1), loc = 'upper left')\n",
    "plt.show()"
   ]
  },
  {
   "cell_type": "markdown",
   "id": "27152c19-2201-4f71-9d38-4fb2947767a5",
   "metadata": {},
   "source": [
    "------"
   ]
  },
  {
   "cell_type": "markdown",
   "id": "ecda88e7-9790-4dd8-8819-d29c8118edd5",
   "metadata": {},
   "source": [
    "### 3. Preparing dataset for deep learning"
   ]
  },
  {
   "cell_type": "markdown",
   "id": "99906ce4-c933-4527-86ba-ad4dec52c921",
   "metadata": {},
   "source": [
    "#### 3-1. Define functions to build dataset for deep learning"
   ]
  },
  {
   "cell_type": "markdown",
   "id": "cabab5cb-df05-4f29-a6d5-2f374b69f11d",
   "metadata": {},
   "source": [
    "- 이제 본격적으로 딥러닝에 사용할 데이터셋을 구축 해보겠습니다.\n",
    "- 데이터셋 구축 방법은 딥러닝 모델의 구조와 추후 모델 활용 방식에 따라 여러가지가 있을 수 있습니다.\n",
    "- 본 강의에서는 n초의 raw signal waveform내에 arrhythmia를 포함하는지 아닌지를 detect 할 수 있는 딥러닝 모델을 만들어 보겠습니다.\n",
    "- annotation 된 index를 기준으로, 전 후 n/2초의 raw signal을 하나의 segment로 자르고 그에 상응하는 annotation symbol을 label로 지정하여 데이터셋을 구축하겠습니다."
   ]
  },
  {
   "cell_type": "markdown",
   "id": "80e865eb-1e78-47ca-8bac-70376971c615",
   "metadata": {},
   "source": [
    "- 우선 non-beat annotation을 제외하고 normal symbol과 abnormal symbol의 index만 추출합니다.\n",
    "- 추출된 annotation index를 기준으로 순회하며 abnormal symbol인 경우는 Y 값에 1을 할당하고, normal beat는 0을 할당합니다.\n",
    "- 또한 대응되는 annotation symbol을 별도로 추출하여 symbol값에 할당합니다."
   ]
  },
  {
   "cell_type": "code",
   "execution_count": 15,
   "id": "ab9fe890-ad1b-4f66-8f14-7e33d6d45370",
   "metadata": {},
   "outputs": [],
   "source": [
    "def build_dataset(pids, window_size, freq, abnormal):\n",
    "    \"\"\"\n",
    "    딥러닝 모델 학습을 위한 데이터를 구축합니다.\n",
    "    \"\"\"\n",
    "    ncols = window_size * freq\n",
    "    X_merged = np.zeros((1, ncols))\n",
    "    Y_merged = np.zeros((1,1))\n",
    "    symbol_merged = []\n",
    "    \n",
    "    rows_per_pid = []\n",
    "    \n",
    "    for pid in tqdm.tqdm(pids):\n",
    "        \n",
    "        filename = os.path.join(datapath, pid)\n",
    "        # filename = datapath + pid\n",
    "        p_signal, atr_sym, atr_sample = load_ecg(filename)\n",
    "        \n",
    "        p_signal = p_signal[:,0]\n",
    "        \n",
    "        # beat index (exclude non-beat)\n",
    "        beat_annotation_index = [x in (abnormal + ['N']) for x in atr_sym]\n",
    "        \n",
    "        X, Y, symbols = build_XY(signal=p_signal, \n",
    "                                 atr_sym = atr_sym, \n",
    "                                 atr_sample = atr_sample,\n",
    "                                 beat_index = beat_annotation_index, \n",
    "                                 nsec = window_size/2, \n",
    "                                 fs = freq,\n",
    "                                 ncols = ncols,\n",
    "                                 abnormal = abnormal)\n",
    "        \n",
    "        X_merged = np.append(X_merged, X, axis=0)\n",
    "        Y_merged = np.append(Y_merged, Y, axis=0)\n",
    "        symbol_merged = symbol_merged + symbols\n",
    "        rows_per_pid.append(Y.shape[0])\n",
    "        \n",
    "    # drop first zero rows\n",
    "    X_merged = X_merged[1:,:]\n",
    "    Y_merged = Y_merged[1:,:]\n",
    "    \n",
    "    # check sizes make sense\n",
    "    assert np.sum(rows_per_pid) == X_merged.shape[0], 'number of X, max_rows rows messed up'\n",
    "    assert Y_merged.shape[0] == X_merged.shape[0], 'number of X, Y rows messed up'\n",
    "    assert Y_merged.shape[0] == len(symbol_merged), 'number of Y, sym rows messed up'\n",
    "    \n",
    "    return X_merged, Y_merged, symbol_merged\n",
    "\n",
    "\n",
    "def build_XY(signal, atr_sym, atr_sample, beat_index, nsec, fs, ncols, abnormal):\n",
    "    \"\"\"\n",
    "    하나의 환자 id에서 signal과 annotation을 추출합니다.\n",
    "    \"\"\"\n",
    "    \n",
    "    num_rows = len(beat_index)\n",
    "\n",
    "    X = np.zeros((num_rows, ncols))\n",
    "    Y = np.zeros((num_rows,1))\n",
    "    symbols = []\n",
    "    \n",
    "    # keep track of rows\n",
    "    max_row = 0\n",
    "    \n",
    "    beat_atr_sym = np.array(atr_sym)[beat_index]\n",
    "    beat_atr_sample = np.array(atr_sample)[beat_index]\n",
    "\n",
    "    for sym, samp in zip(beat_atr_sym, beat_atr_sample):\n",
    "\n",
    "        left = int(max([0,(samp - nsec*fs) ]))\n",
    "        right = int(min([len(signal),(samp + nsec*fs) ]))\n",
    "        \n",
    "        x = signal[left: right]\n",
    "        if len(x) == ncols:\n",
    "            X[max_row,:] = x\n",
    "            Y[max_row,:] = int(sym in abnormal)\n",
    "            symbols.append(sym)\n",
    "            max_row += 1\n",
    "    X = X[:max_row,:]\n",
    "    Y = Y[:max_row,:]\n",
    "    return X, Y, symbols"
   ]
  },
  {
   "cell_type": "markdown",
   "id": "7cb4abe3-28c1-4ab1-a9d1-3311a2f2cc2f",
   "metadata": {},
   "source": [
    "#### 3-2. Build train and validation dataset"
   ]
  },
  {
   "cell_type": "markdown",
   "id": "9a5d4ab9-66cf-44e4-8132-c56d35f9ea48",
   "metadata": {},
   "source": [
    "- train과 validation에 사용할 데이터셋을 각각 구축합니다.\n",
    "- 일반적인 딥러닝 학습시에는 다음과 같이 데이터를 구축합니다."
   ]
  },
  {
   "cell_type": "markdown",
   "id": "b2b257e3-6d27-41b1-9ad1-8d74ab2c984e",
   "metadata": {},
   "source": [
    "1. train dataset\n",
    "2. validation dataset\n",
    "3. test dataset"
   ]
  },
  {
   "cell_type": "markdown",
   "id": "c35f8545-8ac0-49b3-8ff9-d9d530fa2e51",
   "metadata": {},
   "source": [
    "- train dataset은 딥러닝 모델 학습에 사용되고,\n",
    "- validation dataset은 딥러닝 학습 시 overfitting 등을 검증하는데 활용되고,\n",
    "- test dataset은 딥러닝 모델 평가에 활용됩니다.\n"
   ]
  },
  {
   "cell_type": "markdown",
   "id": "d119afdd-0163-4aba-821a-e9d4faaf0633",
   "metadata": {},
   "source": [
    "본 강의에서는 편의상 train dataset 과 validation dataset 만 구축하여 모델을 학습하고 그 과정을 확인해보겠습니다."
   ]
  },
  {
   "cell_type": "markdown",
   "id": "1f90126f-b463-42cf-88e6-4a3776b1c7bc",
   "metadata": {},
   "source": [
    "여기서 주의할점은, case 기준으로 train과 validation을 구분해야 한다는 것입니다.\n",
    "case를 구분하지 않고 전체 sample에서 random하게 train/validation을 구분할 경우 딥러닝 모델의 성능은 우수한 것으로 나올 수 있지만 실제 성능은 (training data이외의 데이터에서 평가시) 성능이 떨어지는 경우가 발생할 수 있습니다"
   ]
  },
  {
   "cell_type": "code",
   "execution_count": 16,
   "id": "bb4a2056-3a04-4d4e-bf7f-c6f7aa306894",
   "metadata": {},
   "outputs": [],
   "source": [
    "# 6초의 segment로 데이터 구축\n",
    "window_size = 6\n",
    "frequency = 360\n",
    "batch_size = 1000"
   ]
  },
  {
   "cell_type": "code",
   "execution_count": 17,
   "id": "4ef5fb98-fb7f-45f1-b370-179aa23544cf",
   "metadata": {},
   "outputs": [],
   "source": [
    "# dataset split\n",
    "random.seed(77)\n",
    "pids_test = random.sample(pids, int(len(pids) / 4))\n",
    "pids_train = [pid for pid in pids if pid not in pids_test]"
   ]
  },
  {
   "cell_type": "code",
   "execution_count": 18,
   "id": "aeddec15-9b8a-4c11-8f1b-0996b3426be0",
   "metadata": {},
   "outputs": [
    {
     "name": "stderr",
     "output_type": "stream",
     "text": [
      "100%|██████████████████████████████████████████████████████████████████████████████████| 36/36 [00:45<00:00,  1.27s/it]\n",
      "100%|██████████████████████████████████████████████████████████████████████████████████| 12/12 [00:04<00:00,  2.56it/s]"
     ]
    },
    {
     "name": "stdout",
     "output_type": "stream",
     "text": [
      "Shape of train dataset: \n",
      " X: (82168, 2160) \n",
      " Y: (82168, 1) \n",
      " symbol: 82168 \n",
      "\n",
      "Shape of test dataset: \n",
      " X: (26931, 2160) \n",
      " Y: (26931, 1) \n",
      " symbol: 26931 \n",
      "\n"
     ]
    },
    {
     "name": "stderr",
     "output_type": "stream",
     "text": [
      "\n"
     ]
    }
   ],
   "source": [
    "# build dataset\n",
    "X_train, Y_train, symbol_train = build_dataset(pids_train, \n",
    "                                               window_size, \n",
    "                                               frequency, \n",
    "                                               abnormal)\n",
    "\n",
    "X_test, Y_test, symbol_test = build_dataset(pids_test,\n",
    "                                              window_size,\n",
    "                                              frequency,\n",
    "                                              abnormal)\n",
    "\n",
    "print(\"Shape of train dataset: \\n X: {} \\n Y: {} \\n symbol: {} \\n\".format(\n",
    "X_train.shape, Y_train.shape, len(symbol_train)))\n",
    "print(\"Shape of test dataset: \\n X: {} \\n Y: {} \\n symbol: {} \\n\".format(\n",
    "X_test.shape, Y_test.shape, len(symbol_test)))"
   ]
  },
  {
   "cell_type": "code",
   "execution_count": 19,
   "id": "d5b8efea-f43f-4d9e-90f8-fd16015a943d",
   "metadata": {},
   "outputs": [
    {
     "name": "stdout",
     "output_type": "stream",
     "text": [
      "['/' 'A' 'E' 'F' 'J' 'L' 'N' 'R' 'S' 'V' 'a' 'e' 'f' 'j']\n",
      "['/' 'A' 'F' 'L' 'N' 'R' 'V' 'a' 'j']\n"
     ]
    }
   ],
   "source": [
    "# train / test set symbol 확인\n",
    "print(np.unique(symbol_train))\n",
    "print(np.unique(symbol_test))"
   ]
  },
  {
   "cell_type": "code",
   "execution_count": 20,
   "id": "783b4ddb-e83b-45c2-bfb1-52895175ce25",
   "metadata": {},
   "outputs": [
    {
     "name": "stdout",
     "output_type": "stream",
     "text": [
      "30.569 %\n",
      "34.109 %\n"
     ]
    }
   ],
   "source": [
    "# train과 test set의 abnormal 비율 확인\n",
    "print('{:.3f} %'.format((Y_train.sum() / len(Y_train))* 100))\n",
    "print('{:.3f} %'.format((Y_test.sum() / len(Y_test))* 100))"
   ]
  },
  {
   "cell_type": "markdown",
   "id": "880807cc-5556-44d6-acfa-c25bfd013c62",
   "metadata": {},
   "source": [
    "---"
   ]
  },
  {
   "cell_type": "markdown",
   "id": "e4804d7e-a503-4b87-a38a-b5b8f06ded72",
   "metadata": {},
   "source": [
    "### 4. Deep Learning model training - binary classification"
   ]
  },
  {
   "cell_type": "markdown",
   "id": "a664c03e-8c1a-4f7a-9d56-1bbe9a33623e",
   "metadata": {},
   "source": [
    "- 첫번째 예제로 binary classification (이진분류) 을 수행해 보겠습니다.\n",
    "- 아주 단순한 Artificial Neural Network 모델을 사용할 것입니다.\n",
    "- 딥러닝 모델의 예측 결과가 0인 경우 normal beat 에 해당되고 1인 경우 abnormal에 해당합니다."
   ]
  },
  {
   "cell_type": "code",
   "execution_count": 27,
   "id": "11694c79-5fb8-46d1-b590-790bd1c2fdab",
   "metadata": {},
   "outputs": [],
   "source": [
    "import tensorflow as tf\n",
    "from tensorflow.keras.models import Sequential\n",
    "from tensorflow.keras.layers import Dense, Flatten, Dropout\n",
    "from tensorflow.keras import optimizers"
   ]
  },
  {
   "cell_type": "code",
   "execution_count": 28,
   "id": "db076a41-7701-4c87-935b-2582cddcf5a7",
   "metadata": {},
   "outputs": [],
   "source": [
    "fcn_model = Sequential()\n",
    "fcn_model.add(Dense(512, activation = 'relu'))\n",
    "fcn_model.add(Dropout(rate=0.25))\n",
    "fcn_model.add(Dense(128, activation = 'relu'))\n",
    "fcn_model.add(Dropout(rate=0.25))\n",
    "fcn_model.add(Dense(1, activation='sigmoid'))\n",
    "\n",
    "adam_optimizer = tf.optimizers.Adam(lr=0.00005)\n",
    "fcn_model.compile(loss='binary_crossentropy', optimizer=adam_optimizer, metrics=['accuracy'])"
   ]
  },
  {
   "cell_type": "code",
   "execution_count": 29,
   "id": "3bc7a05b-e6c8-48d6-821f-b14d05f38867",
   "metadata": {},
   "outputs": [
    {
     "name": "stdout",
     "output_type": "stream",
     "text": [
      "Epoch 1/10\n",
      "66/66 [==============================] - 14s 171ms/step - loss: 0.5475 - accuracy: 0.7419 - val_loss: 0.4155 - val_accuracy: 0.8419\n",
      "Epoch 2/10\n",
      "66/66 [==============================] - 6s 96ms/step - loss: 0.4001 - accuracy: 0.8382 - val_loss: 0.3434 - val_accuracy: 0.8736\n",
      "Epoch 3/10\n",
      "66/66 [==============================] - 6s 88ms/step - loss: 0.3343 - accuracy: 0.8698 - val_loss: 0.3096 - val_accuracy: 0.8870\n",
      "Epoch 4/10\n",
      "66/66 [==============================] - 6s 89ms/step - loss: 0.2877 - accuracy: 0.8934 - val_loss: 0.2826 - val_accuracy: 0.8941\n",
      "Epoch 5/10\n",
      "66/66 [==============================] - 6s 92ms/step - loss: 0.2492 - accuracy: 0.9100 - val_loss: 0.2599 - val_accuracy: 0.9042s - loss: 0.2513 - \n",
      "Epoch 6/10\n",
      "66/66 [==============================] - 6s 91ms/step - loss: 0.2189 - accuracy: 0.9238 - val_loss: 0.2524 - val_accuracy: 0.9060\n",
      "Epoch 7/10\n",
      "66/66 [==============================] - 6s 92ms/step - loss: 0.1913 - accuracy: 0.9348 - val_loss: 0.2429 - val_accuracy: 0.9107\n",
      "Epoch 8/10\n",
      "66/66 [==============================] - 6s 91ms/step - loss: 0.1697 - accuracy: 0.9434 - val_loss: 0.2444 - val_accuracy: 0.9120\n",
      "Epoch 9/10\n",
      "66/66 [==============================] - 6s 94ms/step - loss: 0.1540 - accuracy: 0.9505 - val_loss: 0.2426 - val_accuracy: 0.9155\n",
      "Epoch 10/10\n",
      "66/66 [==============================] - 6s 95ms/step - loss: 0.1395 - accuracy: 0.9554 - val_loss: 0.2446 - val_accuracy: 0.9181\n"
     ]
    }
   ],
   "source": [
    "fcn_train_history = fcn_model.fit(X_train, Y_train, epochs=10, batch_size = batch_size, verbose=1,\n",
    "                         validation_split = 0.2)"
   ]
  },
  {
   "cell_type": "code",
   "execution_count": 30,
   "id": "55de201f-1cc3-44b1-a3ec-06389ee2ce46",
   "metadata": {},
   "outputs": [
    {
     "data": {
      "text/plain": [
       "<matplotlib.legend.Legend at 0x1f487afed08>"
      ]
     },
     "execution_count": 30,
     "metadata": {},
     "output_type": "execute_result"
    },
    {
     "data": {
      "image/png": "[encoded data removed]",
      "text/plain": [
       "<Figure size 432x288 with 1 Axes>"
      ]
     },
     "metadata": {
      "needs_background": "light"
     },
     "output_type": "display_data"
    }
   ],
   "source": [
    "plt.plot(fcn_train_history.history['loss'])\n",
    "plt.plot(fcn_train_history.history['val_loss'])\n",
    "plt.title('model loss')\n",
    "plt.ylabel('accuracy')\n",
    "plt.xlabel('epoch')\n",
    "plt.legend(['train', 'valid'], loc='upper left')"
   ]
  },
  {
   "cell_type": "code",
   "execution_count": 31,
   "id": "98d6bcda-c642-4c28-838f-34c05059ecaa",
   "metadata": {},
   "outputs": [
    {
     "data": {
      "text/plain": [
       "<matplotlib.legend.Legend at 0x1f4ab298848>"
      ]
     },
     "execution_count": 31,
     "metadata": {},
     "output_type": "execute_result"
    },
    {
     "data": {
      "image/png": "[encoded data removed]",
      "text/plain": [
       "<Figure size 432x288 with 1 Axes>"
      ]
     },
     "metadata": {
      "needs_background": "light"
     },
     "output_type": "display_data"
    }
   ],
   "source": [
    "plt.plot(fcn_train_history.history['accuracy'])\n",
    "plt.plot(fcn_train_history.history['val_accuracy'])\n",
    "plt.title('model accuracy')\n",
    "plt.ylabel('accuracy')\n",
    "plt.xlabel('epoch')\n",
    "plt.legend(['train', 'valid'], loc='upper left')"
   ]
  },
  {
   "cell_type": "markdown",
   "id": "55f47578-c564-42eb-8a2c-21d62e3becd1",
   "metadata": {},
   "source": [
    "#### 4-4. Result"
   ]
  },
  {
   "cell_type": "code",
   "execution_count": 32,
   "id": "464ce7d0-7fe1-4e0a-aec1-eb6f27ff750c",
   "metadata": {},
   "outputs": [],
   "source": [
    "fcn_result = fcn_model.predict_classes(X_test)"
   ]
  },
  {
   "cell_type": "code",
   "execution_count": 33,
   "id": "e5712e4d-8a54-46c7-8393-21a7089a8234",
   "metadata": {},
   "outputs": [
    {
     "name": "stdout",
     "output_type": "stream",
     "text": [
      "              precision    recall  f1-score   support\n",
      "\n",
      "      normal       0.77      0.98      0.86     17745\n",
      "    abnormal       0.90      0.43      0.58      9186\n",
      "\n",
      "    accuracy                           0.79     26931\n",
      "   macro avg       0.83      0.70      0.72     26931\n",
      "weighted avg       0.81      0.79      0.76     26931\n",
      "\n"
     ]
    }
   ],
   "source": [
    "print(classification_report(Y_test, fcn_result, target_names=['normal', 'abnormal']))"
   ]
  }
 ],
 "metadata": {
  "kernelspec": {
   "display_name": "Python 3 (ipykernel)",
   "language": "python",
   "name": "python3"
  },
  "language_info": {
   "codemirror_mode": {
    "name": "ipython",
    "version": 3
   },
   "file_extension": ".py",
   "mimetype": "text/x-python",
   "name": "python",
   "nbconvert_exporter": "python",
   "pygments_lexer": "ipython3",
   "version": "3.7.11"
  }
 },
 "nbformat": 4,
 "nbformat_minor": 5
}
